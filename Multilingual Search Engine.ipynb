{
 "cells": [
  {
   "cell_type": "markdown",
   "metadata": {
    "id": "Dp3jq3Mb1D8p"
   },
   "source": [
    "Installing the required packages and importing required libraries:"
   ]
  },
  {
   "cell_type": "code",
   "execution_count": 1,
   "metadata": {
    "colab": {
     "base_uri": "https://localhost:8080/"
    },
    "id": "ru2OyCBZTapI",
    "outputId": "219485e6-fc04-4adb-e8eb-6a148ae88e8e"
   },
   "outputs": [
    {
     "name": "stdout",
     "output_type": "stream",
     "text": [
      "Collecting neuspell\n",
      "  Using cached neuspell-1.0.0-py3-none-any.whl (184 kB)\n",
      "Requirement already satisfied: sentencepiece in c:\\programdata\\anaconda3\\lib\\site-packages (from neuspell) (0.1.96)\n",
      "Requirement already satisfied: numpy in c:\\programdata\\anaconda3\\lib\\site-packages (from neuspell) (1.19.5)\n",
      "Requirement already satisfied: transformers in c:\\programdata\\anaconda3\\lib\\site-packages (from neuspell) (4.12.3)\n",
      "Requirement already satisfied: pytorch-pretrained-bert in c:\\programdata\\anaconda3\\lib\\site-packages (from neuspell) (0.6.2)\n",
      "Requirement already satisfied: tqdm in c:\\programdata\\anaconda3\\lib\\site-packages (from neuspell) (4.59.0)\n",
      "Requirement already satisfied: torch>=1.6.0 in c:\\programdata\\anaconda3\\lib\\site-packages (from neuspell) (1.10.0)\n",
      "Requirement already satisfied: jsonlines in c:\\programdata\\anaconda3\\lib\\site-packages (from neuspell) (2.0.0)\n",
      "Requirement already satisfied: typing-extensions in c:\\programdata\\anaconda3\\lib\\site-packages (from torch>=1.6.0->neuspell) (3.7.4.3)\n",
      "Requirement already satisfied: requests in c:\\programdata\\anaconda3\\lib\\site-packages (from pytorch-pretrained-bert->neuspell) (2.25.1)\n",
      "Requirement already satisfied: regex in c:\\programdata\\anaconda3\\lib\\site-packages (from pytorch-pretrained-bert->neuspell) (2021.4.4)\n",
      "Requirement already satisfied: boto3 in c:\\programdata\\anaconda3\\lib\\site-packages (from pytorch-pretrained-bert->neuspell) (1.20.2)\n",
      "Requirement already satisfied: jmespath<1.0.0,>=0.7.1 in c:\\programdata\\anaconda3\\lib\\site-packages (from boto3->pytorch-pretrained-bert->neuspell) (0.10.0)\n",
      "Requirement already satisfied: botocore<1.24.0,>=1.23.2 in c:\\programdata\\anaconda3\\lib\\site-packages (from boto3->pytorch-pretrained-bert->neuspell) (1.23.2)\n",
      "Requirement already satisfied: s3transfer<0.6.0,>=0.5.0 in c:\\programdata\\anaconda3\\lib\\site-packages (from boto3->pytorch-pretrained-bert->neuspell) (0.5.0)\n",
      "Requirement already satisfied: python-dateutil<3.0.0,>=2.1 in c:\\programdata\\anaconda3\\lib\\site-packages (from botocore<1.24.0,>=1.23.2->boto3->pytorch-pretrained-bert->neuspell) (2.8.1)\n",
      "Requirement already satisfied: urllib3<1.27,>=1.25.4 in c:\\programdata\\anaconda3\\lib\\site-packages (from botocore<1.24.0,>=1.23.2->boto3->pytorch-pretrained-bert->neuspell) (1.26.4)\n",
      "Requirement already satisfied: six>=1.5 in c:\\programdata\\anaconda3\\lib\\site-packages (from python-dateutil<3.0.0,>=2.1->botocore<1.24.0,>=1.23.2->boto3->pytorch-pretrained-bert->neuspell) (1.15.0)\n",
      "Requirement already satisfied: idna<3,>=2.5 in c:\\programdata\\anaconda3\\lib\\site-packages (from requests->pytorch-pretrained-bert->neuspell) (2.10)\n",
      "Requirement already satisfied: chardet<5,>=3.0.2 in c:\\programdata\\anaconda3\\lib\\site-packages (from requests->pytorch-pretrained-bert->neuspell) (4.0.0)\n",
      "Requirement already satisfied: certifi>=2017.4.17 in c:\\programdata\\anaconda3\\lib\\site-packages (from requests->pytorch-pretrained-bert->neuspell) (2020.12.5)\n",
      "Requirement already satisfied: pyyaml>=5.1 in c:\\programdata\\anaconda3\\lib\\site-packages (from transformers->neuspell) (5.4.1)\n",
      "Requirement already satisfied: packaging>=20.0 in c:\\programdata\\anaconda3\\lib\\site-packages (from transformers->neuspell) (20.9)\n",
      "Requirement already satisfied: sacremoses in c:\\programdata\\anaconda3\\lib\\site-packages (from transformers->neuspell) (0.0.46)\n",
      "Requirement already satisfied: filelock in c:\\programdata\\anaconda3\\lib\\site-packages (from transformers->neuspell) (3.0.12)\n",
      "Requirement already satisfied: tokenizers<0.11,>=0.10.1 in c:\\programdata\\anaconda3\\lib\\site-packages (from transformers->neuspell) (0.10.3)\n",
      "Requirement already satisfied: huggingface-hub<1.0,>=0.1.0 in c:\\programdata\\anaconda3\\lib\\site-packages (from transformers->neuspell) (0.1.2)\n",
      "Requirement already satisfied: pyparsing>=2.0.2 in c:\\programdata\\anaconda3\\lib\\site-packages (from packaging>=20.0->transformers->neuspell) (2.4.7)\n",
      "Requirement already satisfied: joblib in c:\\programdata\\anaconda3\\lib\\site-packages (from sacremoses->transformers->neuspell) (1.0.1)\n",
      "Requirement already satisfied: click in c:\\programdata\\anaconda3\\lib\\site-packages (from sacremoses->transformers->neuspell) (7.1.2)\n",
      "Installing collected packages: neuspell\n"
     ]
    },
    {
     "name": "stderr",
     "output_type": "stream",
     "text": [
      "ERROR: Could not install packages due to an OSError: [WinError 5] Access is denied: 'C:\\\\ProgramData\\\\Anaconda3\\\\Lib\\\\site-packages\\\\scripts\\\\__init__.py'\n",
      "Consider using the `--user` option or check the permissions.\n",
      "\n",
      "ERROR: neuspell/ is not a valid editable requirement. It should either be a path to a local project or a VCS URL (beginning with bzr+http, bzr+https, bzr+ssh, bzr+sftp, bzr+ftp, bzr+lp, bzr+file, git+http, git+https, git+ssh, git+git, git+file, hg+file, hg+http, hg+https, hg+ssh, hg+static-http, svn+ssh, svn+http, svn+https, svn+svn, svn+file).\n",
      "'git' is not recognized as an internal or external command,\n",
      "operable program or batch file.\n"
     ]
    },
    {
     "name": "stdout",
     "output_type": "stream",
     "text": [
      "Collecting DeepTextSearch\n",
      "  Downloading DeepTextSearch-0.3.tar.gz (5.3 kB)\n",
      "Requirement already satisfied: sentence_transformers in c:\\programdata\\anaconda3\\lib\\site-packages (from DeepTextSearch) (2.1.0)\n",
      "Requirement already satisfied: pandas in c:\\programdata\\anaconda3\\lib\\site-packages (from DeepTextSearch) (1.3.0)\n",
      "Requirement already satisfied: numpy in c:\\programdata\\anaconda3\\lib\\site-packages (from DeepTextSearch) (1.19.5)\n",
      "Requirement already satisfied: pytz>=2017.3 in c:\\programdata\\anaconda3\\lib\\site-packages (from pandas->DeepTextSearch) (2021.1)\n",
      "Requirement already satisfied: python-dateutil>=2.7.3 in c:\\programdata\\anaconda3\\lib\\site-packages (from pandas->DeepTextSearch) (2.8.1)\n",
      "Requirement already satisfied: six>=1.5 in c:\\programdata\\anaconda3\\lib\\site-packages (from python-dateutil>=2.7.3->pandas->DeepTextSearch) (1.15.0)\n",
      "Requirement already satisfied: transformers<5.0.0,>=4.6.0 in c:\\programdata\\anaconda3\\lib\\site-packages (from sentence_transformers->DeepTextSearch) (4.12.3)\n",
      "Requirement already satisfied: torchvision in c:\\programdata\\anaconda3\\lib\\site-packages (from sentence_transformers->DeepTextSearch) (0.11.1)\n",
      "Requirement already satisfied: nltk in c:\\programdata\\anaconda3\\lib\\site-packages (from sentence_transformers->DeepTextSearch) (3.6.1)\n",
      "Requirement already satisfied: scipy in c:\\programdata\\anaconda3\\lib\\site-packages (from sentence_transformers->DeepTextSearch) (1.6.2)\n",
      "Requirement already satisfied: tokenizers>=0.10.3 in c:\\programdata\\anaconda3\\lib\\site-packages (from sentence_transformers->DeepTextSearch) (0.10.3)\n",
      "Requirement already satisfied: sentencepiece in c:\\programdata\\anaconda3\\lib\\site-packages (from sentence_transformers->DeepTextSearch) (0.1.96)\n",
      "Requirement already satisfied: huggingface-hub in c:\\programdata\\anaconda3\\lib\\site-packages (from sentence_transformers->DeepTextSearch) (0.1.2)\n",
      "Requirement already satisfied: tqdm in c:\\programdata\\anaconda3\\lib\\site-packages (from sentence_transformers->DeepTextSearch) (4.59.0)\n",
      "Requirement already satisfied: torch>=1.6.0 in c:\\programdata\\anaconda3\\lib\\site-packages (from sentence_transformers->DeepTextSearch) (1.10.0)\n",
      "Requirement already satisfied: scikit-learn in c:\\programdata\\anaconda3\\lib\\site-packages (from sentence_transformers->DeepTextSearch) (0.24.1)\n",
      "Requirement already satisfied: typing-extensions in c:\\programdata\\anaconda3\\lib\\site-packages (from torch>=1.6.0->sentence_transformers->DeepTextSearch) (3.7.4.3)\n",
      "Requirement already satisfied: sacremoses in c:\\programdata\\anaconda3\\lib\\site-packages (from transformers<5.0.0,>=4.6.0->sentence_transformers->DeepTextSearch) (0.0.46)\n",
      "Requirement already satisfied: regex!=2019.12.17 in c:\\programdata\\anaconda3\\lib\\site-packages (from transformers<5.0.0,>=4.6.0->sentence_transformers->DeepTextSearch) (2021.4.4)\n",
      "Requirement already satisfied: packaging>=20.0 in c:\\programdata\\anaconda3\\lib\\site-packages (from transformers<5.0.0,>=4.6.0->sentence_transformers->DeepTextSearch) (20.9)\n",
      "Requirement already satisfied: filelock in c:\\programdata\\anaconda3\\lib\\site-packages (from transformers<5.0.0,>=4.6.0->sentence_transformers->DeepTextSearch) (3.0.12)\n",
      "Requirement already satisfied: requests in c:\\programdata\\anaconda3\\lib\\site-packages (from transformers<5.0.0,>=4.6.0->sentence_transformers->DeepTextSearch) (2.25.1)\n",
      "Requirement already satisfied: pyyaml>=5.1 in c:\\programdata\\anaconda3\\lib\\site-packages (from transformers<5.0.0,>=4.6.0->sentence_transformers->DeepTextSearch) (5.4.1)\n",
      "Requirement already satisfied: pyparsing>=2.0.2 in c:\\programdata\\anaconda3\\lib\\site-packages (from packaging>=20.0->transformers<5.0.0,>=4.6.0->sentence_transformers->DeepTextSearch) (2.4.7)\n",
      "Requirement already satisfied: joblib in c:\\programdata\\anaconda3\\lib\\site-packages (from nltk->sentence_transformers->DeepTextSearch) (1.0.1)\n",
      "Requirement already satisfied: click in c:\\programdata\\anaconda3\\lib\\site-packages (from nltk->sentence_transformers->DeepTextSearch) (7.1.2)\n",
      "Requirement already satisfied: chardet<5,>=3.0.2 in c:\\programdata\\anaconda3\\lib\\site-packages (from requests->transformers<5.0.0,>=4.6.0->sentence_transformers->DeepTextSearch) (4.0.0)\n",
      "Requirement already satisfied: certifi>=2017.4.17 in c:\\programdata\\anaconda3\\lib\\site-packages (from requests->transformers<5.0.0,>=4.6.0->sentence_transformers->DeepTextSearch) (2020.12.5)\n",
      "Requirement already satisfied: urllib3<1.27,>=1.21.1 in c:\\programdata\\anaconda3\\lib\\site-packages (from requests->transformers<5.0.0,>=4.6.0->sentence_transformers->DeepTextSearch) (1.26.4)\n",
      "Requirement already satisfied: idna<3,>=2.5 in c:\\programdata\\anaconda3\\lib\\site-packages (from requests->transformers<5.0.0,>=4.6.0->sentence_transformers->DeepTextSearch) (2.10)\n",
      "Requirement already satisfied: threadpoolctl>=2.0.0 in c:\\programdata\\anaconda3\\lib\\site-packages (from scikit-learn->sentence_transformers->DeepTextSearch) (2.1.0)\n",
      "Requirement already satisfied: pillow!=8.3.0,>=5.3.0 in c:\\programdata\\anaconda3\\lib\\site-packages (from torchvision->sentence_transformers->DeepTextSearch) (8.2.0)\n",
      "Building wheels for collected packages: DeepTextSearch\n",
      "  Building wheel for DeepTextSearch (setup.py): started\n",
      "  Building wheel for DeepTextSearch (setup.py): finished with status 'done'\n",
      "  Created wheel for DeepTextSearch: filename=DeepTextSearch-0.3-py3-none-any.whl size=5960 sha256=b36ab999be0c749ef2766a9b5b17aafab19a9ebf0a68595d245b990aeb6dbb97\n",
      "  Stored in directory: c:\\users\\anoosh\\appdata\\local\\pip\\cache\\wheels\\05\\48\\fd\\009043091e6f3b917d1beb9bdfc0711a400f50c8bc3fbcf8fd\n",
      "Successfully built DeepTextSearch\n",
      "Installing collected packages: DeepTextSearch\n",
      "Successfully installed DeepTextSearch-0.3\n"
     ]
    },
    {
     "ename": "FileNotFoundError",
     "evalue": "[WinError 3] The system cannot find the path specified: '/content/neuspell'",
     "output_type": "error",
     "traceback": [
      "\u001b[1;31m---------------------------------------------------------------------------\u001b[0m",
      "\u001b[1;31mFileNotFoundError\u001b[0m                         Traceback (most recent call last)",
      "\u001b[1;32m<ipython-input-1-9134b83f7bd8>\u001b[0m in \u001b[0;36m<module>\u001b[1;34m\u001b[0m\n\u001b[0;32m      5\u001b[0m \u001b[1;33m\u001b[0m\u001b[0m\n\u001b[0;32m      6\u001b[0m \u001b[1;32mimport\u001b[0m \u001b[0mos\u001b[0m\u001b[1;33m\u001b[0m\u001b[1;33m\u001b[0m\u001b[0m\n\u001b[1;32m----> 7\u001b[1;33m \u001b[0mos\u001b[0m\u001b[1;33m.\u001b[0m\u001b[0mchdir\u001b[0m\u001b[1;33m(\u001b[0m\u001b[1;34m\"/content/neuspell\"\u001b[0m\u001b[1;33m)\u001b[0m\u001b[1;33m\u001b[0m\u001b[1;33m\u001b[0m\u001b[0m\n\u001b[0m\u001b[0;32m      8\u001b[0m \u001b[1;33m\u001b[0m\u001b[0m\n\u001b[0;32m      9\u001b[0m \u001b[0mget_ipython\u001b[0m\u001b[1;33m(\u001b[0m\u001b[1;33m)\u001b[0m\u001b[1;33m.\u001b[0m\u001b[0msystem\u001b[0m\u001b[1;33m(\u001b[0m\u001b[1;34m'pip install -r /content/neuspell/extras-requirements.txt'\u001b[0m\u001b[1;33m)\u001b[0m\u001b[1;33m\u001b[0m\u001b[1;33m\u001b[0m\u001b[0m\n",
      "\u001b[1;31mFileNotFoundError\u001b[0m: [WinError 3] The system cannot find the path specified: '/content/neuspell'"
     ]
    }
   ],
   "source": [
    "!pip install neuspell\n",
    "!pip install -e neuspell/\n",
    "!git clone https://github.com/neuspell/neuspell; cd neuspell\n",
    "!pip install DeepTextSearch\n",
    "\n",
    "import os\n",
    "os.chdir(\"/content/neuspell\")\n",
    "\n",
    "!pip install -r /content/neuspell/extras-requirements.txt\n",
    "!python -m spacy download en_core_web_sm\n",
    "\n",
    "#Unzipping the multi-linguistic packages\n",
    "!wget https://storage.googleapis.com/bert_models/2018_11_23/multi_cased_L-12_H-768_A-12.zip\n",
    "!unzip *.zip"
   ]
  },
  {
   "cell_type": "code",
   "execution_count": 3,
   "metadata": {
    "colab": {
     "base_uri": "https://localhost:8080/"
    },
    "id": "IWHVK5C33UX5",
    "outputId": "1d1c42c9-c229-46a4-d241-85053494f78d"
   },
   "outputs": [
    {
     "name": "stdout",
     "output_type": "stream",
     "text": [
      "[nltk_data] Downloading package punkt to /root/nltk_data...\n",
      "[nltk_data]   Unzipping tokenizers/punkt.zip.\n",
      "[nltk_data] Downloading package averaged_perceptron_tagger to\n",
      "[nltk_data]     /root/nltk_data...\n",
      "[nltk_data]   Unzipping taggers/averaged_perceptron_tagger.zip.\n",
      "[nltk_data] Downloading package maxent_ne_chunker to\n",
      "[nltk_data]     /root/nltk_data...\n",
      "[nltk_data]   Unzipping chunkers/maxent_ne_chunker.zip.\n",
      "[nltk_data] Downloading package words to /root/nltk_data...\n",
      "[nltk_data]   Unzipping corpora/words.zip.\n",
      "[nltk_data] Downloading package wordnet to /root/nltk_data...\n",
      "[nltk_data]   Unzipping corpora/wordnet.zip.\n"
     ]
    },
    {
     "data": {
      "text/plain": [
       "True"
      ]
     },
     "execution_count": 3,
     "metadata": {
      "tags": []
     },
     "output_type": "execute_result"
    }
   ],
   "source": [
    "import nltk\n",
    "nltk.download('punkt')\n",
    "nltk.download('averaged_perceptron_tagger')\n",
    "nltk.download('maxent_ne_chunker')\n",
    "nltk.download('words')\n",
    "nltk.download('wordnet')"
   ]
  },
  {
   "cell_type": "code",
   "execution_count": 4,
   "metadata": {
    "colab": {
     "base_uri": "https://localhost:8080/",
     "height": 278,
     "referenced_widgets": [
      "4a29246b0bfd4ba486000a268e8f4571",
      "cb4b53228e6d42e29a7002bbb55d9a47",
      "9cc9847563fb4f0e80f733530f21fbf9",
      "8cc81f71ff20415daf007b3f314bf724",
      "62596ee6d55542859fe0e402f21f9e1f",
      "ae17ecd0f14c4e0bac025d74931b9066",
      "119d9db9ba1044bfa222a797a0c2f4c1",
      "8267df5f799a4454ad373ca06c971ef4",
      "6b38a831406b47c7b889463eded493aa",
      "a1d8b5307348482dab5c6b3db2087478",
      "4432e53a3c75481691f40023f087ab74",
      "a6d0b7b208f940e9af6b105d4ced0237",
      "9f3237c021fd4ce09686249f94c7459b",
      "f7b4963a151341d59a7b69fb62cd31be",
      "11ebf1fffa004c8fa5017af4a4c0ace0",
      "466e0caac2bc4c95a4d56567ef9049d3",
      "f97a494ce9014f73b06e45f296fa673b",
      "cfa6767057f74dc09e0358b951882207",
      "930f4aa99d694f50a7de17b6fad433ad",
      "cc4da70bc17a4f4385e2078fa0fe11d6",
      "4f2856c9e44b4fe1982f1c015386c47d",
      "5c75fab398b64ed089e12c79ccf927af",
      "89ce16112e054641b9176065ccc05ff1",
      "fcd674c5c84342689a97842ee973a55a",
      "d29302dcbf894e9e9626a40338c6048e",
      "c6ff7e4b083c4880a75d94dcbc23cb6d",
      "d961712d7d8549d791e086fd18f85c32",
      "ba008266f21b4bc39f88f3edeb139b73",
      "55648dce5a074fe6abb3fc603f42fc36",
      "29199524fd6d4b0aae7ba3f5be79d4c1",
      "2ccc9d7feb844ced8b481d5f245d51ca",
      "1e81dedef9bf4582b58f80f85a0fc849",
      "ee3846e2d0884cf4afba2d3bb827f6c7",
      "b1978160718c43f88dc7911e09d4b796",
      "5f77bb31ba254937b055d04a92a1f6b5",
      "09865a7cf85544b797decbf27d8e7c5d",
      "0a636b907c1d45e287a20b8445918ad8",
      "f68104664c884adab0076630f9055085",
      "cad74d9018ae4740bf51b92a9436324d",
      "4bd8bf0f01b84f84bdcd4660f23e61a7"
     ]
    },
    "id": "mgaqXNfV3hDB",
    "outputId": "c0df9e7b-1cb1-4e68-ed3b-213ca41813fa"
   },
   "outputs": [
    {
     "name": "stdout",
     "output_type": "stream",
     "text": [
      "data folder is set to `/content/neuspell/neuspell/../data` script\n"
     ]
    },
    {
     "data": {
      "application/vnd.jupyter.widget-view+json": {
       "model_id": "4a29246b0bfd4ba486000a268e8f4571",
       "version_major": 2,
       "version_minor": 0
      },
      "text/plain": [
       "HBox(children=(FloatProgress(value=0.0, description='Downloading', max=1042301.0, style=ProgressStyle(descript…"
      ]
     },
     "metadata": {
      "tags": []
     },
     "output_type": "display_data"
    },
    {
     "name": "stdout",
     "output_type": "stream",
     "text": [
      "\n"
     ]
    },
    {
     "data": {
      "application/vnd.jupyter.widget-view+json": {
       "model_id": "6b38a831406b47c7b889463eded493aa",
       "version_major": 2,
       "version_minor": 0
      },
      "text/plain": [
       "HBox(children=(FloatProgress(value=0.0, description='Downloading', max=456318.0, style=ProgressStyle(descripti…"
      ]
     },
     "metadata": {
      "tags": []
     },
     "output_type": "display_data"
    },
    {
     "name": "stdout",
     "output_type": "stream",
     "text": [
      "\n"
     ]
    },
    {
     "data": {
      "application/vnd.jupyter.widget-view+json": {
       "model_id": "f97a494ce9014f73b06e45f296fa673b",
       "version_major": 2,
       "version_minor": 0
      },
      "text/plain": [
       "HBox(children=(FloatProgress(value=0.0, description='Downloading', max=1355256.0, style=ProgressStyle(descript…"
      ]
     },
     "metadata": {
      "tags": []
     },
     "output_type": "display_data"
    },
    {
     "name": "stdout",
     "output_type": "stream",
     "text": [
      "\n"
     ]
    },
    {
     "data": {
      "application/vnd.jupyter.widget-view+json": {
       "model_id": "d29302dcbf894e9e9626a40338c6048e",
       "version_major": 2,
       "version_minor": 0
      },
      "text/plain": [
       "HBox(children=(FloatProgress(value=0.0, description='Downloading', max=718.0, style=ProgressStyle(description_…"
      ]
     },
     "metadata": {
      "tags": []
     },
     "output_type": "display_data"
    },
    {
     "name": "stdout",
     "output_type": "stream",
     "text": [
      "\n"
     ]
    },
    {
     "data": {
      "application/vnd.jupyter.widget-view+json": {
       "model_id": "ee3846e2d0884cf4afba2d3bb827f6c7",
       "version_major": 2,
       "version_minor": 0
      },
      "text/plain": [
       "HBox(children=(FloatProgress(value=0.0, description='Downloading', max=1520013706.0, style=ProgressStyle(descr…"
      ]
     },
     "metadata": {
      "tags": []
     },
     "output_type": "display_data"
    },
    {
     "name": "stdout",
     "output_type": "stream",
     "text": [
      "\n"
     ]
    }
   ],
   "source": [
    "from DeepTextSearch import TextEmbedder,TextSearch, LoadData\n",
    "from nltk.corpus import wordnet\n",
    "import pandas as pd\n",
    "from neuspell import BertChecker"
   ]
  },
  {
   "cell_type": "markdown",
   "metadata": {
    "id": "9swllklOrLcq"
   },
   "source": [
    "#**Contextual Spell-Check**"
   ]
  },
  {
   "cell_type": "code",
   "execution_count": 5,
   "metadata": {
    "colab": {
     "base_uri": "https://localhost:8080/",
     "height": 302,
     "referenced_widgets": [
      "510dfa3e4f5f4a7cae418cba06c50fbc",
      "aa8409ed83174056b2c57fa7599fc827",
      "bbd32b0de90348bf96361fb0f707d3a6",
      "3e6cbfd737444a3090c0a5909cdf4d9a",
      "976547d112ed4526a414082e6173f88b",
      "fdedb9e031bd4d1db17cf5fd3146034e",
      "9ec0b6f9518b4dbd96af7e4cb16aff86",
      "15eb1cc7014b4e788c511409a7d2c128",
      "0e3caa26edd24ca09d97f73ff86de8ff",
      "31bd0883d6bc457eafc8add73b183853",
      "92f02b18a9524feab847c1dcdc4740ec",
      "789ce6d3f56e4d8c9695c8ab26a0b7d3",
      "e04ab767292847c1a4b251063e677de6",
      "83e860dd47584464ae8098fc4bd50dc6",
      "539b74f57f7c450d954d50ed422c8b36",
      "cbccaeb943c44f078a4f66b83a3c9678"
     ]
    },
    "id": "_ZI06NuzT1iL",
    "outputId": "3f44aee9-4364-4a56-b0d9-2f65d0b13724"
   },
   "outputs": [
    {
     "name": "stdout",
     "output_type": "stream",
     "text": [
      "/content/neuspell/neuspell/../data/checkpoints/subwordbert-probwordnoise created\n",
      "Pretrained model downloading start (may take few seconds to couple of minutes based on download speed) ...\n",
      "Pretrained model download success\n",
      "loading vocab from path:/content/neuspell/neuspell/../data/checkpoints/subwordbert-probwordnoise/vocab.pkl\n",
      "initializing model\n"
     ]
    },
    {
     "data": {
      "application/vnd.jupyter.widget-view+json": {
       "model_id": "510dfa3e4f5f4a7cae418cba06c50fbc",
       "version_major": 2,
       "version_minor": 0
      },
      "text/plain": [
       "HBox(children=(FloatProgress(value=0.0, description='Downloading', max=570.0, style=ProgressStyle(description_…"
      ]
     },
     "metadata": {
      "tags": []
     },
     "output_type": "display_data"
    },
    {
     "name": "stdout",
     "output_type": "stream",
     "text": [
      "\n"
     ]
    },
    {
     "data": {
      "application/vnd.jupyter.widget-view+json": {
       "model_id": "0e3caa26edd24ca09d97f73ff86de8ff",
       "version_major": 2,
       "version_minor": 0
      },
      "text/plain": [
       "HBox(children=(FloatProgress(value=0.0, description='Downloading', max=435779157.0, style=ProgressStyle(descri…"
      ]
     },
     "metadata": {
      "tags": []
     },
     "output_type": "display_data"
    },
    {
     "name": "stdout",
     "output_type": "stream",
     "text": [
      "\n"
     ]
    },
    {
     "name": "stderr",
     "output_type": "stream",
     "text": [
      "Some weights of the model checkpoint at bert-base-cased were not used when initializing BertModel: ['cls.predictions.decoder.weight', 'cls.predictions.transform.LayerNorm.weight', 'cls.predictions.transform.dense.weight', 'cls.predictions.transform.dense.bias', 'cls.predictions.transform.LayerNorm.bias', 'cls.seq_relationship.weight', 'cls.seq_relationship.bias', 'cls.predictions.bias']\n",
      "- This IS expected if you are initializing BertModel from the checkpoint of a model trained on another task or with another architecture (e.g. initializing a BertForSequenceClassification model from a BertForPreTraining model).\n",
      "- This IS NOT expected if you are initializing BertModel from the checkpoint of a model that you expect to be exactly identical (initializing a BertForSequenceClassification model from a BertForSequenceClassification model).\n"
     ]
    },
    {
     "name": "stdout",
     "output_type": "stream",
     "text": [
      "Number of parameters in the model: 185211810\n",
      "Loading model params from checkpoint dir: /content/neuspell/neuspell/../data/checkpoints/subwordbert-probwordnoise\n"
     ]
    }
   ],
   "source": [
    "spellcheck = BertChecker()\n",
    "spellcheck.from_pretrained(\n",
    "    ckpt_path=f\"/content/multi_cased_L-12_H-768_A-12\"  # \"<folder where the model is saved>\"\n",
    ")"
   ]
  },
  {
   "cell_type": "markdown",
   "metadata": {
    "id": "6y0tTN040KY9"
   },
   "source": [
    "#**Recommendation System**"
   ]
  },
  {
   "cell_type": "markdown",
   "metadata": {
    "id": "UadW-jMbOm94"
   },
   "source": [
    "###**English**"
   ]
  },
  {
   "cell_type": "markdown",
   "metadata": {
    "id": "qBoJC1Bg2qca"
   },
   "source": [
    "Applying spell-checker:"
   ]
  },
  {
   "cell_type": "code",
   "execution_count": 6,
   "metadata": {
    "colab": {
     "base_uri": "https://localhost:8080/",
     "height": 197,
     "referenced_widgets": [
      "f7a20671c3ce4b0f8086e2d2f313f33c",
      "f9bb1d6d7b9d4a2dade07898d3737854",
      "9dc4b452a2d5476ab7f73601ea27238b",
      "a14e7edbb2c04e7f80a4f70c5cbad8aa",
      "4cb3f5f3745c4868b1cf81f8cd3cb4f9",
      "7f3cce76a7b04ddcb09273c8c06a2d2d",
      "3934a20f5a254ba58e05d26f8bd6d240",
      "8545a23c5f814a63ba9289f174977b44",
      "6233a4ca52744821a483d6df5013901b",
      "0d0da18a78bf4bef85607f6448a241b1",
      "707afa79b6eb46b8a23e6953ab1692dc",
      "80e8cdebc9ea42e1995be0344f2741c7",
      "279d7ebd04c9456c9da50008d4adb76f",
      "29bd005acb014f6a8f3d244e3d5ca492",
      "f2860558f9714058a24977c8adad0b3a",
      "5673cbdc24c843d8ab21b2658a064691",
      "d4fcd84c07b0425db9554844804bc45c",
      "f6fe3df2d88a43559f69f9449dfaea20",
      "135bae664c5949d785d73c11ba587040",
      "a98c515c8a9b41e9916370862e34eff1",
      "5a7875604aef42748741521e7897ce55",
      "de9193a75524436caf606e21b1ec599c",
      "84ab62b076c1444ba139fcd80e4a8938",
      "a862ad6237d84ee4973eee43268d6a5b"
     ]
    },
    "id": "FR3HCtEeUUbd",
    "outputId": "7c6ba9ba-cffd-43dc-a3db-261cc06d2b61"
   },
   "outputs": [
    {
     "name": "stdout",
     "output_type": "stream",
     "text": [
      "Enter Product Name:kangaro pockt\n"
     ]
    },
    {
     "data": {
      "application/vnd.jupyter.widget-view+json": {
       "model_id": "f7a20671c3ce4b0f8086e2d2f313f33c",
       "version_major": 2,
       "version_minor": 0
      },
      "text/plain": [
       "HBox(children=(FloatProgress(value=0.0, description='Downloading', max=213450.0, style=ProgressStyle(descripti…"
      ]
     },
     "metadata": {
      "tags": []
     },
     "output_type": "display_data"
    },
    {
     "name": "stdout",
     "output_type": "stream",
     "text": [
      "\n"
     ]
    },
    {
     "data": {
      "application/vnd.jupyter.widget-view+json": {
       "model_id": "6233a4ca52744821a483d6df5013901b",
       "version_major": 2,
       "version_minor": 0
      },
      "text/plain": [
       "HBox(children=(FloatProgress(value=0.0, description='Downloading', max=29.0, style=ProgressStyle(description_w…"
      ]
     },
     "metadata": {
      "tags": []
     },
     "output_type": "display_data"
    },
    {
     "name": "stdout",
     "output_type": "stream",
     "text": [
      "\n"
     ]
    },
    {
     "data": {
      "application/vnd.jupyter.widget-view+json": {
       "model_id": "d4fcd84c07b0425db9554844804bc45c",
       "version_major": 2,
       "version_minor": 0
      },
      "text/plain": [
       "HBox(children=(FloatProgress(value=0.0, description='Downloading', max=435797.0, style=ProgressStyle(descripti…"
      ]
     },
     "metadata": {
      "tags": []
     },
     "output_type": "display_data"
    },
    {
     "name": "stdout",
     "output_type": "stream",
     "text": [
      "\n",
      "kangaroo pockets\n"
     ]
    }
   ],
   "source": [
    "X=input(\"Enter Product Name:\")\n",
    "y=spellcheck.correct(X)\n",
    "print(y)"
   ]
  },
  {
   "cell_type": "markdown",
   "metadata": {
    "id": "j_XkSNee39fa"
   },
   "source": [
    "POS Tagging:"
   ]
  },
  {
   "cell_type": "code",
   "execution_count": 7,
   "metadata": {
    "id": "xD2GZmUyyC0a"
   },
   "outputs": [],
   "source": [
    "#We are using POS tagging to select relevent words from the given query.\n",
    "def preprocess(sent):\n",
    "    sent = nltk.word_tokenize(sent)\n",
    "    sent = nltk.pos_tag(sent)\n",
    "    return sent"
   ]
  },
  {
   "cell_type": "code",
   "execution_count": 8,
   "metadata": {
    "colab": {
     "base_uri": "https://localhost:8080/"
    },
    "id": "amBsz-7uyUJV",
    "outputId": "2a922cb7-35b9-4bc4-ac62-fc39d837eb63"
   },
   "outputs": [
    {
     "name": "stdout",
     "output_type": "stream",
     "text": [
      "['kangaroo', 'pockets']\n"
     ]
    }
   ],
   "source": [
    "sent = preprocess(y)\n",
    "l=[]\n",
    "for i in sent:\n",
    "  if i[1]=='NNS' or i[1]=='NN':\n",
    "    l.append(i[0])\n",
    "print(l)"
   ]
  },
  {
   "cell_type": "markdown",
   "metadata": {
    "id": "5e6VLtmB4LQL"
   },
   "source": [
    "Query expansion using WordNet:"
   ]
  },
  {
   "cell_type": "code",
   "execution_count": 9,
   "metadata": {
    "colab": {
     "base_uri": "https://localhost:8080/"
    },
    "id": "_qEvThA622Fl",
    "outputId": "a9a2287f-0ecc-4bff-fb40-435873935782"
   },
   "outputs": [
    {
     "name": "stdout",
     "output_type": "stream",
     "text": [
      "kangaroo kangaroo pockets pocket \n"
     ]
    }
   ],
   "source": [
    "#We use query expansion to get synonyms of words, so that we can get more relevent recommendations.\n",
    "query=\"\"\n",
    "for i in l:\n",
    "  query+=i\n",
    "  synset = wordnet.synsets(i)\n",
    "  query+=\" \"+synset[0].lemmas()[0].name()+\" \"\n",
    "print(query)"
   ]
  },
  {
   "cell_type": "markdown",
   "metadata": {
    "id": "whM0_V_mILii"
   },
   "source": [
    "Creating dictionary between product name & description:"
   ]
  },
  {
   "cell_type": "code",
   "execution_count": 14,
   "metadata": {
    "colab": {
     "base_uri": "https://localhost:8080/",
     "height": 694
    },
    "id": "cE7yufjJ8oCN",
    "outputId": "1386f790-a3c8-44f4-8c66-fa2508e5f535"
   },
   "outputs": [
    {
     "data": {
      "text/html": [
       "<div>\n",
       "<style scoped>\n",
       "    .dataframe tbody tr th:only-of-type {\n",
       "        vertical-align: middle;\n",
       "    }\n",
       "\n",
       "    .dataframe tbody tr th {\n",
       "        vertical-align: top;\n",
       "    }\n",
       "\n",
       "    .dataframe thead th {\n",
       "        text-align: right;\n",
       "    }\n",
       "</style>\n",
       "<table border=\"1\" class=\"dataframe\">\n",
       "  <thead>\n",
       "    <tr style=\"text-align: right;\">\n",
       "      <th></th>\n",
       "      <th>Uniq Id</th>\n",
       "      <th>Crawl Timestamp</th>\n",
       "      <th>Product Url</th>\n",
       "      <th>Product Name</th>\n",
       "      <th>Description</th>\n",
       "      <th>List Price</th>\n",
       "      <th>Sale Price</th>\n",
       "      <th>Brand</th>\n",
       "      <th>Item Number</th>\n",
       "      <th>Gtin</th>\n",
       "      <th>Package Size</th>\n",
       "      <th>Category</th>\n",
       "      <th>Postal Code</th>\n",
       "      <th>Available</th>\n",
       "    </tr>\n",
       "  </thead>\n",
       "  <tbody>\n",
       "    <tr>\n",
       "      <th>0</th>\n",
       "      <td>f707c5776d0818126a36b3d3f14d7f6a</td>\n",
       "      <td>2019-03-17 07:42:16 +0000</td>\n",
       "      <td>https://www.walmart.com/ip/Compatible-1988-199...</td>\n",
       "      <td>Compatible 1988 - 1993 Pontiac LeMans Fog Ligh...</td>\n",
       "      <td>High-Quality TYC/DEPO-brand item; with Reflect...</td>\n",
       "      <td>45.95</td>\n",
       "      <td>45.95</td>\n",
       "      <td>Go-Parts</td>\n",
       "      <td>NaN</td>\n",
       "      <td>799193152947</td>\n",
       "      <td>NaN</td>\n",
       "      <td>Auto &amp; Tires|Automotive Replacement Parts|Car ...</td>\n",
       "      <td>NaN</td>\n",
       "      <td>False</td>\n",
       "    </tr>\n",
       "    <tr>\n",
       "      <th>1</th>\n",
       "      <td>95ed787e89bd1c2b536a8585510a2f73</td>\n",
       "      <td>2019-03-17 08:29:29 +0000</td>\n",
       "      <td>https://www.walmart.com/ip/14k-White-Gold-Diam...</td>\n",
       "      <td>14k White Gold Diamond Double Heart Pendant - ...</td>\n",
       "      <td>14k White Gold Diamond Double Heart Pendant - ...</td>\n",
       "      <td>154.20</td>\n",
       "      <td>154.20</td>\n",
       "      <td>JewelryWeb</td>\n",
       "      <td>NaN</td>\n",
       "      <td>190772364513</td>\n",
       "      <td>NaN</td>\n",
       "      <td>Jewelry &amp; Watches|Womens Jewelry &amp; Watches|Wom...</td>\n",
       "      <td>NaN</td>\n",
       "      <td>False</td>\n",
       "    </tr>\n",
       "    <tr>\n",
       "      <th>2</th>\n",
       "      <td>40ede783dd78605f2c563b3ee60a7a93</td>\n",
       "      <td>2019-03-17 07:02:01 +0000</td>\n",
       "      <td>https://www.walmart.com/ip/Multi-Surface-Paint...</td>\n",
       "      <td>Adhesive Blue Painter Masking Tape 5.6 Mil Thi...</td>\n",
       "      <td>Masking Tape: Masking tape is low adhesive tap...</td>\n",
       "      <td>234.95</td>\n",
       "      <td>199.71</td>\n",
       "      <td>PackagingSuppliesByMail</td>\n",
       "      <td>NaN</td>\n",
       "      <td>640791636141</td>\n",
       "      <td>NaN</td>\n",
       "      <td>Home Improvement|Paint|Paint Tools and Supplie...</td>\n",
       "      <td>NaN</td>\n",
       "      <td>True</td>\n",
       "    </tr>\n",
       "    <tr>\n",
       "      <th>3</th>\n",
       "      <td>b5f44e518b12cc77fe19e6091a487101</td>\n",
       "      <td>2019-03-17 07:34:40 +0000</td>\n",
       "      <td>https://www.walmart.com/ip/Cycle-Pirates-Chrom...</td>\n",
       "      <td>Cycle Pirates Chrome Cast Switch Housing Left ...</td>\n",
       "      <td>Add that extra little bling to get your bike m...</td>\n",
       "      <td>59.95</td>\n",
       "      <td>59.95</td>\n",
       "      <td>Cycle Pirates</td>\n",
       "      <td>NaN</td>\n",
       "      <td>633835779256</td>\n",
       "      <td>NaN</td>\n",
       "      <td>NaN</td>\n",
       "      <td>NaN</td>\n",
       "      <td>True</td>\n",
       "    </tr>\n",
       "    <tr>\n",
       "      <th>4</th>\n",
       "      <td>a59dd2d01e705d12151c551582895717</td>\n",
       "      <td>2019-03-17 07:37:29 +0000</td>\n",
       "      <td>https://www.walmart.com/ip/Suspension-Control-...</td>\n",
       "      <td>Suspension Control Arm Rear Lower MOOG RK642963</td>\n",
       "      <td>Suspension Control Arm Rear Lower MOOG RK64296...</td>\n",
       "      <td>110.18</td>\n",
       "      <td>110.18</td>\n",
       "      <td>MOOG</td>\n",
       "      <td>NaN</td>\n",
       "      <td>80066087139</td>\n",
       "      <td>NaN</td>\n",
       "      <td>Auto &amp; Tires|Automotive Replacement Parts|Repl...</td>\n",
       "      <td>NaN</td>\n",
       "      <td>True</td>\n",
       "    </tr>\n",
       "  </tbody>\n",
       "</table>\n",
       "</div>"
      ],
      "text/plain": [
       "                            Uniq Id  ... Available\n",
       "0  f707c5776d0818126a36b3d3f14d7f6a  ...     False\n",
       "1  95ed787e89bd1c2b536a8585510a2f73  ...     False\n",
       "2  40ede783dd78605f2c563b3ee60a7a93  ...      True\n",
       "3  b5f44e518b12cc77fe19e6091a487101  ...      True\n",
       "4  a59dd2d01e705d12151c551582895717  ...      True\n",
       "\n",
       "[5 rows x 14 columns]"
      ]
     },
     "execution_count": 14,
     "metadata": {
      "tags": []
     },
     "output_type": "execute_result"
    }
   ],
   "source": [
    "df=pd.read_csv(\"walmart_com-ecommerce_product_details__20190311_20191001_sample.csv\")\n",
    "df.head()"
   ]
  },
  {
   "cell_type": "code",
   "execution_count": 15,
   "metadata": {
    "id": "yJpqUCl88q3A"
   },
   "outputs": [],
   "source": [
    "df1=df.set_index(\"Description\", inplace = False)\n"
   ]
  },
  {
   "cell_type": "code",
   "execution_count": 16,
   "metadata": {
    "id": "4FDa_1EU9d1v"
   },
   "outputs": [],
   "source": [
    "df2=df1.to_dict()\n",
    "dict1=df2['Product Name']"
   ]
  },
  {
   "cell_type": "markdown",
   "metadata": {
    "id": "qwALi2JY5Iwi"
   },
   "source": [
    "Loading the data and embedding the data in a pickle file:"
   ]
  },
  {
   "cell_type": "code",
   "execution_count": 23,
   "metadata": {
    "colab": {
     "base_uri": "https://localhost:8080/",
     "height": 183,
     "referenced_widgets": [
      "4b2660e8f9a4488aa399a7dd6ab7f3c7",
      "b734f6962101475db3a4ac1ba545bba0",
      "987ef23bbc4b4a26a3ee4a1add639936",
      "332dd15aeb1e4d3fbb1533ed780702b6",
      "92c998684a3144d38db2ab66585d246d",
      "24d6cfa0b7584214b6e6aa85ad8e2907",
      "ef25818941fb4d70a68282a8e1eab6f2",
      "d23cc189b6c74ae691d4c675ccb354b9"
     ]
    },
    "id": "xY6GPKIZfQ7S",
    "outputId": "030d0ddc-4982-4c7f-86cd-391a129f8bcf"
   },
   "outputs": [
    {
     "name": "stdout",
     "output_type": "stream",
     "text": [
      "Input the text Column Name Please ? : Description\n",
      "Embedding data allready present, Do you want Embed & Save Again? Enter yes or no\n",
      "yes\n"
     ]
    },
    {
     "data": {
      "application/vnd.jupyter.widget-view+json": {
       "model_id": "4b2660e8f9a4488aa399a7dd6ab7f3c7",
       "version_major": 2,
       "version_minor": 0
      },
      "text/plain": [
       "HBox(children=(FloatProgress(value=0.0, description='Batches', max=1.0, style=ProgressStyle(description_width=…"
      ]
     },
     "metadata": {
      "tags": []
     },
     "output_type": "display_data"
    },
    {
     "name": "stdout",
     "output_type": "stream",
     "text": [
      "\n",
      "Embedding data Saved Successfully Again!\n",
      "['corpus_list_data.pickle', 'corpus_embeddings_data.pickle']\n",
      "Embedding data Loaded Successfully!\n",
      "['corpus_list_data.pickle', 'corpus_embeddings_data.pickle']\n"
     ]
    }
   ],
   "source": [
    "data = LoadData().from_csv(\"walmart_com-ecommerce_product_details__20190311_20191001_sample.csv\")\n",
    "TextEmbedder().embed(corpus_list=data)\n",
    "corpus_embedding = TextEmbedder().load_embedding()"
   ]
  },
  {
   "cell_type": "markdown",
   "metadata": {
    "id": "4W3loM335N52"
   },
   "source": [
    "Searching the 10 most relevant products based on the query:"
   ]
  },
  {
   "cell_type": "code",
   "execution_count": 24,
   "metadata": {
    "colab": {
     "base_uri": "https://localhost:8080/"
    },
    "id": "0ODtY5-cpBgA",
    "outputId": "3b49a390-d0ed-4f8a-eb21-cc4d01f2638b"
   },
   "outputs": [
    {
     "name": "stdout",
     "output_type": "stream",
     "text": [
      "{'index': 25, 'text': \"ProSphere Boys' Daemen College Gameday Pullover Hoodie\", 'score': 0.247256}\n",
      "{'index': 24, 'text': \"ProSphere Boys' Daemen College Gameday Pullover Hoodie\", 'score': 0.247256}\n",
      "{'index': 23, 'text': \"ProSphere Boys' Daemen College Gameday Pullover Hoodie\", 'score': 0.247256}\n",
      "{'index': 14, 'text': \"Men's Big & Tall Harbor Bay Space-Dye Piqué Polo Shirt\", 'score': 0.14584301}\n",
      "{'index': 17, 'text': \"Men's Big & Tall Harbor Bay Space-Dye Piqué Polo Shirt\", 'score': 0.14584301}\n",
      "{'index': 16, 'text': \"Men's Big & Tall Harbor Bay Space-Dye Piqué Polo Shirt\", 'score': 0.14584301}\n",
      "{'index': 15, 'text': \"Men's Big & Tall Harbor Bay Space-Dye Piqué Polo Shirt\", 'score': 0.14584301}\n",
      "{'index': 20, 'text': \"Men's Big & Tall Harbor Bay Space-Dye Piqué Polo Shirt\", 'score': 0.14584301}\n",
      "{'index': 13, 'text': \"Men's Big & Tall Harbor Bay Space-Dye Piqué Polo Shirt\", 'score': 0.14584301}\n",
      "{'index': 12, 'text': \"Men's Big & Tall Harbor Bay Space-Dye Piqué Polo Shirt\", 'score': 0.14584301}\n"
     ]
    }
   ],
   "source": [
    "n=10\n",
    "t=TextSearch().find_similar(query_text=query,top_n=n)\n",
    "for i in range(n):\n",
    "    t[i]['text']=dict1[t[i]['text']]\n",
    "    print(t[i])"
   ]
  },
  {
   "cell_type": "markdown",
   "metadata": {
    "id": "B68h_Y1k5r0F"
   },
   "source": [
    "###**Other Languages**"
   ]
  },
  {
   "cell_type": "markdown",
   "metadata": {
    "id": "anVEpWitOgA2"
   },
   "source": [
    "#####**Arabic**"
   ]
  },
  {
   "cell_type": "code",
   "execution_count": null,
   "metadata": {
    "colab": {
     "base_uri": "https://localhost:8080/"
    },
    "id": "gwON01KT-WX8",
    "outputId": "b46519df-27eb-4dd9-fd74-6e4debddf7e4"
   },
   "outputs": [
    {
     "name": "stdout",
     "output_type": "stream",
     "text": [
      "Search Engine:أجيب في الثاني.\n",
      "أجيب في الثاني .\n"
     ]
    }
   ],
   "source": [
    "X1=input(\"Search Engine:\")\n",
    "y1=spellcheck.correct(X1)\n",
    "print(y1)"
   ]
  },
  {
   "cell_type": "code",
   "execution_count": null,
   "metadata": {
    "colab": {
     "base_uri": "https://localhost:8080/",
     "height": 166,
     "referenced_widgets": [
      "2a2d562cd6334679b1ee70aa363c8d67",
      "7f208e59c4d04d79a81aca54dcc992a1",
      "b2d2214cd622452f8a30bc7605b1b1e1",
      "17637d1546b349e5a82457eebb3ee42b",
      "a485b5929fa84de3af925740d1a65cff",
      "99fa754bf9cf465bbdca33fc22e65314",
      "0942fcbf0ad34b5ca5e0777bd2b894cb",
      "fdc503fcbc3a4a69b8a2fcf212147baa"
     ]
    },
    "id": "n-TWkT7N-WYD",
    "outputId": "840e9339-01be-4164-973f-c5ef79c8a6e7"
   },
   "outputs": [
    {
     "name": "stdout",
     "output_type": "stream",
     "text": [
      "Embedding data allready present, Do you want Embed & Save Again? Enter yes or no\n",
      "yes\n"
     ]
    },
    {
     "data": {
      "application/vnd.jupyter.widget-view+json": {
       "model_id": "2a2d562cd6334679b1ee70aa363c8d67",
       "version_major": 2,
       "version_minor": 0
      },
      "text/plain": [
       "HBox(children=(FloatProgress(value=0.0, description='Batches', max=409.0, style=ProgressStyle(description_widt…"
      ]
     },
     "metadata": {
      "tags": []
     },
     "output_type": "display_data"
    },
    {
     "name": "stdout",
     "output_type": "stream",
     "text": [
      "\n",
      "Embedding data Saved Successfully Again!\n",
      "['corpus_embeddings_data.pickle', 'corpus_list_data.pickle']\n",
      "Embedding data Loaded Successfully!\n",
      "['corpus_embeddings_data.pickle', 'corpus_list_data.pickle']\n"
     ]
    }
   ],
   "source": [
    "data1 = LoadData().from_text(\"/wiki_books_test_1.txt\")\n",
    "TextEmbedder().embed(corpus_list=data1)\n",
    "corpus_embedding = TextEmbedder().load_embedding()"
   ]
  },
  {
   "cell_type": "code",
   "execution_count": null,
   "metadata": {
    "colab": {
     "base_uri": "https://localhost:8080/"
    },
    "id": "LSyHaoAO-WYE",
    "outputId": "ef0fa461-c6f2-4518-dd6e-ae56f5223926"
   },
   "outputs": [
    {
     "data": {
      "text/plain": [
       "[{'index': 383, 'score': 0.79338586, 'text': 'والثاني: تجب فيهما.'},\n",
       " {'index': 273, 'score': 0.74463975, 'text': 'والثاني: بالثاني.'},\n",
       " {'index': 433, 'score': 0.7429859, 'text': 'والثاني: على القولين.'},\n",
       " {'index': 32,\n",
       "  'score': 0.7291739,\n",
       "  'text': 'قلت: الثاني أصح، وصححه الاكثرون والله أعلم.'},\n",
       " {'index': 242, 'score': 0.7224536, 'text': 'وعلى الثاني: بعذر.'},\n",
       " {'index': 460, 'score': 0.71352804, 'text': 'والثاني: استحبابه.'},\n",
       " {'index': 446, 'score': 0.71352804, 'text': 'والثاني: استحبابه.'},\n",
       " {'index': 8885, 'score': 0.7128246, 'text': 'ومن وجه بالقسم الثاني .'},\n",
       " {'index': 205, 'score': 0.68822443, 'text': 'والثاني: لا.'},\n",
       " {'index': 4641, 'score': 0.68177044, 'text': 'ولواحق خبر ثالث.'}]"
      ]
     },
     "execution_count": 23,
     "metadata": {
      "tags": []
     },
     "output_type": "execute_result"
    }
   ],
   "source": [
    "TextSearch().find_similar(query_text=y1,top_n=10)"
   ]
  },
  {
   "cell_type": "markdown",
   "metadata": {
    "id": "TxjGLzwNOJfd"
   },
   "source": [
    "#####**Hindi**"
   ]
  },
  {
   "cell_type": "code",
   "execution_count": null,
   "metadata": {
    "colab": {
     "base_uri": "https://localhost:8080/"
    },
    "id": "B-omE9ZodXT2",
    "outputId": "34797254-3906-4fac-9202-f9ba8a200008"
   },
   "outputs": [
    {
     "name": "stdout",
     "output_type": "stream",
     "text": [
      "Search Engine:निर्देशक\n",
      "निर्देशक\n"
     ]
    }
   ],
   "source": [
    "X_hindi=input(\"Search Engine:\")\n",
    "y_hindi=spellcheck.correct(X_hindi)\n",
    "print(y_hindi)"
   ]
  },
  {
   "cell_type": "code",
   "execution_count": null,
   "metadata": {
    "colab": {
     "base_uri": "https://localhost:8080/",
     "height": 183,
     "referenced_widgets": [
      "d9dd5f0e190346c8a2e283fb903a1173",
      "fe3979e9ee2348a880c3f1836712d0c6",
      "835be41c1ff7493d807aa8cb77cb333e",
      "8dbb8f152f2b4bf889093efa3fd3ee7d",
      "2b9d8ff1b5714b4889606a696e1a4872",
      "71f8908e111649fe90c11bb08ed368c4",
      "b202b2e6198b403c826989974bcd887f",
      "923b8b60c76d4cee96b4bd69b7ddd623"
     ]
    },
    "id": "ui0Wtq2sdXUA",
    "outputId": "46413fbd-c7e6-4bf9-9ae9-1e3b71a2fc13"
   },
   "outputs": [
    {
     "name": "stdout",
     "output_type": "stream",
     "text": [
      "Input the text Column Name Please ? : text\n",
      "Embedding data allready present, Do you want Embed & Save Again? Enter yes or no\n",
      "yes\n"
     ]
    },
    {
     "data": {
      "application/vnd.jupyter.widget-view+json": {
       "model_id": "d9dd5f0e190346c8a2e283fb903a1173",
       "version_major": 2,
       "version_minor": 0
      },
      "text/plain": [
       "HBox(children=(FloatProgress(value=0.0, description='Batches', max=23.0, style=ProgressStyle(description_width…"
      ]
     },
     "metadata": {
      "tags": []
     },
     "output_type": "display_data"
    },
    {
     "name": "stdout",
     "output_type": "stream",
     "text": [
      "\n",
      "Embedding data Saved Successfully Again!\n",
      "['corpus_list_data.pickle', 'corpus_embeddings_data.pickle']\n",
      "Embedding data Loaded Successfully!\n",
      "['corpus_list_data.pickle', 'corpus_embeddings_data.pickle']\n"
     ]
    }
   ],
   "source": [
    "data_hindi = LoadData().from_csv(\"hindi.csv\")\n",
    "TextEmbedder().embed(corpus_list=data_hindi)\n",
    "corpus_embedding = TextEmbedder().load_embedding()"
   ]
  },
  {
   "cell_type": "code",
   "execution_count": null,
   "metadata": {
    "colab": {
     "base_uri": "https://localhost:8080/"
    },
    "id": "VeNA2T5qdXUC",
    "outputId": "27a13221-e3ca-4afc-e68a-843efb2485cc"
   },
   "outputs": [
    {
     "data": {
      "text/plain": [
       "[{'index': 410,\n",
       "  'score': 0.67329043,\n",
       "  'text': 'बैनर :\\nयूटीवी मोशन पिक्चर्स\\n\\nनिर्माता :\\nरॉनी स्क्रूवाला\\n\\nनिर्देशन एवं संगीत :\\nविशाल भारद्वाज\\n\\nगीत :\\nगुलजार\\n\\nकलाकार :\\nशाहिद कपूर, प्रियंका चोपड़ा, अमोल गुप्ते, तेनजिंग नीमा, चंदन रॉय सान्याल और शिव सुब्रमण्यम\\n\\n* केवल वयस्कों के लिए\\n\\n\\n\\nफरहा खान (ओम शांति ओम), अनुराग कश्यप (देव डी) और विजय कृष्णा आचार्य (टशन) के बाद विशाल भारद्वाज ने भी सत्तर और अस्सी के दशक की कहानी को नए प्रस्तुतिकरण के साथ पेश किया है। ‘मकबूल’ और ‘ओंकारा’ जैसी फिल्म बनाने वाले इस निर्देशक ने हमशक्ल भाइयों और अपराध पर बन चुकी कई फिल्मों के आधार पर ‘कमीने’ बनाई है।\\n\\nगुड्डू (शाहिद कपूर) सीधा-सादा है। हकलाता है। चार्ली (शाहिद कपूर) तुतलाता है। ‘स’ को ‘फ’ बोलता है। वह अमीर बनने के लिए हर रास्ते पर चलने के लिए तैयार है। उसका मानना है कि जीवन में दो रास्ते होते हैं। ‘शॉर्टकट’ और ‘छोटा शॉर्टकट’। दोनों भाई एक-दूसरे से नफरत करते हैं। तीन साल से दोनों ने एक-दूसरे की शक्ल नहीं देखी है।\\n\\nस्वीटी (प्रियंका चोपड़ा) गुड्डू को चाहती है और उसका भाई भोपे (अमोल गुप्ते) छोटा-मोटा गैंगस्टर है, जो महाराष्ट्र में आए दूसरे प्रदेश के लोगों को खदेड़ना चाहता है। स्वीटी और गुड्डू शादी कर लेते हैं और नाराज भोपे उनके पीछे पड़ जाता है।\\n\\nचार्ली अंजाने में दो भ्रष्ट पुलिस ऑफिसर से ड्रग्स लूट लेता है, जिसका मूल्य करोड़ों रुपए है। चार्ली की जगह गुड्डू पकड़ा जाता है। इसके बाद दोनों भाइयों पर लगातार मुसीबतें आती जाती हैं। कैसे वे इनसे निपटते हैं इसे अपने तरीके से विशाल ने स्क्रीन पर पेश किया है।\\n\\nकहानी में नयापन नहीं है, लेकिन इसका प्रस्तुतिकरण अलग तरह का है। फिल्म को समझने के लिए आपको लगातार चौकन्ना रहना पड़ता है। एक मिनट के लिए भी ध्यान भंग हुआ तो आगे की फिल्म समझने में कठिनाई हो सकती है। यही बात फिल्म के खिलाफ जा सकती है क्योंकि कहानी तो आम आदमी की पसंद की चुनी गई है, लेकिन उसका प्रस्तुतिकरण दर्शकों को बेहद समझदार मानकर किया गया है।\\n\\nफिल्म का स्क्रीनप्ले बारीकी से लिखा गया है और उसे पेचीदगी के साथ पर्दे पर पेश किया गया है। विशाल पहले ही स्पष्ट कर चुके हैं कि उन्होंने फिल्म इस तरह बनाई है कि दर्शक अपने दिमाग का भी उपयोग करें। फिल्म का अंत सामान्य है जबकि विशाल से अनोखे अंत की अपेक्षा थी।\\n\\nशुरुआत के बीस मिनटों में फिल्म से तालमेल बैठाने में तकलीफ होती है क्योंकि दोनों हीरो द्वारा बोले गए संवादों को गौर से सुनना पड़ता है। फिल्म के किरदारों से परिचित होना पड़ता है। उसके बाद ही आप आनंद उठा सकते हैं।\\n\\nनिर्देशक विशाल ने पूरी फिल्म पर पकड़ बनाए रखी और उनका दबदबा फिल्म के हर विभाग में नजर आता है। फिल्म को उन्होंने वास्तविकता के निकट रखने की पूरी कोशिश की है।\\n\\nउनका हीरो साफ-सुथरा या स्मार्ट नजर नहीं आता। वो गली का गुंडा है, इसलिए उसके बालों में धूल है। उसकी टी-शर्ट पसीने से लथपथ है। किरदारों की तरह उन्होंने पूरी फिल्म को रफ-टफ लुक दिया है। फिल्म को शूट भी इसी अंदाज में किया गया है। कैमरा लगातार हिलता रहता है और स्क्रीन पर ज्यादातर अंधेरा नजर आता है। क्लोज अप का बहुत ज्यादा उपयोग किया गया है। फिल्म के लोकेशन एकदम वास्तविक लगते हैं।\\n\\nशाहिद कपूर ने डबल रोल अच्छे से निभाए हैं, लेकिन उनकी जगह कोई दमदार अभिनेता होता तो फिल्म में जान आ जाती। प्रियंका चोपड़ा ने महाराष्ट्रीयन लड़की के रूप में अच्छा अभिनय किया है और शाहिद पर वे हावी रही हैं। अमोल गुप्ते, तेनजिंग नीमा, चंदन रॉय सान्याल और शिव सुब्रमण्यम ने अपने-अपने पात्रों को जिया है।\\n\\nफिल्म का संगीत पहले ही लोकप्रिय हो चुका है और ‘ढेन टेनेन’ इस समय का सर्वाधिक हिट गीत है। गुलजार ने कहानी और किरदार के अनुरूप गीत लिखे हैं। विशाल के लिखे संवाद फिल्म का प्लस पाइंट है।\\n\\nविशाल भारद्वाज नि:संदेह प्रतिभाशाली निर्देशक हैं, लेकिन बजाय पुराने दौर की कहानी को नए अंदाज में पेश करने के उन्हें कुछ नया करना चाहिए।\\n'},\n",
       " {'index': 651,\n",
       "  'score': 0.6686704,\n",
       "  'text': 'बैनर :\\nहरी ओम एंटरटेनमेंट कं., थ्रीज़ कंपनी, यूटीवी मोशन पिक्चर्स\\n\\nनिर्माता :\\nफराह खान, अक्षय कुमार, शिरीष कुंदर\\n\\nनिर्देशक :\\nशिरीष कुंदर\\n\\nसंगीत :\\nगौरव डगाँवकर\\n\\nकलाकार :\\nअक्षय कुमार, सोनाक्षी सिन्हा, श्रेयस तलपदे, मिनिषा लांबा, असरानी, चित्रांगदा सिंह\\n\\nसेंसर सर्टिफिकेट : यू * 1 घंटा 45 मिनट\\n\\n\\nजोकर फिल्म से अक्षय कुमार इतने नाराज हुए कि फिल्म में अपना पैसा लगा होने के बावजूद उन्होंने फिल्म का प्रमोशन ही नहीं किया जिससे फिल्म के रिलीज होने के पहले ही फिल्म के प्रति नकारात्मक माहौल बन गया। इस पर फिल्म के निर्देशक शिरीष कुंदर ने एक इंटरव्यू में कहा कि उनका काम बोलेगा। ‘जोकर’ देख कर उनका काम ये बोलता है कि फिल्म ऐसी नहीं बनाया जाना चाहिए।\\n\\n‘जोकर’ के नाम पर उन्होंने जो तमाशा दिखाया है वो बेहद बचकाना है। शायद शाहरुख खान ने इसीलिए जोकर करने से मना कर दिया था, लेकिन शिरीष को अपनी\\u200d स्क्रिप्ट पर विश्वास था और उन्होंने जिद पर आकर अक्षय को लेकर फिल्म बना डाली।\\n\\nशिरीष ये तय ही नहीं कर पाए कि ये फिल्म वे बच्चों को ध्यान में रखकर बना रहे हैं या बड़ों के लिए। दोनों उम्र के वर्गों को फिल्म पसंद आए इसकें लिए सही तालमेल जरूरी होता है, लेकिन शिरीष इसमें बुरी तरह असफल रहे।\\n\\nजब फिल्म का निर्देशक कमजोर हो तो इसका असर फिल्म के हर डिपार्टमेंट पर पड़ता है। जोकर के साथ भी यही हुआ। अभिनय, स्क्रिप्ट, संगीत सहित हर मामले में फिल्म बुरी है।\\n\\nभारत के मैप में पगलापुर नामक गांव को स्थान नहीं\\u200d मिलने के लिए जो तर्क दिया है वो बेहद लचर है। भारत के आजाद होने के कुछ महीने पहले एक अंग्रेज ने भारत का नक्शा बनाया। वह पगलापुर जाकर अपने नक्शे को पूरा करना चाहता था, लेकिन उस गांव पर पागलखाने से भागे पागलों ने कब्जा कर लिया।\\n\\nवह अंग्रेज पगलापुर नहीं जा पाया और उस गांव को भारत के नक्शे में दिखाए बिना उसने भारत का नक्शा पास कर दिया। बिना गांव में जाए भी वह मैप में पगलापुर को दर्शा सकता था, लेकिन उसने ऐसा नहीं किया। सवाल ये भी उठता है कि नक्श बनाने के लिए क्या वह अंग्रेज भारत के हर गांव में गया था?\\n\\nपगलापुर गांव में न बिजली है और न पानी। आजादी के वर्षों बाद भी उस गांव के बारे में कोई नहीं जानता। वहां के लोग पागल जैसी हरकतें करते हैं। कोई अपने आपको लालटेन समझ कर उलटा लटका रहता है तो कोई हवाई जहाज को देख यह समझ बैठता है कि हिटलर ने हमला कर दिया है। पगलापुर में सिर्फ मर्द ही नजर आते हैं, औरतें ढूंढे नहीं मिलतीं।\\n\\nइन पागलों के बीच एक नौजवान अगस्त्य (अक्षय कुमार) अमेरिका जाकर वैज्ञानिक (?) बन जाता है। गांव में आकर वहां की हालत देख बड़ा निराश होता है। पगलापुर को इंटरनेशनल मेप पर लाने के लिए वह ऐसी फिजूल हरकत करता है कि दुनिया भर का मीडिया, पुलिस, सेना, एफबीआई और नासा के वैज्ञानिक तक वहां पहुंच जाते हैं, लेकिन कोई भी पगलापुर के पागलों की चालाकी समझ नहीं पाते।\\n\\nकद्दू, तरबूज, पपीते, करेले और मिर्च से बनाए गए एलियंस के झूठ को वे पकड़ नहीं पाते। टैंक और हाथ में बंदूक लिए खड़े सैनिक बस एलियंस को निहारते रहते हैं। वे आगे बढ़कर उन्हें पकड़ते भी नहीं। स्क्रिप्ट में इस तरह की इतनी खामियां हैं कि एक किताब लिखी जा सकती है।\\n\\nफिल्म के निर्देशक और लेखक ने दर्शकों को भी पगलापुर के निवासियों की तरह मान लिया और यह समझ कर माल परोसा कि दर्शक सब कबूल कर लेंगे। शिरीष कुंदर ने कई फिल्मों से प्रेरणा ली, फिर भी अच्छा काम नहीं कर सके। उनका आइडिया अच्छाष है, लेकिन उसको फिल्म में उतारने में वे नाकाम रहे। फिल्म का नाम जोकर क्यों रखा, इसके पक्ष में उन्होंने कुछ संवाद और सीन डाल दिए, जो कि स्क्रिप्ट में फिट नहीं बैठते।\\n\\nआधी से ज्यादा फिल्म में अक्षय कुमार ने अनमने ढंग से काम किया है। उन्हें अपनी गलती शायद समझ में आ गई थी, इसलिए किसी तरह उन्होंने फिल्म पूरी की। हर \\u200dहीरो रिलीज के पहले अपनी फिल्म के बारे में कई झूठी बातें बोलता है, लेकिन अक्षय इस फिल्म को लेकर इतने शर्मिंदा हैं कि झूठ बोलने की हिम्मत नहीं जुटा पाए।\\n\\nसोनाक्षी सिन्हा के हिस्से में एक दमदार डायलॉग तक नहीं आया और पूरी फिल्म में वे अपने मोटापे को छिपाते हुए नजर आईं। श्रेयस तलपदे एक अजीब सी भाषा पूरी फिल्म में बोलते रहे। क्यों? इसका जवाब नहीं मिलता। उनकी भाषा सिर्फ एलियंस ही समझते हैं। मिनिषा लांबा, संजय मिश्रा, असरानी, आर्य बब्बर जैसे कई कलाकार फिल्म में हैं, लेकिन उनका पूरी तरह उपयोग नहीं\\u200d किया गया।\\n\\nफिल्म के गाने ऐसे हैं कि सिनेमाघर छोड़ने के बाद एक भी गाना याद नहीं रहता। चित्रांगदा सिंह पर फिल्माया गया आइटम सांग एकदम ठंडा है।\\n\\nकुल मिलाकर ‘जोकर’ समय और धन की बर्बादी है।\\n'},\n",
       " {'index': 463,\n",
       "  'score': 0.6617852,\n",
       "  'text': '\\n\\nथ्री-ड\\nी\\nबैनर :\\nयूटीवी स्पॉट बॉय\\n\\nनिर्माता :\\nसिद्धार्थ रॉय कपूर, रॉनी स्क्रूवाला\\n\\nनिर्देशक :\\nरेमो डिसूजा\\n\\nसंगीत :\\nसचिन जिगर\\n\\nकलाकार :\\nप्रभुदेवा, लॉरेन गॉटलिएब, केके मेनन, धर्मेश येलंडे, मयूरेश, गणेश आचार्य, सलमान युसूफ खान, पुनीत\\n\\nसेंसर सर्टिफिकेट : यूए * 2 घंटे 23 मिनट\\n\\nअंडर डॉग पर आधारित फिल्मों में ऐसे इमोशन्स की बहुत संभावनाएं होती हैं जो सीधे दिल को छू सके। ‘लगान’ और ‘चक दे इंडिया’ इसके ताजा उदाहरण हैं। इन फिल्मों में ऐसी टीमें थीं, जो सुविधा विहीन थी, लेकिन जीत का जज्बा खिलाड़ियों में पैदा किया गया और इसी जज्बे के कारण वे विजेता बनीं।\\n\\nरैमो डिसूजा द्वारा निर्देशित फिल्म ‘एबीसीडी - एनी बडी केन डांस’ में खेल का स्थान डांस ने \\u200dले लिया। झोपड़ पट्टी में रहने वाले छोरे-छोकरियों को एक डांस टीचर विष्णु (प्रभुदेवा) डांस सीखाता है और वे रियलिटी शो में चैम्पियन बन जाते हैं। विष्णु की भी अपनी कहानी है। उसे खुद की बनाई एकेडेमी से उसका पार्टनर बाहर कर देता है और उस पर भी खुद को साबित करने का दबाव है।\\n\\nरैमो डिसूजा खुद लंबा संघर्ष कर यहां तक पहुंचे हैं इसलिए उन्होंने अपने अनुभवों को भी इसमें शामिल किया होगा, लेकिन यह बात फिल्म में उभर कर नहीं आती है। हॉलीवुड मूवी ‘स्टेप अप’ से प्रेरित ‘एबीसीडी’ कई मामलों में कमजोर है।\\n\\nकहानी ऐसी है कि आगे क्या होने वाला है ये कोई भी बता दे। स्क्रिप्ट में जो घटनाक्रम डाले गए हैं, वे बेवजह के लगते हैं। ऐन फाइनल के पहले लीड डांसर की मौत के जरिये भावनाएं उपजाने की कोशिश निरर्थक लगती है।\\n\\nइसी तरह के कई किस्से जैसे बस्ती के लोगों का डांसर्स के खिलाफ होना, एक पिता का अपने बेटे का डांसर बनने की बात पसंद नहीं करना, डांसर्स का आपसी विवाद बहुत बनावटी हैं, जिससे फिल्म के साथ दर्शक जुड़ नहीं पाता है।\\n\\nफिल्म में डांस के लिए सिचुएशन बनाई गई हैं और कुछ डांस सीक्वेंस बेहतरीन बन पड़े हैं। प्रभुदेवा का सोलो डांस, रेन डांस और क्लाइमेक्स में शो के फाइनल में किया गया डांस देखने लायक हैं। थ्री-डी में होने के कारण इनका प्रभाव और बढ़ जाता है।\\n\\nफिल्म का संगीत निराशाजनक है। चूंकि फिल्म डांस पर आधारित है, इसलिए हिट गीतों का होना जरूरी है, लेकिन ‘एबीसीडी’ में एकाध गीत को छोड़ दिया जाए तो कोई भी गीत याद नहीं रहता।\\n\\nडांस में लड़के-लड़कियों दोनों का महत्व बराबर होता है, लेकिन फिल्म में लड़की का एक भी किरदार ऐसा नहीं है जो उभर कर सामने आए। केवल ‘गरम मसाला’ जैसे संवाद सुनते समय ही लड़कियां परदे पर नजर आती हैं।\\n\\nएक्टिंग डिपार्टमेंट में फिल्म बेहद निराश करती है। प्रभुदेवा इमोशनल सीन में कमजोर एक्टर साबित हुए, लेकिन उनका सोलो परफॉर्मेंस इस कमी को पूरा करता है। गणेश आचार्य जरूर ठीक-ठाक कहे जा सकते हैं। इनके अलावा ज्यादातर वे डांसर हैं, जो रियलिटी शो में अक्सर नजर आते हैं। धर्मेश, सलमान, पुनीत नि:संदेह बेहतरीन डांसर्स हैं, लेकिन एक्टिंग करना उनके बस की बात नहीं है। केके मेनन कलाकारों की भीड़ में अलग नजर आते हैं।\\n\\nकुल मिलाकर ‘एबीसीडी - एनी बडी केन डांस’ सिर्फ डांस डिपार्टमेंट में ही प्रभावित करती है।\\n\\n'},\n",
       " {'index': 39,\n",
       "  'score': 0.6527176,\n",
       "  'text': 'बैनर :\\nभंडारकर एंटरटेनमेंट, वाइड फ्रेम पिक्चर्स\\n\\nनिर्माता :\\nकुमार मंगत पाठक, मधुर भंडारकर\\n\\nनिर्देशक :\\nमधुर भंडारकर\\n\\nसंगीत :\\nप्रीतम चक्रवर्ती\\n\\nकलाकार :\\nअजय देवगन, इमरान हाशमी, ओमी वैद्य, श्रुति हासन, शाजान पद्मसी, श्रद्धा दास, टिस्का चोपड़ा, रितुपर्णा सेनगुप्ता\\n\\nसेंसर सर्टिफिकेट : ए * 2 घंटे 28 मिनट * 16 रील\\n\\n\\n\\nशुक्र है कि मधुर भंडारकर ने अपना ट्रेक बदला वरना एक जैसी फिल्म बनाते हुए वे टाइप्ड होने लगे थे। पिछली फिल्म ‘जेल’ की असफलता ने उन्होंने सबक सीखते हुए इस बार हल्की-फुल्की रोमांटिक फिल्म ‘दिल तो बच्चा है जी’ बनाई।\\n\\nज्यादातर निर्देशक जब अपने कम्फर्ट जोन से बाहर आते हैं तो बेहतर फिल्म नहीं बना पाते हैं। कुछ नया करने की कोशिश में वे बहक जाते हैं। ‘दिल तो बच्चा है जी’ के जरिये मधुर ने कोई महान रचना तो नहीं की है, लेकिन यह फिल्म औसत से बेहतर है। कई जगह स्क्रिप्ट में कसावट की जरूरत महसूस होती है, लेकिन समग्र रूप से यह फिल्म दर्शकों को ‘फील गुड’ का अहसास कराती है।\\n\\nप्यार के मायने सबके लिए अलग-अलग हैं। कोई सेक्स को ही प्यार समझ बैठता है। किसी का दिल किसी एक से नहीं भरता तो कोई एक पर ही पूरी जिंदगी न्यौछावर कर देता है। इसको आधार बनाकर मधुर भंडारकर, नीरज उडवानी और अनिल पांडे ने ‘दिल तो बच्चा है जी’ की कहानी और स्क्रीनप्ले लिखा है।\\n\\nवर्षीय नरेन आहूजा (अजय देवगन) का वैवाहिक जीवन असफल रहा। पत्नी से वह तलाक ले रहा है। इसी बीच वह उम्र में अपने से आधी जून पिंटो (शाजान पद्मसी) की ओर आकर्षित होने लगता है।\\n\\nजून आज की जनरेशन से है, जो किसी से भी अपने दिल की बातें बिंदास तरीके से शेयर करती है। वह अपने बॉस नरेन से भी पूछ बैठती है कि उसने पहली बार सेक्स किस उम्र में किया था। नरेन उसके इस बिंदासपन को ही प्यार समझ बैठता है।\\n\\nनरेन के दो पेइंग गेस्ट हैं, मिलिंद केलकर (ओमी वैद्य) और अभय (इमरान हाशमी)। मिलिंद के लिए प्यार के मायने हैं शादी और परिवार। उसे इस बात से मतलब है कि वह गुनगुन (श्रद्धा दास) को चाहता है, भले ही गुनगुन उसका और उसके पैसों का उपयोग करती है। सच्चा प्यार ही उसके लिए मायने रखता है।\\n\\nअभय की जिंदगी तीन ‘एफ’ के इर्दगिर्द घूमती है। फन, फ्लर्टिंग और ....। उसकी जिंदगी का आदर्श वाक्य है- सो और सोने दो। प्यार-व्यार उसके लिए बेकार की बातें थीं, जब तक वह निक्की (श्रुति हासन) से मिलता नहीं है। इन तीनों की प्यार की गाड़ी मंजिल तक पहुँच पाती है या नहीं, यह फिल्म में हल्के-फुल्के तरीके से दिखाया गया है।\\n\\nइस कहानी में हास्य की भरपूर गुंजाइश थी, लेकिन तीनों लेखक मिलकर इसका पूरी तरह उपयोग नहीं कर पाए। कई जगह फिल्म घसीटते हुए आगे बढ़ती है, खासकर पहले हाफ में। तीनों कैरेक्टर्स को स्थापित करने में जरूरत से ज्यादा समय लिया गया है। इसके बावजूद उन्होंने जितना भी पेश किया है, वह अच्छा लगता है। संजय छैल द्वारा लिखे गए ‘आजकल तक होलसेल में बैडलक चल रहा है’ जैसे चुटीले संवाद कई जगह गुदगुदाते हैं। अजय और शाजान की कहानी सबसे ज्यादा दिलचस्प है और गुदगुदाती है।\\n\\nनिर्देशक मधुर ने प्यार को लेकर अलग-अलग दृष्टिकोण को अपने कैरेक्टर के जरिये सामने रखा है। उनकी तीनों फीमेल कैरेक्टर्स बेहद प्रेक्टिकल और बोल्ड हैं। अभय के साथ निक्की एक रात गुजारती है और सेक्स को लेकर वह बिलकुल असहज नहीं होती। गुनगुन अपने स्वार्थ की खातिर मिलिंद का जमकर शोषण करती है।\\n\\nएक निर्देशक के रूप में मधुर ने कहानी को इस तरह पेश किया है कि उत्सुकता बनी रहती है। हालाँकि कई जगह दोहराव देखने को मिलता है। फिल्म की लंबाई भी ज्यादा है और अंत भी परफेक्ट नहीं कहा जा सकता है।\\n\\nअभिनय फिल्म का सबसे सशक्त पहलू है। अजय देवगन ने अपने उम्र से आधी लड़की को चाहने की असहजता को बेहतरीन तरीके से पेश किया है। शाजान पद्मसी फिल्म का सरप्राइज है। उनके खूबसूरत और मासूम चेहरे का निर्देशक ने जमकर उपयोग किया है। शाजान का अभिनय उल्लेखनीय है और इस फिल्म के बाद उन्हें बेहतरीन मौके मिल सकते हैं।\\n\\nइमरान हाशमी के लिए लंपट व्यक्ति का किरदार निभाना हमेशा से आसान रहा है। इस फिल्म में उनके अभिनय में सुधार नजर आता है। ओमी वैद्य ‘3 इडियट्स’ से उठकर सीधे ‘दिल तो बच्चा है जी’ में चले आए हैं। श्रुति हासन में आत्मविश्वास नजर आया और श्रद्धा दास भी प्रभावित करती हैं।\\n\\nप्रीतम का संगीत मधुर है, लेकिन हिट गीत की कमी खलती है। हिट गाने इस फिल्म के लिए मददगार साबित हो सकते थे। अभी कुछ दिनों से और जादूगरी अच्छे बन पड़े हैं। कुल मिलाकर कमियों के बावजूद भी ‘दिल तो बच्चा है जी’ रोचक है।\\n'},\n",
       " {'index': 23,\n",
       "  'score': 0.65127945,\n",
       "  'text': 'बैनर :\\nपीवीआर पिक्चर्स\\n\\nनिर्माता :\\nअजय बिजली, दिबाकर बैनर्जी, प्रिया श्रीधरन, संजीव के. बिजली\\n\\nनिर्देशक :\\nदिबाकर बैनर्जी\\n\\nसंगीत :\\nविशाल-शेखर\\n\\nकलाकार :\\nइमरान हाशमी, अभय देओल, कल्कि कोएचलिन, प्रसन्नजीत चटर्जी, फारुख शेख\\n\\nसेंसर सर्टिफिकेट : यूए * 1 घंटा 54 मिनट\\n\\n\\n\\nचुनाव नजदीक आते ही शहर को पेरिस या शंघाई बनाने की बातें तेज हो जाती हैं। बिज़नेस पार्क, ऊंची बिल्डिंग और चमचमाते मॉल्स के लिए मौके की जमीन चुनी जाती है। इसका विरोध भी शुरू हो जाता है क्योंकि कुछ लोगों की दुकान विरोध से ही चलती है। राजनीतिक षड्यंत्र शुरू हो जाते हैं और नेता से लेकर तो अफसर तक अपना-अपना हित साधने में जुट जाते हैं।\\n\\nइस तरह के विषय पर भारत में कई फिल्में बन चुकी हैं और शंघाई में दिबाकर बैनर्जी ने इसे अपने नजरिये से प्रस्तुत किया है। मूलत: इस फिल्म की कहानी ग्रीक लेखक वासिलिस वासिलिकोस की किताब ‘ज़ेड’ से प्रेरित है जिसका भारतीयकरण कर ‘शंघाई’ में प्रस्तुत किया गया है। कही-कही कहानी ‘जाने भी दो यारों’ से भी प्रेरित लगती है।\\n\\nशंघाई का सबसे बड़ा प्लस पाइंट है दिबाकर बैनर्जी का निर्देशन और प्रस्तुतिकरण। दिबाकर बैनर्जी की गिनती वर्तमान में भारत के बेहतरीन निर्देशकों में से होती है और वे हर विषय पर फिल्म बनाने की क्षमता रखते हैं। फिल्म की हर फ्रेम पर उनकी छाप नजर आती है और एक ही सीन में वे कई बातें कह जाते हैं। कोरियोग्राफर, फाइट मास्टर या स्टार उन पर हावी नहीं होते हैं।\\n\\nदिबाकर बैनर्जी अपनी यह बात कहने में पूरी तरह सफल रहे हैं कि राजनीति अब सेवा नहीं बल्कि व्यवसाय बन चुकी है और कितनी गिर चुकी है। हालांकि उनका डायरेक्शन क्लास अपील लिए हुए है। उन्होंने दर्शकों के लिए समझने को बहुत कुछ छोड़ा है और यही वजह है कि एक आम दर्शक को फिल्म समझने में कठिनाई हो सकती है।\\n\\nभारत नगर में सरकार आईबीपी (इंटरनेशनल बिज़नेस पार्क) बनाने की घोषणा करती है। जिस जमीन पर ये बनाया जाना है वहां पर गरीब बस्ती है। सरकार उन्हें दूर जमीन और मकान देने का वादा करती है और आईबीपी को प्रगति से जोड़ती है।\\n\\nइसी बीच चार्टर्ड फ्लाइट से सोशल एक्टिविस्ट डॉ. अहमदी (प्रसन्नजीत) की एंट्री होती है जो आईबीपी का विरोध करता है। न्यूजपेपर के फ्रंट पेज पर कैसे छपा जाए ये वह बेहतरीन तरीके से जानता है और इसलिए हीरोइन की बगल में खड़े होकर फोटो भी खिंचाता है।\\n\\nअहमदी के विरोध के स्वर तेज होते है और सरकार घबराने लगती है। इसी बीच एक शराबी ड्राइवर अहमदी को अपनी गाड़ी से कुचल देता है। सरकार इसे एक्सीडेंट बताती है, लेकिन कुछ लोगों का मानना है कि यह मर्डर है।\\n'},\n",
       " {'index': 359,\n",
       "  'score': 0.6375191,\n",
       "  'text': 'कुल मिलाकर कहा जा सकता है कि ‘हरि पुत्तर’ समय और पैसे की बर्बादी है।\\nनिर्माता :\\nलकी कोहली, मुनीष पुरी, ए पी पारिगी\\n\\nनिर्देशक :\\nलकी कोहली, राजेश बजाज\\n\\nसंगीत :\\nआदेश श्रीवास्तव, गुरु शर्मा\\n\\nकलाकार :\\nज़ैन खान, सारिका, जैकी श्रॉफ़ सौरभ शुक्ला, विजय राज, स्विनी खारा, शमिता शेट्टी (विशेष भूमिका)\\n\\n\\n\\nलंबे-चौड़े सिनेमाघर में ‘हरि पुत्तर’ देखने की हिम्मत पंद्रह-बीस लोग जुटा पाए थे। पहले पाँच मिनट में ही समझ में आ गया कि कितनी घटिया फिल्म आगे झेलना पड़ेगी। थोड़ी देर बाद कुछ दर्शक पैसा बर्बाद होने का रोना रोने लगे थे।\\n\\nइंटरवल होते ही एक दर्शक चिल्लाया इंटरवल हो गया। अरे, भई सबको पता है, इसमें चिल्लाने वाली क्या बात है। लेकिन वह शायद इसलिए खुश था कि थोड़ी देर के लिए वह इस कैद से छूट गया।\\n\\nपॉपकॉर्न लेकर मैं फिर फिल्म देखने के लिए बैठा। फिल्म शुरू हुई तो आधे से ज्यादा दर्शक गायब हो चुके थे। वे समझदार थे। जो बैठे थे उनकी अपनी कुछ मजबूरी होगी।\\n\\nबात की जाए फिल्म की। इस फिल्म से जुड़े लोगों ने अपनी अकल बिलकुल भी खर्च नहीं की। ‘हैरी पॉटर’ से नाम कॉपी कर उसका देशी संस्करण ‘हरि पुत्तर’ कर दिया। कहानी ‘होम अलोन’ नामक फिल्म से उठा ली, लेकिन नकल में भी अकल चाहिए, जो निर्देशकों में नहीं थी।\\n\\nएक नहीं बल्कि दो लोगों (लकी और राजेश) ने इसे निर्देशित किया, पता नहीं एक बनाता तो क्या हाल होता। लगता है कि उन्होंने आज के बच्चों को भी अपने जैसा ही समझ लिया है और ‘हरि पुत्तर’ नामक घटिया फिल्म बना डाली। इस तरह की फिल्म को आज के बच्चे पसंद करेंगे, पता नहीं उन्होंने यह कैसे सोच लिया। हैरत होती है फिल्म पर पैसा लगाने वालों की समझ पर।\\n\\nहरिप्रसाद (ज़ैन खान) उर्फ हरि पुत्तर दस वर्ष का समझदार लड़का है। हाल ही में वह भारत से यूके रहने आया है। उसके पिता प्रोफेसर ढूंडा एक सीक्रेट मिशन पर हैं और उन्होंने घर पर एक चिप में कुछ गोपनीय जानकारी रखी है। उस चिप की तलाश में कुछ भाई किस्म के लोग हैं।\\n\\nहरि के घर पर उसकी आंटी (लिलेट दुबे) और अंकल (जैकी श्रॉफ) ढेर सारे बच्चों के साथ आते हैं। वे बच्चे न केवल \\u200dहरि को सताते हैं, बल्कि हरि को अपने कमरे से भी हाथ धोना पड़ता है।\\n\\nपूरा परिवार छुट्टियों के लिए दूसरे शहर जाता है, लेकिन वे घर पर हरि पुत्तर और टुकटुक (स्विनी खारा) को भूल जाते हैं। उस चिप की तलाश में दो गुंडे (सौरभ शुक्ला और विजय राज) हरि के घर में घुसते हैं। हरि और टुकटुक उनसे मुकाबला कर उस चिप को बचाते हैं।\\n\\nफिल्म का एक भी पक्ष ऐसा नहीं है जिसे अच्छा कहा जा सके। फिल्म की पटकथा इतनी बुरी लिखी गई है कि एक दृश्य दूसरे से मेल नहीं खाता। ऐसा लगता है कि कुछ दृश्यों को फिल्माकर आपस में जोड़ दिया गया है।\\n\\nकई घटनाक्रम ऐसे हैं, जो क्यों रखे गए हैं, समझ के बाहर है। जब भाई के आदमी (सौरभ और विजय) चिप चुराने हैरी के घर जाते हैं तो रास्ते में वे एक दुकान पर महिला से पूछते हैं कि घर में कोई है या नहीं, जबकि उस महिला का उस घर से कोई संबंध नहीं है।\\n\\nनिर्देशन नामक कोई चीज है, फिल्म देखकर महसूस नहीं होता। फिल्म की फोटोग्राफी धुँधली है। सौरभ शुक्ला, विजय राज, जैकी श्रॉफ और सारिका ने अपने घटिया अभिनय से खूब बोर किया। ज़ैन खान का काम ठीक-ठाक है, जबकि स्विनी को ज्यादा अवसर नहीं मिला।\\n\\nकुल मिलाकर कहा जा सकता है कि ‘हरि पुत्तर’ समय और पैसे की बर्बादी है।\\n'},\n",
       " {'index': 84,\n",
       "  'score': 0.63575315,\n",
       "  'text': 'बैनर :\\nसरोज एंटरटेनमेंट प्रा.लि.\\n\\nनिर्माता :\\nरचना सुनील सिंह\\n\\nनिर्देशक :\\nपार्थो घोष\\n\\nकलाकार :\\nजैकी श्रॉफ, मनीषा कोइराला, निकिता आनंद, रोजा\\n\\n\\n\\nएक वक्त ऐसा भी था जब पार्थो घोष का नाम सफल निर्देशकों में गिना जाता था। 100 डेज़, दलाल और अग्निसाक्षी जैसी सफल फिल्में उन्होंने दी थीं। लेकिन वक्त के साथ घोष बदल नहीं पाए और इसका परिणाम ‘एक सेकंड... जो जिंदगी बदल दे’ में देखने को मिलता है।\\n\\nअरसे से अटकी हुई यह फिल्म अब जाकर रिलीज हुई है। चूका हुआ निर्देशन, जैकी और मनीषा जैसे थके हुए कलाकार, बेजान स्क्रीनप्ले इस फिल्म में देखने को मिलते हैं। 1998 में बनी स्लाइडिंग डोर्स से प्रेरित ‘एक सेकंड... जो जिंदगी बदल दे’ में एक भी चीज उल्लेखनीय नहीं है।\\n\\nकहानी है एक कपल की, जिसमें पति अपनी पत्नी को धोखा देते हुए अपनी पहली गर्लफ्रेंड से संबंध बनाए हुए है। क्या होता है जब पत्नी एक सेकंड की देरी के कारण ट्रेन मिस कर देती है? इसके बाद दो कहानियाँ समानांतर चलती है, लेकिन पर्दे पर क्या घट रहा है इससे दर्शक कभी भी जुड़ नहीं पाता।\\n\\nफिल्म का विचार भले ही अच्छा है, लेकिन निर्देशन और स्क्रीनप्ले ने सब गड़बड़ कर दिया। जैकी श्रॉफ ने ऐसे अभिनय किया मानो कोई रूचि ही न हो। यही हाल मनीषा कोइराला का भी है। निकिता आनंद का सारा ध्यान अंग प्रदर्शन पर रहा। रोजा एक्टिंग में जीरो है।\\n\\nपार्थो घोष का निर्देशन प्रभावित नहीं करता। न वे कहानी को ठीक से पेश कर पाए और न ही कलाकारों से अच्छा अभिनय उन्होंने लिया। फिल्म का संगीत और गानों का फिल्मांकन भी खास नहीं है। अन्य तकनीकी पक्ष भी कमजोर है।\\n\\nकुल मिलाकर ‘एक सेकंड...जो जिंदगी बदल दे’ देखने का एक भी कारण इस फिल्म में मौजूद नहीं है।\\n'},\n",
       " {'index': 151,\n",
       "  'score': 0.6281874,\n",
       "  'text': 'बैनर :\\nवाय फिल्म्स\\n\\nनिर्माता :\\nआशीष पाटिल\\n\\nनिर्देशक :\\nबम्पी\\n\\nसंगीत :\\nराम सम्पत\\n\\nकलाकार :\\nश्रद्धा कपूर, ताहा शाह, शेनाज ट्रेजरीवाला, जन्नत जुबैर रहमानी, अर्चना पूरन सिंह, पश्ती एस.\\n\\nसेंसर सर्टिफिकेट : यू/ए * 1 घंटा 48 मिनट * 12 रील\\n\\n\\n\\nआमतौर पर हिंदी फिल्मों में दिखाया जाता है कि यदि हीरोइन को उसके प्रेमी ने धोखा दिया है तो वह आँसू बहाती है या नियति मानकर चुपचाप बैठी रहती है, लेकिन ‘लव का द एंड’ की हीरोइन ऐसी नहीं है। वह तुरंत फैसला लेती है अपने प्रेमी से बदला लेने का। उसे सबक सिखाने का।\\n\\n‘आई विल गेट हिम बाय हिज़ बॉल्स’ जैसे संवाद भी सुनने को मिलते हैं। हीरोइन का यह रूप और अंदाज इस फिल्म को फ्रेश लुक देता है, लेकिन यही सब एक अच्छी फिल्म के लिए काफी नहीं है। फिल्म के स्क्रीनप्ले में गड़बड़ी है और इस वजह से फिल्म भरपूर मजा नहीं दे पाती क्योंकि बीच-बीच में रफ पैचेस भी हैं।\\n\\nरिया (श्रद्धा कपूर) का जन्मदिन है और उसका बॉयफ्रेंड लव (ताहा शाह) चाहता है कि दोनों उस दिन शारीरिक संबंध बनाए। रिया तैयार है। इसके पहले कि लव और रिया अपने रिश्ते को नेक्स्ट लेवल तक ले जाए, रिया के सामने लव का राज खुल जाता है।\\n\\nलव उससे प्यार नहीं करता बल्कि वह सिर्फ उसके साथ सोना चाहता है। साथ ही वह एक वेबसाइट बिलियनेयर बॉयज क्लब का सदस्य भी है जो उन सदस्यों को पाइंट्स देती है जो अपने प्यार और सेक्स के वीडियो को वेबसाइट पर डाउनलोड करते हैं।\\n\\nरिया और उसकी दो दोस्त जग्स और सोनिया, लव का द एंड करने की सोचते हैं और उसे सबक सिखाते हैं। दरअसल बदला लेने के लिए रिया और उसकी सहेलियाँ जो हरकतें करती हैं वो कही-कही जगह बचकानी लगती हैं।\\n\\nये बात ठीक है कि फिल्म का माहौल ऐसा बनाया गया है जो थोड़ा कॉमेडी का टच लिए हो, युवाओं को अच्छा लगे, लेकिन सब कुछ इतनी आसानी से हो जाता है कि कुछ देर बाद अखरने लगता है।\\n\\nकुछ दृश्य ऐसे हैं जो मजेदार बन पड़े हैं। खासतौर पर लव के अंडरवियर में खुजली का पावडर डाल दिया गया है। वह अपनी दूसरी गर्लफ्रेंड के सामने बैठा है और बेसब्री से खुजाने को बेताब है। रिया और उसकी छोटी बहन के दृश्य भी अच्छे हैं। रिया की छोटी बहन अपनी 18 वर्षीय दीदी को कहती है कि उसकी (छोटी बहन की) जनरेशन की बातें वह नहीं समझ पाएगी।\\n\\nक्लाइमेक्स में फिल्म कमजोर पड़ जाती है, जब रिया को लव एक कमरे में ले जाता है ताकि उसके साथ संबंध बना सके और बाहर पार्टी में उसके दोस्त टीवी स्क्रीन पर अंदर का माजरा देख रहे हैं।\\n\\nसंवाद और कलाकारों का अभिनय फिल्म की जान है। श्रद्धा कपूर ने अपने अभिनय की रेंज दिखाई है, लेकिन उनसे बाजी मार ले जाती है उनकी मोटी सहेली जग्स बनी पश्ती एस.। हीरो के रूप में ताहा शाह प्रभावित करते हैं।\\n\\nनिर्देशक \\u200dबम्पी ने फेसबुक जनरेशन को बेहतरीन तरीके से पेश किया है। उनकी बातें, ड्रेस सेंस, बेबाकी, स्क्रीन पर देखते समय अच्छी लगती है। यदि \\u200dस्क्रिप्ट का उन्हें पूरी तरह मिल जाता तो बात अलग होती।\\n\\nराम संपत का संगीत तेज गति का है। टू नाइट, फन फंडा और मटन सांग देखते समय अच्छे लगते हैं। हालाँकि मटन सांग के लिए ठीक से सिचुएशन नहीं बनाई गई है।\\n\\n‘लव का द एंड’ में ताजगी है तो है लेकिन सुगंध में कमी महसूस होती है।\\n'},\n",
       " {'index': 121,\n",
       "  'score': 0.6271398,\n",
       "  'text': 'बैनर :\\nयशराज फिलम्स\\n\\nनिर्माता :\\nआदित्य चोपड़ा\\n\\nनिर्देशक :\\nमनीष शर्मा\\n\\nसंगीत :\\nसलीम मर्चेंट-सुलेमान मर्चेंट\\n\\nकलाकार :\\nरणवीर सिंह, अनुष्का शर्मा, परिणिती चोपड़ा, दीपान्निता शर्मा, अदिति शर्मा\\n\\nसेंसर सर्टिफिकेट : यू/ए * 2 घंटे 21 मिनट * 16 रील\\n\\n\\n\\nफिल्म की अंतिम \\u200dरील में हीरोइन को हीरो अपना असली नाम रिकी बहल बताते हुए कहता है कि वह सुधर गया है, लेकिन उसके बुरे से भले आदमी में परिवर्तित होने की प्रक्रिया इतनी आनंददायी नहीं है। आदित्य चोपड़ा की लिखी कहानी में मनोरंजन की जबरदस्त गुंजाइश थी, लेकिन स्क्रीनप्ले ऐसा लिखा गया कि मनोरंजन तो होता है, लेकिन आधा-अधूरा-सा।\\n\\nखासतौर \\u200dपर इंटरवल के बाद बोरियत इसलिए होती है क्योंकि कहानी को लंबा खींचा गया है और परदे पर जो घटनाक्रम घटते हैं वो दिलचस्प नहीं हैं। इंटरवल के पहले फिल्म जो उम्मीद जगाती है वैसा अंत नहीं हो पाता है, इसलिए फिल्म खत्म होने के बाद थोड़ी निराशा होती है।\\n\\nरिकी बहल (रणवीर सिंह) हुलिया और नाम बदलकर भारत के कई शहरों में लड़कियों को अपने जाल में फंसाता है और उन्हें लाखों रुपये का चूना लगाकर चम्पत हो जाता है। उसकी शिकार बनी तीन लड़कियां मिलकर अपना खोया पैसा वापस पाने के लिए उसे ठगने का प्लान बनाती हैं। इसके लिए वे ईशिका (अनुष्का शर्मा) को चुनती हैं जो बहुत तेज-तर्रार है।\\n\\nफिल्म तब तक बहुत हल्की-फुल्की और मनोरंजक है जब तक रिकी लड़कियों को बेवकूफ बनाकर उन्हें ठगता है। हालांकि जिस आसानी से वह लड़कियों और उनके परिवार वालों को बेवकूफ बनाता है उस पर प्रश्न उठाए जा सकते हैं, लेकिन एंटरटेनमेंट वैल्यू होने के कारण इन वाकयों को हजम किया जा सकता है।\\n\\nमनोरंजन का यह स्तर तब वैसा नहीं रहता जब लड़कियां रिकी को उल्लू बनाने की कोशिश करती हैं। इसका दोष स्क्रीनप्ले को दिया जा सकता है। सीधी चल रही कहानी में रोमांस को डाला गया है जो स्पीड ब्रेकर का काम करता है। रोमांस दिखाए बिना भी काम चल सकता था, लेकिन ज्यादा दर्शकों को खुश करने के चक्कर में मामला गड़बड़ हो गया।\\n\\nफिल्म के दूसरे हिस्से का भार अनुष्का के कंधों पर डाला गया है। रणवीर का पात्र अचानक शरीफ हो जाता है। चुप्पी साध लेता है। इस बदलाव का असर फिल्म पर होता है क्योंकि अनुष्का के किरदार पर वो मेहनत नहीं की गई है जो रणवीर के लिए की गई है।\\n\\nरणवीर सिंह का रोल ‘बैंड बाजा बारात’ में उनके \\u200dद्वारा निभाए गए किरदार का एक्सटेंशन ही है। वे वही हावभाव लिए इस फिल्म में नजर आए हैं। अनुष्का का अभिनय बेहतर है, लेकिन उनके किरदार को जितना स्मार्ट दिखाया गया है, उसे जस्टिफाई करने के लायक सीन नहीं लिखे गए हैं। पंजाबी लड़की का रोल बिंदास तरीके से परिणिती चोपड़ा ने निभाया है और उनके संवाद बोलने का अंदाज मजेदार है।\\n\\nनिर्देशक मनीष शर्मा का काम बेहतर है, लेकिन इस बार उन्हें ‘बैंड बाजा बारात’ जैसी स्क्रिप्ट नहीं मिली है। इसके बावजूद उन्होंने फिल्म को मनोरंजक बनाने में कोई कसर नहीं छोड़ी है। सलीम-सुलेमान का संगीत औसत दर्जे का है। केवल ‘आदत से मजबूर’ ही याद रहता है। बैकग्राउंड म्युजिक बेहतर है।\\n\\nकुल मिलाकर ‘लेडिस वर्सेस रिकी बहल’ एक हल्की-फुल्की फिल्म है। ज्यादा उम्मीद और दिमाग नहीं लगाया जाए तो पसंद आ सकती है।\\n'},\n",
       " {'index': 10,\n",
       "  'score': 0.62641716,\n",
       "  'text': \"IFM \\r\\t\\t\\t\\t\\t\\t\\t\\t\\tIFM \\r\\t\\t\\t\\t\\t\\t\\t\\t\\t \\nIFM \\r\\t\\t\\t\\t\\t\\t\\t\\t\\tIFM \\r\\t\\t\\t\\t\\t\\t\\t\\t\\t \\nनिर्माता :\\nआदित्य चोपड़ा\\nनिर्देशक :\\nशिमित अमीन\\nपटकथा-संवाद-गीत :\\nजयदीप साहनी\\nसंगीत :\\nसलीम-सुलेमा\\nन\\nकलाकार :\\nशाहरुख खान, विद्या मालवदे, अंजन श्रीवास्तव, जावेद खान\\nभारत में खेलों पर आधारित फिल्में गिनती की बनी हैं। खुशी की बात है कि पिछले एक-दो वर्षों से फिल्मों में भी खेल दिखाई देने लगा है। हॉकी हमारा राष्ट्रीय खेल है और इस समय यह पिछड़ा हुआ खेल माना जाता है। इस खेल पर फिल्म बनाकर निर्देशक शिमित अमीन ने एक साहसिक काम किया है।\\n‘चक दे इंडिया’ कबीर खान की कहानी है, जो कभी भारतीय टीम का श्रेष्ठ सेंटर फॉरवर्ड रह चुका था। पाकिस्तान के विरूद्ध एक फाइनल मैच में वह अंतिम क्षणों में पेनल्टी स्ट्रोक के जरिये गोल बनाने में चूक गया और भारत मैच हार गया।\\nमुस्लिम होने के कारण उसकी देशभक्ति पर प्रश्नचिह्न लगा दिया गया। उसे गद्दार कहा गया। उस मैच के बाद खिलाड़ी के रूप में उसका कॅरियर खत्म हो गया।\\nसात वर्ष बाद वह महिला हॉकी टीम का प्रशिक्षक बनता है। इस टीम को विश्व चैम्पियन बनाकर वह अपने ऊपर लगे हुए दाग को धोना चाहता है, लेकिन उसकी राह आसान नहीं थी।\\nइन लड़कियों का ध्यान खेल पर कम था। वे केवल नाम के लिए खेलती थीं। अलग प्रदेशों से आई इन लड़कियों में एकता नहीं थी। सीनियर खिलाडि़यों की दादागीरी थी।\\nकबीर इन खिलाडि़यों के दिमाग में यह बात डालता है कि वे भारतीय पहले हैं, फिर वे महाराष्ट्र या पंजाब की हैं। फिर शुरू होता है प्रशिक्षण का दौर। हर तरफ से बाधाएँ आती हैं और कबीर इन बाधाओं को पार कर अंत में अपनी टीम को विजेता बनाता है।\\nकहानी बड़ी सरल है, लेकिन जयदीप साहनी की पटकथा इतनी उम्दा है कि पहली फ्रेम से ही दर्शक फिल्म से जुड़ जाता है। छोटे-छोटे दृश्य इतने उम्दा तरीके से लिखे और फिल्माए गए हैं कि कई दृश्य सीधे दिल को छू जाते हैं।\\nशाहरुख जब अपनी टीम का परिचय प्राप्त करते हैं तो जो लड़की अपने नाम के साथ अपने प्रदेश का नाम जोड़ती है, उसे वे बाहर कर देते हैं और अपने नाम के साथ भारत का नाम जोड़ने वाली लड़की को वे शाबाशी देते हैं। ये उन लोगों पर करारी चोट है, जो प्रतिभा खोज कार्यक्रम में प्रतिभा चुनते समय अपने प्रदेश के पहले होते हैं और भारतीय बाद में।\\nऑस्ट्रेलिया में स्टेडियम के बाहर खड़े शाहरुख एक विदेश\\nी\\nकर्मचारी को भारत का तिरंगा लगाते हुए देखते रहते हैं। एक खिलाड़ी उनसे आकर पूछती है कि सर आप यहाँ क्या कर रहे है\\nं,\\nतो शाहरुख का जवाब होता है कि मैं एक गोरे को तिरंगा फहराते हुए पहली बार देख रहा हूँ।\\nभारत के लिए खेले एक श्रेष्ठ \\u200dहॉकी खिलाड़ी की आर्थिक स्थिति क्या होती है, ये निर्देशक ने शाहरुख को एक खटारा स्कूटर पर बैठाकर बिना संवाद के जरिये बयाँ कर दी।\\nमहिला टीम होन\\nे\\nक\\nे\\nकार\\nण\\nइन्हे\\nं\\nपुरुषों की छींटाकशी \\u200dका\\u200d शिकार भी होना पड़ता है। हॉकी एसोसिएशन के पदाधिकारियों की सोच रहती है कि चकला-बेलन चलाने वाली लड़कियाँ हॉकी क्या खेलेंगी, लेकिन निर्देशक ने कई दृश्यों के जरिये साबित किया है कि महिलाएँ किसी भी मामले में पुरुषों से कम नहीं हैं। शाहरुख एक जगह संवाद बोलते हैं 'जो महिला पुरुष को पैदा कर सकती है वह कुछ भी कर सकती है'।\\nशिमित का निर्देशन बेहद शानदार है। एक चुस्त पटकथा को उन्होंने बखूबी फिल्माया है। वे हॉकी के जरिये दर्शकों में राष्ट्रप्रेम की भावनाएँ जगाने में कामयाब रहे। एक सीन में मैच के पूर्व जब ‘जन-गण-मन’ की धुन बजती है, तो थिएटर में मौजूद दर्शक सम्मान में खड़े हो जाते हैं।\\nफिल्म में हर मैच के दौरान सिनेमाघर में उपस्थित दर्शक भारतीय टीम का इस तरह उत्साह बढ़ाते हैं, जैसे स्टेडियम में बैठकर वे सचमुच का मैच देख रहे हों। प्रत्येक दर्शक टीम से अपने आपको जुड़ा हुआ पाता है और यहीं पर शिमित की कामयाबी दिखाई देती है।\\nशाहरुख खान ने एक कलंकित खिलाड़ी और कठोर प्रशिक्षक की भूमिका को बखूबी निभाया है। वे शाहरुख खान नहीं लगकर कबीर खान लगे हैं। कई दृश्यों में उन्होंने अपने भाव मात्र आँखों से व्यक्त किए हैं। कलंक धोने की उनकी बेचैनी उनके चेहरे पर दिखाई देती है।\\nउनकी टीम में शामिल 16 लड़कियाँ भी शाहरुख को टक्कर देने के मामले में कम नहीं रहीं। उनकी आपसी नोकझोंक और हॉकी खेलने वाले दृश्य उम्दा हैं। पंजाब और हरियाणा से आई लड़कियों का अभिनय शानदार है।\\nफिल्म में गाने हैं, लेकिन वे पार्श्व में बजते रहते हैं। इन गीतों का उपयोग बिलकुल सही स्थानों पर किया गया है। जयदीप साहनी के संवाद सराहनीय है।\\nकुल मिलाकर ‘चक दे इंडिया’ एक बार जरूर देखी जानी चाहिए।\\n\"}]"
      ]
     },
     "execution_count": 69,
     "metadata": {
      "tags": []
     },
     "output_type": "execute_result"
    }
   ],
   "source": [
    "TextSearch().find_similar(query_text=y_hindi,top_n=10)"
   ]
  },
  {
   "cell_type": "markdown",
   "metadata": {
    "id": "CushL1gBPkDw"
   },
   "source": [
    "#####**Japanese**"
   ]
  },
  {
   "cell_type": "code",
   "execution_count": null,
   "metadata": {
    "colab": {
     "base_uri": "https://localhost:8080/"
    },
    "id": "wfSdXx0hPlCI",
    "outputId": "e4dffd36-710a-4db2-8604-d12ae6c7cfa7"
   },
   "outputs": [
    {
     "name": "stdout",
     "output_type": "stream",
     "text": [
      "Search Engine:経済的\n",
      "経済的\n"
     ]
    }
   ],
   "source": [
    "X_japanese=input(\"Search Engine:\")\n",
    "# y_japanese=spellcheck.correct(X_japanese)\n",
    "print(X_japanese)"
   ]
  },
  {
   "cell_type": "code",
   "execution_count": null,
   "metadata": {
    "colab": {
     "base_uri": "https://localhost:8080/",
     "height": 166,
     "referenced_widgets": [
      "711e77a50d634c6f9f606e60a5094d23",
      "0ae9f6ebf73849ab96ecfd214cd822fa",
      "611d1566d0ec49119edadce78ac8a7a4",
      "df2454b188284bd6a654257c61a20dd9",
      "97454ec69e0248dea957d201011b8e92",
      "4285bcf59ec041c99cf285ac7b7f51c2",
      "fbdbd89ba1f24e4f9f9590945bb6ca9b",
      "1b7c6eaffb1a4ffbb9399d7d5395ad42"
     ]
    },
    "id": "eL7YJ5hYPlCK",
    "outputId": "4876e15a-840e-45cd-b2c0-e35fced720c0"
   },
   "outputs": [
    {
     "name": "stdout",
     "output_type": "stream",
     "text": [
      "Embedding data allready present, Do you want Embed & Save Again? Enter yes or no\n",
      "yes\n"
     ]
    },
    {
     "data": {
      "application/vnd.jupyter.widget-view+json": {
       "model_id": "711e77a50d634c6f9f606e60a5094d23",
       "version_major": 2,
       "version_minor": 0
      },
      "text/plain": [
       "HBox(children=(FloatProgress(value=0.0, description='Batches', max=3.0, style=ProgressStyle(description_width=…"
      ]
     },
     "metadata": {
      "tags": []
     },
     "output_type": "display_data"
    },
    {
     "name": "stdout",
     "output_type": "stream",
     "text": [
      "\n",
      "Embedding data Saved Successfully Again!\n",
      "['corpus_list_data.pickle', 'corpus_embeddings_data.pickle']\n",
      "Embedding data Loaded Successfully!\n",
      "['corpus_list_data.pickle', 'corpus_embeddings_data.pickle']\n"
     ]
    }
   ],
   "source": [
    "data_chinese = LoadData().from_text(\"Japanes_Shinzo Abe Tweet 20171024 - Tweet.csv\")\n",
    "TextEmbedder().embed(corpus_list=data_chinese)\n",
    "corpus_embedding = TextEmbedder().load_embedding()"
   ]
  },
  {
   "cell_type": "code",
   "execution_count": null,
   "metadata": {
    "colab": {
     "base_uri": "https://localhost:8080/"
    },
    "id": "c9NYUDntPlCK",
    "outputId": "2b3394ca-271a-493a-f6db-86153241e364"
   },
   "outputs": [
    {
     "data": {
      "text/plain": [
       "[{'index': 8,\n",
       "  'score': 0.37281364,\n",
       "  'text': 'https://twitter.com/AbeShinzo,安倍晋三,AbeShinzo,Oct 17,https://twitter.com/AbeShinzo/status/920292054663434245,私たち自民党は日本の経済を支えている中小企業を力強く応援したい。その思いから中小・小規模事業者の固定資産税を、３年間半減する制度を始め既に３万件近い利用がありました。この制度の実現により中小企業の倒産は3割も減少しました。更に生産性を高めるための支援を大胆に進めます。pic.twitter.com/N9oB57kACi,\"We LDP would like to strongly support the small and medium-sized companies that are supporting the Japanese economy. The property tax of small and medium-sized and small businesses from the thought, there was already available 30,000 close, including a system to half three years. Bankruptcy of small and medium-sized companies by the implementation of this system has also been reduced by 30%. We boldly promoted the support of to further enhance the productivity. pic.twitter.com/N9oB57kACi\",pic.twitter.com/N9oB57kACi,https://t.co/N9oB57kACi,529 replies,\"5,336 retweets\",\"11,611 likes\",529,5.3K,12K'},\n",
       " {'index': 63,\n",
       "  'score': 0.36950642,\n",
       "  'text': 'https://twitter.com/AbeShinzo,安倍晋三,AbeShinzo,31 Mar 2016,https://twitter.com/AbeShinzo/status/715497509011861504,元FRB議長、元財務長官、世界銀行総裁など経済の専門家たちと、現下の世界経済について意見交換。伊勢志摩サミットの最大のテーマは世界経済。誰もが異口同音に「世界経済の不透明感が増す中で、日本の役割は大きい」。日本への大きな期待を痛感。pic.twitter.com/eJ5LR4S3R8,\"Former FRB chairman, former Secretary of the Treasury, and the experts of the economy such as the World Bank president, exchanged views on the Fight of the world economy. The maximum of the theme of Ise-Shima summit the world economy. Everyone in one voice \"\"in the uncertainty of the world economy increases, the role of Japan\\'s large\"\". Keenly aware of the high expectations of Japan. pic.twitter.com/eJ5LR4S3R8\",pic.twitter.com/eJ5LR4S3R8,https://t.co/eJ5LR4S3R8,171 replies,842 retweets,\"1,368 likes\",171,842,1.4K'},\n",
       " {'index': 62,\n",
       "  'score': 0.35948235,\n",
       "  'text': \"https://twitter.com/AbeShinzo,安倍晋三,AbeShinzo,31 Mar 2016,https://twitter.com/AbeShinzo/status/715497629832970240,Good discussions w. leading experts in economics in Washington. Japan's role in world economy that is uncertain is tremendously important.,Good discussions w. Leading experts in economics in Washington. Japan's role in world economy that is uncertain is tremendously important.,,,65 replies,305 retweets,556 likes,65,305,556\"},\n",
       " {'index': 14,\n",
       "  'score': 0.27642873,\n",
       "  'text': 'https://twitter.com/AbeShinzo,安倍晋三,AbeShinzo,Oct 14,https://twitter.com/AbeShinzo/status/919126975544836096,熊本地震から一年半、被害に遭われまだまだ不自由な生活を余儀なくされている多くの被災者の皆様が早く安心して元の生活に戻れるよう全力で復興を成し遂げて参ります。 #この国を守り抜く #衆院選 #自民党pic.twitter.com/HSCeZwlQWl,\"A year and a half from Kumamoto earthquake, we will accomplish the reconstruction at best to return to the original life with peace of mind quickly everyone of a number of victims have been forced to still crippled life is become a victim. # Defend this country # # House of Representatives election the Liberal Democratic Party pic.twitter.com/HSCeZwlQWl\",pic.twitter.com/HSCeZwlQWl,https://t.co/HSCeZwlQWl,387 replies,\"5,818 retweets\",\"12,641 likes\",387,5.8K,13K'},\n",
       " {'index': 21,\n",
       "  'score': 0.26905608,\n",
       "  'text': 'https://twitter.com/AbeShinzo,安倍晋三,AbeShinzo,Oct 10,https://twitter.com/AbeShinzo/status/917711860945739776,明日１０月１１日(水) 安倍晋三総裁は静岡県、愛知県に参ります。 詳細は是非、自民党の特設サイトでご確認下さい。 #自民党 #安倍晋三 #街頭演説https://special.jimin.jp,\"Tomorrow, October 11 (Wednesday) Susumusan Abe President Shizuoka Prefecture, will be with you in Aichi Prefecture. Come more information, please visit the special website of the Liberal Democratic Party. # Liberal Democratic Party # Shinzo Abe # soapbox https://special.jimin.jp\",https://special.jimin.jp,https://t.co/R0FiHqk5h9,483 replies,\"2,475 retweets\",\"5,945 likes\",483,2.5K,5.9K'},\n",
       " {'index': 1,\n",
       "  'score': 0.26412064,\n",
       "  'text': 'https://twitter.com/AbeShinzo,安倍晋三,AbeShinzo,Oct 21,https://twitter.com/AbeShinzo/status/921745765067669505,選挙期間中、自民党の候補者たちは全国各地で我々の経済政策を、安全保障を、そして日本の将来を担っていく決意と地域を支える想いを皆様に訴えかけさせていただきました。「この国を、守り抜く。」自民党はこれからも皆様とともに歩みを進めて参ります。本当に１２日間ご声援ありがとうございました。https://twitter.com/jimin_koho/status/921744056987693057 …,\"During the election period, candidates who of the Liberal Democratic Party is our economic policies throughout the country, the security, and the was I would like to appeal to everybody thought to support the future of the plays are going determination and regions of Japan. \"\"This country, defend.\"\" The Liberal Democratic Party will continue to be promoted to walk with everyone from now on. Thank you for your support really 12 days. https://twitter.com/jimin_koho/status/921744056987693057 ...\",https://twitter.com/jimin_koho/status/921744056987693057 …,https://t.co/HVjFn3QJp5,\"1,133 replies\",\"5,752 retweets\",\"14,514 likes\",1.1K,5.8K,15K'},\n",
       " {'index': 23,\n",
       "  'score': 0.25998163,\n",
       "  'text': 'https://twitter.com/AbeShinzo,安倍晋三,AbeShinzo,Oct 9,https://twitter.com/AbeShinzo/status/917368221845434368,明日１０月１０日(火) 安倍晋三総裁演説日程が以下の通り決定しました。 皆様ぜひご参加ください。 ●安倍 晋三 総裁 （福島県・岩手県・宮城県） 10:35 踊る小馬亭向かい広場（福島市佐原） 13:40 一関市役所前 15:45 仙台駅東口松栄不動産前 16:30 アエル前pic.twitter.com/qGha2Sytwb,\"October 10 (Tuesday) is Susumusan Abe President speech dates were decided as follows tomorrow. Everyone, please join us. ● Susumusan Abe President (Fukushima Prefecture, Iwate Prefecture, Miyagi Prefecture) 10:35 dance Shoumatei facing Square (Fukushima Sahara) 13:40 Ichinoseki City Hall 15:45 Sendai Station East Shoei real estate before 16:30 AER before pic. twitter.com/qGha2Sytwb\",pic.twitter.com/qGha2Sytwb,https://t.co/qGha2Sytwb,620 replies,\"3,034 retweets\",\"6,573 likes\",620,3.0K,6.6K'},\n",
       " {'index': 22,\n",
       "  'score': 0.25498116,\n",
       "  'text': 'https://twitter.com/AbeShinzo,安倍晋三,AbeShinzo,Oct 10,https://twitter.com/AbeShinzo/status/917680616488943617,いよいよ本日より衆議院総選挙、選挙戦が始まります。 「この選挙は誰に日本の安全を託すのか誰に日本の未来を託すのか。それを決める選挙です。」我々自民党は全力で全国各地で政策を訴え、戦い抜く決意です。 #この国を守り抜く #衆院選 #自民党pic.twitter.com/w3JxANPbz0,\"Finally today from the House of Representatives general election, election campaign starts. \"\"What commit anyone to Japan of the future or of committing this election is to anyone safety of Japan. It is an election to decide it.\"\" We Liberal Democratic Party sued the policy all over the country with full force, is a battle pull out determination. # # # House of Representatives election the Liberal Democratic Party pic.twitter.com/w3JxANPbz0 to defend this country\",pic.twitter.com/w3JxANPbz0,https://t.co/w3JxANPbz0,968 replies,\"8,091 retweets\",\"16,692 likes\",968,8.1K,17K'},\n",
       " {'index': 3,\n",
       "  'score': 0.25350255,\n",
       "  'text': 'https://twitter.com/AbeShinzo,安倍晋三,AbeShinzo,Oct 20,https://twitter.com/AbeShinzo/status/921322049573765120,明日１０月２１日(土) 安倍晋三総裁は岐阜県、愛知県、東京都に参ります。 詳細は是非、自民党の特設サイトでご確認下さい。https://special.jimin.jp/,\"Tomorrow, October 21 (Saturday) Susumusan Abe President Gifu Prefecture, Aichi Prefecture, will come to Tokyo. Come more information, please visit the special website of the Liberal Democratic Party. https://special.jimin.jp/\",https://special.jimin.jp/,https://t.co/vKXI8z5Mjr,358 replies,\"2,213 retweets\",\"4,922 likes\",358,2.2K,4.9K'},\n",
       " {'index': 17,\n",
       "  'score': 0.2500959,\n",
       "  'text': 'https://twitter.com/AbeShinzo,安倍晋三,AbeShinzo,Oct 12,https://twitter.com/AbeShinzo/status/918448154474770432,明日１０月１３日(金) 安倍晋三総裁は鹿児島県、熊本県、長崎県に参ります。 詳細は是非、自民党の特設サイトでご確認下さい。 https://special.jimin.jp/ #自民党 #安倍晋三 #街頭演説,\"Tomorrow, October 13 (Friday) Susumusan Abe President Kagoshima Prefecture, Kumamoto Prefecture, will be with you in Nagasaki Prefecture. Come more information, please visit the special website of the Liberal Democratic Party. https://special.jimin.jp/ # Liberal Democratic Party # Shinzo Abe # soapbox\",,,358 replies,\"2,175 retweets\",\"5,168 likes\",358,2.2K,5.2K'}]"
      ]
     },
     "execution_count": 72,
     "metadata": {
      "tags": []
     },
     "output_type": "execute_result"
    }
   ],
   "source": [
    "TextSearch().find_similar(query_text=X_japanese,top_n=10)"
   ]
  }
 ],
 "metadata": {
  "colab": {
   "collapsed_sections": [],
   "name": "Code.ipynb",
   "provenance": []
  },
  "kernelspec": {
   "display_name": "Python 3 (ipykernel)",
   "language": "python",
   "name": "python3"
  },
  "language_info": {
   "codemirror_mode": {
    "name": "ipython",
    "version": 3
   },
   "file_extension": ".py",
   "mimetype": "text/x-python",
   "name": "python",
   "nbconvert_exporter": "python",
   "pygments_lexer": "ipython3",
   "version": "3.9.7"
  },
  "widgets": {
   "application/vnd.jupyter.widget-state+json": {
    "09865a7cf85544b797decbf27d8e7c5d": {
     "model_module": "@jupyter-widgets/controls",
     "model_name": "HTMLModel",
     "state": {
      "_dom_classes": [],
      "_model_module": "@jupyter-widgets/controls",
      "_model_module_version": "1.5.0",
      "_model_name": "HTMLModel",
      "_view_count": null,
      "_view_module": "@jupyter-widgets/controls",
      "_view_module_version": "1.5.0",
      "_view_name": "HTMLView",
      "description": "",
      "description_tooltip": null,
      "layout": "IPY_MODEL_4bd8bf0f01b84f84bdcd4660f23e61a7",
      "placeholder": "​",
      "style": "IPY_MODEL_cad74d9018ae4740bf51b92a9436324d",
      "value": " 1.52G/1.52G [00:53&lt;00:00, 28.3MB/s]"
     }
    },
    "0a636b907c1d45e287a20b8445918ad8": {
     "model_module": "@jupyter-widgets/controls",
     "model_name": "ProgressStyleModel",
     "state": {
      "_model_module": "@jupyter-widgets/controls",
      "_model_module_version": "1.5.0",
      "_model_name": "ProgressStyleModel",
      "_view_count": null,
      "_view_module": "@jupyter-widgets/base",
      "_view_module_version": "1.2.0",
      "_view_name": "StyleView",
      "bar_color": null,
      "description_width": "initial"
     }
    },
    "0ae9f6ebf73849ab96ecfd214cd822fa": {
     "model_module": "@jupyter-widgets/base",
     "model_name": "LayoutModel",
     "state": {
      "_model_module": "@jupyter-widgets/base",
      "_model_module_version": "1.2.0",
      "_model_name": "LayoutModel",
      "_view_count": null,
      "_view_module": "@jupyter-widgets/base",
      "_view_module_version": "1.2.0",
      "_view_name": "LayoutView",
      "align_content": null,
      "align_items": null,
      "align_self": null,
      "border": null,
      "bottom": null,
      "display": null,
      "flex": null,
      "flex_flow": null,
      "grid_area": null,
      "grid_auto_columns": null,
      "grid_auto_flow": null,
      "grid_auto_rows": null,
      "grid_column": null,
      "grid_gap": null,
      "grid_row": null,
      "grid_template_areas": null,
      "grid_template_columns": null,
      "grid_template_rows": null,
      "height": null,
      "justify_content": null,
      "justify_items": null,
      "left": null,
      "margin": null,
      "max_height": null,
      "max_width": null,
      "min_height": null,
      "min_width": null,
      "object_fit": null,
      "object_position": null,
      "order": null,
      "overflow": null,
      "overflow_x": null,
      "overflow_y": null,
      "padding": null,
      "right": null,
      "top": null,
      "visibility": null,
      "width": null
     }
    },
    "0d0da18a78bf4bef85607f6448a241b1": {
     "model_module": "@jupyter-widgets/base",
     "model_name": "LayoutModel",
     "state": {
      "_model_module": "@jupyter-widgets/base",
      "_model_module_version": "1.2.0",
      "_model_name": "LayoutModel",
      "_view_count": null,
      "_view_module": "@jupyter-widgets/base",
      "_view_module_version": "1.2.0",
      "_view_name": "LayoutView",
      "align_content": null,
      "align_items": null,
      "align_self": null,
      "border": null,
      "bottom": null,
      "display": null,
      "flex": null,
      "flex_flow": null,
      "grid_area": null,
      "grid_auto_columns": null,
      "grid_auto_flow": null,
      "grid_auto_rows": null,
      "grid_column": null,
      "grid_gap": null,
      "grid_row": null,
      "grid_template_areas": null,
      "grid_template_columns": null,
      "grid_template_rows": null,
      "height": null,
      "justify_content": null,
      "justify_items": null,
      "left": null,
      "margin": null,
      "max_height": null,
      "max_width": null,
      "min_height": null,
      "min_width": null,
      "object_fit": null,
      "object_position": null,
      "order": null,
      "overflow": null,
      "overflow_x": null,
      "overflow_y": null,
      "padding": null,
      "right": null,
      "top": null,
      "visibility": null,
      "width": null
     }
    },
    "0e3caa26edd24ca09d97f73ff86de8ff": {
     "model_module": "@jupyter-widgets/controls",
     "model_name": "HBoxModel",
     "state": {
      "_dom_classes": [],
      "_model_module": "@jupyter-widgets/controls",
      "_model_module_version": "1.5.0",
      "_model_name": "HBoxModel",
      "_view_count": null,
      "_view_module": "@jupyter-widgets/controls",
      "_view_module_version": "1.5.0",
      "_view_name": "HBoxView",
      "box_style": "",
      "children": [
       "IPY_MODEL_92f02b18a9524feab847c1dcdc4740ec",
       "IPY_MODEL_789ce6d3f56e4d8c9695c8ab26a0b7d3"
      ],
      "layout": "IPY_MODEL_31bd0883d6bc457eafc8add73b183853"
     }
    },
    "119d9db9ba1044bfa222a797a0c2f4c1": {
     "model_module": "@jupyter-widgets/controls",
     "model_name": "DescriptionStyleModel",
     "state": {
      "_model_module": "@jupyter-widgets/controls",
      "_model_module_version": "1.5.0",
      "_model_name": "DescriptionStyleModel",
      "_view_count": null,
      "_view_module": "@jupyter-widgets/base",
      "_view_module_version": "1.2.0",
      "_view_name": "StyleView",
      "description_width": ""
     }
    },
    "11ebf1fffa004c8fa5017af4a4c0ace0": {
     "model_module": "@jupyter-widgets/controls",
     "model_name": "DescriptionStyleModel",
     "state": {
      "_model_module": "@jupyter-widgets/controls",
      "_model_module_version": "1.5.0",
      "_model_name": "DescriptionStyleModel",
      "_view_count": null,
      "_view_module": "@jupyter-widgets/base",
      "_view_module_version": "1.2.0",
      "_view_name": "StyleView",
      "description_width": ""
     }
    },
    "135bae664c5949d785d73c11ba587040": {
     "model_module": "@jupyter-widgets/controls",
     "model_name": "FloatProgressModel",
     "state": {
      "_dom_classes": [],
      "_model_module": "@jupyter-widgets/controls",
      "_model_module_version": "1.5.0",
      "_model_name": "FloatProgressModel",
      "_view_count": null,
      "_view_module": "@jupyter-widgets/controls",
      "_view_module_version": "1.5.0",
      "_view_name": "ProgressView",
      "bar_style": "success",
      "description": "Downloading: 100%",
      "description_tooltip": null,
      "layout": "IPY_MODEL_de9193a75524436caf606e21b1ec599c",
      "max": 435797,
      "min": 0,
      "orientation": "horizontal",
      "style": "IPY_MODEL_5a7875604aef42748741521e7897ce55",
      "value": 435797
     }
    },
    "15eb1cc7014b4e788c511409a7d2c128": {
     "model_module": "@jupyter-widgets/base",
     "model_name": "LayoutModel",
     "state": {
      "_model_module": "@jupyter-widgets/base",
      "_model_module_version": "1.2.0",
      "_model_name": "LayoutModel",
      "_view_count": null,
      "_view_module": "@jupyter-widgets/base",
      "_view_module_version": "1.2.0",
      "_view_name": "LayoutView",
      "align_content": null,
      "align_items": null,
      "align_self": null,
      "border": null,
      "bottom": null,
      "display": null,
      "flex": null,
      "flex_flow": null,
      "grid_area": null,
      "grid_auto_columns": null,
      "grid_auto_flow": null,
      "grid_auto_rows": null,
      "grid_column": null,
      "grid_gap": null,
      "grid_row": null,
      "grid_template_areas": null,
      "grid_template_columns": null,
      "grid_template_rows": null,
      "height": null,
      "justify_content": null,
      "justify_items": null,
      "left": null,
      "margin": null,
      "max_height": null,
      "max_width": null,
      "min_height": null,
      "min_width": null,
      "object_fit": null,
      "object_position": null,
      "order": null,
      "overflow": null,
      "overflow_x": null,
      "overflow_y": null,
      "padding": null,
      "right": null,
      "top": null,
      "visibility": null,
      "width": null
     }
    },
    "1b7c6eaffb1a4ffbb9399d7d5395ad42": {
     "model_module": "@jupyter-widgets/base",
     "model_name": "LayoutModel",
     "state": {
      "_model_module": "@jupyter-widgets/base",
      "_model_module_version": "1.2.0",
      "_model_name": "LayoutModel",
      "_view_count": null,
      "_view_module": "@jupyter-widgets/base",
      "_view_module_version": "1.2.0",
      "_view_name": "LayoutView",
      "align_content": null,
      "align_items": null,
      "align_self": null,
      "border": null,
      "bottom": null,
      "display": null,
      "flex": null,
      "flex_flow": null,
      "grid_area": null,
      "grid_auto_columns": null,
      "grid_auto_flow": null,
      "grid_auto_rows": null,
      "grid_column": null,
      "grid_gap": null,
      "grid_row": null,
      "grid_template_areas": null,
      "grid_template_columns": null,
      "grid_template_rows": null,
      "height": null,
      "justify_content": null,
      "justify_items": null,
      "left": null,
      "margin": null,
      "max_height": null,
      "max_width": null,
      "min_height": null,
      "min_width": null,
      "object_fit": null,
      "object_position": null,
      "order": null,
      "overflow": null,
      "overflow_x": null,
      "overflow_y": null,
      "padding": null,
      "right": null,
      "top": null,
      "visibility": null,
      "width": null
     }
    },
    "1e81dedef9bf4582b58f80f85a0fc849": {
     "model_module": "@jupyter-widgets/base",
     "model_name": "LayoutModel",
     "state": {
      "_model_module": "@jupyter-widgets/base",
      "_model_module_version": "1.2.0",
      "_model_name": "LayoutModel",
      "_view_count": null,
      "_view_module": "@jupyter-widgets/base",
      "_view_module_version": "1.2.0",
      "_view_name": "LayoutView",
      "align_content": null,
      "align_items": null,
      "align_self": null,
      "border": null,
      "bottom": null,
      "display": null,
      "flex": null,
      "flex_flow": null,
      "grid_area": null,
      "grid_auto_columns": null,
      "grid_auto_flow": null,
      "grid_auto_rows": null,
      "grid_column": null,
      "grid_gap": null,
      "grid_row": null,
      "grid_template_areas": null,
      "grid_template_columns": null,
      "grid_template_rows": null,
      "height": null,
      "justify_content": null,
      "justify_items": null,
      "left": null,
      "margin": null,
      "max_height": null,
      "max_width": null,
      "min_height": null,
      "min_width": null,
      "object_fit": null,
      "object_position": null,
      "order": null,
      "overflow": null,
      "overflow_x": null,
      "overflow_y": null,
      "padding": null,
      "right": null,
      "top": null,
      "visibility": null,
      "width": null
     }
    },
    "24d6cfa0b7584214b6e6aa85ad8e2907": {
     "model_module": "@jupyter-widgets/base",
     "model_name": "LayoutModel",
     "state": {
      "_model_module": "@jupyter-widgets/base",
      "_model_module_version": "1.2.0",
      "_model_name": "LayoutModel",
      "_view_count": null,
      "_view_module": "@jupyter-widgets/base",
      "_view_module_version": "1.2.0",
      "_view_name": "LayoutView",
      "align_content": null,
      "align_items": null,
      "align_self": null,
      "border": null,
      "bottom": null,
      "display": null,
      "flex": null,
      "flex_flow": null,
      "grid_area": null,
      "grid_auto_columns": null,
      "grid_auto_flow": null,
      "grid_auto_rows": null,
      "grid_column": null,
      "grid_gap": null,
      "grid_row": null,
      "grid_template_areas": null,
      "grid_template_columns": null,
      "grid_template_rows": null,
      "height": null,
      "justify_content": null,
      "justify_items": null,
      "left": null,
      "margin": null,
      "max_height": null,
      "max_width": null,
      "min_height": null,
      "min_width": null,
      "object_fit": null,
      "object_position": null,
      "order": null,
      "overflow": null,
      "overflow_x": null,
      "overflow_y": null,
      "padding": null,
      "right": null,
      "top": null,
      "visibility": null,
      "width": null
     }
    },
    "279d7ebd04c9456c9da50008d4adb76f": {
     "model_module": "@jupyter-widgets/controls",
     "model_name": "ProgressStyleModel",
     "state": {
      "_model_module": "@jupyter-widgets/controls",
      "_model_module_version": "1.5.0",
      "_model_name": "ProgressStyleModel",
      "_view_count": null,
      "_view_module": "@jupyter-widgets/base",
      "_view_module_version": "1.2.0",
      "_view_name": "StyleView",
      "bar_color": null,
      "description_width": "initial"
     }
    },
    "29199524fd6d4b0aae7ba3f5be79d4c1": {
     "model_module": "@jupyter-widgets/base",
     "model_name": "LayoutModel",
     "state": {
      "_model_module": "@jupyter-widgets/base",
      "_model_module_version": "1.2.0",
      "_model_name": "LayoutModel",
      "_view_count": null,
      "_view_module": "@jupyter-widgets/base",
      "_view_module_version": "1.2.0",
      "_view_name": "LayoutView",
      "align_content": null,
      "align_items": null,
      "align_self": null,
      "border": null,
      "bottom": null,
      "display": null,
      "flex": null,
      "flex_flow": null,
      "grid_area": null,
      "grid_auto_columns": null,
      "grid_auto_flow": null,
      "grid_auto_rows": null,
      "grid_column": null,
      "grid_gap": null,
      "grid_row": null,
      "grid_template_areas": null,
      "grid_template_columns": null,
      "grid_template_rows": null,
      "height": null,
      "justify_content": null,
      "justify_items": null,
      "left": null,
      "margin": null,
      "max_height": null,
      "max_width": null,
      "min_height": null,
      "min_width": null,
      "object_fit": null,
      "object_position": null,
      "order": null,
      "overflow": null,
      "overflow_x": null,
      "overflow_y": null,
      "padding": null,
      "right": null,
      "top": null,
      "visibility": null,
      "width": null
     }
    },
    "29bd005acb014f6a8f3d244e3d5ca492": {
     "model_module": "@jupyter-widgets/base",
     "model_name": "LayoutModel",
     "state": {
      "_model_module": "@jupyter-widgets/base",
      "_model_module_version": "1.2.0",
      "_model_name": "LayoutModel",
      "_view_count": null,
      "_view_module": "@jupyter-widgets/base",
      "_view_module_version": "1.2.0",
      "_view_name": "LayoutView",
      "align_content": null,
      "align_items": null,
      "align_self": null,
      "border": null,
      "bottom": null,
      "display": null,
      "flex": null,
      "flex_flow": null,
      "grid_area": null,
      "grid_auto_columns": null,
      "grid_auto_flow": null,
      "grid_auto_rows": null,
      "grid_column": null,
      "grid_gap": null,
      "grid_row": null,
      "grid_template_areas": null,
      "grid_template_columns": null,
      "grid_template_rows": null,
      "height": null,
      "justify_content": null,
      "justify_items": null,
      "left": null,
      "margin": null,
      "max_height": null,
      "max_width": null,
      "min_height": null,
      "min_width": null,
      "object_fit": null,
      "object_position": null,
      "order": null,
      "overflow": null,
      "overflow_x": null,
      "overflow_y": null,
      "padding": null,
      "right": null,
      "top": null,
      "visibility": null,
      "width": null
     }
    },
    "2b9d8ff1b5714b4889606a696e1a4872": {
     "model_module": "@jupyter-widgets/controls",
     "model_name": "ProgressStyleModel",
     "state": {
      "_model_module": "@jupyter-widgets/controls",
      "_model_module_version": "1.5.0",
      "_model_name": "ProgressStyleModel",
      "_view_count": null,
      "_view_module": "@jupyter-widgets/base",
      "_view_module_version": "1.2.0",
      "_view_name": "StyleView",
      "bar_color": null,
      "description_width": "initial"
     }
    },
    "2ccc9d7feb844ced8b481d5f245d51ca": {
     "model_module": "@jupyter-widgets/controls",
     "model_name": "DescriptionStyleModel",
     "state": {
      "_model_module": "@jupyter-widgets/controls",
      "_model_module_version": "1.5.0",
      "_model_name": "DescriptionStyleModel",
      "_view_count": null,
      "_view_module": "@jupyter-widgets/base",
      "_view_module_version": "1.2.0",
      "_view_name": "StyleView",
      "description_width": ""
     }
    },
    "31bd0883d6bc457eafc8add73b183853": {
     "model_module": "@jupyter-widgets/base",
     "model_name": "LayoutModel",
     "state": {
      "_model_module": "@jupyter-widgets/base",
      "_model_module_version": "1.2.0",
      "_model_name": "LayoutModel",
      "_view_count": null,
      "_view_module": "@jupyter-widgets/base",
      "_view_module_version": "1.2.0",
      "_view_name": "LayoutView",
      "align_content": null,
      "align_items": null,
      "align_self": null,
      "border": null,
      "bottom": null,
      "display": null,
      "flex": null,
      "flex_flow": null,
      "grid_area": null,
      "grid_auto_columns": null,
      "grid_auto_flow": null,
      "grid_auto_rows": null,
      "grid_column": null,
      "grid_gap": null,
      "grid_row": null,
      "grid_template_areas": null,
      "grid_template_columns": null,
      "grid_template_rows": null,
      "height": null,
      "justify_content": null,
      "justify_items": null,
      "left": null,
      "margin": null,
      "max_height": null,
      "max_width": null,
      "min_height": null,
      "min_width": null,
      "object_fit": null,
      "object_position": null,
      "order": null,
      "overflow": null,
      "overflow_x": null,
      "overflow_y": null,
      "padding": null,
      "right": null,
      "top": null,
      "visibility": null,
      "width": null
     }
    },
    "332dd15aeb1e4d3fbb1533ed780702b6": {
     "model_module": "@jupyter-widgets/controls",
     "model_name": "HTMLModel",
     "state": {
      "_dom_classes": [],
      "_model_module": "@jupyter-widgets/controls",
      "_model_module_version": "1.5.0",
      "_model_name": "HTMLModel",
      "_view_count": null,
      "_view_module": "@jupyter-widgets/controls",
      "_view_module_version": "1.5.0",
      "_view_name": "HTMLView",
      "description": "",
      "description_tooltip": null,
      "layout": "IPY_MODEL_d23cc189b6c74ae691d4c675ccb354b9",
      "placeholder": "​",
      "style": "IPY_MODEL_ef25818941fb4d70a68282a8e1eab6f2",
      "value": " 1/1 [00:13&lt;00:00, 13.57s/it]"
     }
    },
    "3934a20f5a254ba58e05d26f8bd6d240": {
     "model_module": "@jupyter-widgets/controls",
     "model_name": "DescriptionStyleModel",
     "state": {
      "_model_module": "@jupyter-widgets/controls",
      "_model_module_version": "1.5.0",
      "_model_name": "DescriptionStyleModel",
      "_view_count": null,
      "_view_module": "@jupyter-widgets/base",
      "_view_module_version": "1.2.0",
      "_view_name": "StyleView",
      "description_width": ""
     }
    },
    "3e6cbfd737444a3090c0a5909cdf4d9a": {
     "model_module": "@jupyter-widgets/controls",
     "model_name": "HTMLModel",
     "state": {
      "_dom_classes": [],
      "_model_module": "@jupyter-widgets/controls",
      "_model_module_version": "1.5.0",
      "_model_name": "HTMLModel",
      "_view_count": null,
      "_view_module": "@jupyter-widgets/controls",
      "_view_module_version": "1.5.0",
      "_view_name": "HTMLView",
      "description": "",
      "description_tooltip": null,
      "layout": "IPY_MODEL_15eb1cc7014b4e788c511409a7d2c128",
      "placeholder": "​",
      "style": "IPY_MODEL_9ec0b6f9518b4dbd96af7e4cb16aff86",
      "value": " 570/570 [01:49&lt;00:00, 5.22B/s]"
     }
    },
    "4285bcf59ec041c99cf285ac7b7f51c2": {
     "model_module": "@jupyter-widgets/base",
     "model_name": "LayoutModel",
     "state": {
      "_model_module": "@jupyter-widgets/base",
      "_model_module_version": "1.2.0",
      "_model_name": "LayoutModel",
      "_view_count": null,
      "_view_module": "@jupyter-widgets/base",
      "_view_module_version": "1.2.0",
      "_view_name": "LayoutView",
      "align_content": null,
      "align_items": null,
      "align_self": null,
      "border": null,
      "bottom": null,
      "display": null,
      "flex": null,
      "flex_flow": null,
      "grid_area": null,
      "grid_auto_columns": null,
      "grid_auto_flow": null,
      "grid_auto_rows": null,
      "grid_column": null,
      "grid_gap": null,
      "grid_row": null,
      "grid_template_areas": null,
      "grid_template_columns": null,
      "grid_template_rows": null,
      "height": null,
      "justify_content": null,
      "justify_items": null,
      "left": null,
      "margin": null,
      "max_height": null,
      "max_width": null,
      "min_height": null,
      "min_width": null,
      "object_fit": null,
      "object_position": null,
      "order": null,
      "overflow": null,
      "overflow_x": null,
      "overflow_y": null,
      "padding": null,
      "right": null,
      "top": null,
      "visibility": null,
      "width": null
     }
    },
    "4432e53a3c75481691f40023f087ab74": {
     "model_module": "@jupyter-widgets/controls",
     "model_name": "FloatProgressModel",
     "state": {
      "_dom_classes": [],
      "_model_module": "@jupyter-widgets/controls",
      "_model_module_version": "1.5.0",
      "_model_name": "FloatProgressModel",
      "_view_count": null,
      "_view_module": "@jupyter-widgets/controls",
      "_view_module_version": "1.5.0",
      "_view_name": "ProgressView",
      "bar_style": "success",
      "description": "Downloading: 100%",
      "description_tooltip": null,
      "layout": "IPY_MODEL_f7b4963a151341d59a7b69fb62cd31be",
      "max": 456318,
      "min": 0,
      "orientation": "horizontal",
      "style": "IPY_MODEL_9f3237c021fd4ce09686249f94c7459b",
      "value": 456318
     }
    },
    "466e0caac2bc4c95a4d56567ef9049d3": {
     "model_module": "@jupyter-widgets/base",
     "model_name": "LayoutModel",
     "state": {
      "_model_module": "@jupyter-widgets/base",
      "_model_module_version": "1.2.0",
      "_model_name": "LayoutModel",
      "_view_count": null,
      "_view_module": "@jupyter-widgets/base",
      "_view_module_version": "1.2.0",
      "_view_name": "LayoutView",
      "align_content": null,
      "align_items": null,
      "align_self": null,
      "border": null,
      "bottom": null,
      "display": null,
      "flex": null,
      "flex_flow": null,
      "grid_area": null,
      "grid_auto_columns": null,
      "grid_auto_flow": null,
      "grid_auto_rows": null,
      "grid_column": null,
      "grid_gap": null,
      "grid_row": null,
      "grid_template_areas": null,
      "grid_template_columns": null,
      "grid_template_rows": null,
      "height": null,
      "justify_content": null,
      "justify_items": null,
      "left": null,
      "margin": null,
      "max_height": null,
      "max_width": null,
      "min_height": null,
      "min_width": null,
      "object_fit": null,
      "object_position": null,
      "order": null,
      "overflow": null,
      "overflow_x": null,
      "overflow_y": null,
      "padding": null,
      "right": null,
      "top": null,
      "visibility": null,
      "width": null
     }
    },
    "4a29246b0bfd4ba486000a268e8f4571": {
     "model_module": "@jupyter-widgets/controls",
     "model_name": "HBoxModel",
     "state": {
      "_dom_classes": [],
      "_model_module": "@jupyter-widgets/controls",
      "_model_module_version": "1.5.0",
      "_model_name": "HBoxModel",
      "_view_count": null,
      "_view_module": "@jupyter-widgets/controls",
      "_view_module_version": "1.5.0",
      "_view_name": "HBoxView",
      "box_style": "",
      "children": [
       "IPY_MODEL_9cc9847563fb4f0e80f733530f21fbf9",
       "IPY_MODEL_8cc81f71ff20415daf007b3f314bf724"
      ],
      "layout": "IPY_MODEL_cb4b53228e6d42e29a7002bbb55d9a47"
     }
    },
    "4b2660e8f9a4488aa399a7dd6ab7f3c7": {
     "model_module": "@jupyter-widgets/controls",
     "model_name": "HBoxModel",
     "state": {
      "_dom_classes": [],
      "_model_module": "@jupyter-widgets/controls",
      "_model_module_version": "1.5.0",
      "_model_name": "HBoxModel",
      "_view_count": null,
      "_view_module": "@jupyter-widgets/controls",
      "_view_module_version": "1.5.0",
      "_view_name": "HBoxView",
      "box_style": "",
      "children": [
       "IPY_MODEL_987ef23bbc4b4a26a3ee4a1add639936",
       "IPY_MODEL_332dd15aeb1e4d3fbb1533ed780702b6"
      ],
      "layout": "IPY_MODEL_b734f6962101475db3a4ac1ba545bba0"
     }
    },
    "4bd8bf0f01b84f84bdcd4660f23e61a7": {
     "model_module": "@jupyter-widgets/base",
     "model_name": "LayoutModel",
     "state": {
      "_model_module": "@jupyter-widgets/base",
      "_model_module_version": "1.2.0",
      "_model_name": "LayoutModel",
      "_view_count": null,
      "_view_module": "@jupyter-widgets/base",
      "_view_module_version": "1.2.0",
      "_view_name": "LayoutView",
      "align_content": null,
      "align_items": null,
      "align_self": null,
      "border": null,
      "bottom": null,
      "display": null,
      "flex": null,
      "flex_flow": null,
      "grid_area": null,
      "grid_auto_columns": null,
      "grid_auto_flow": null,
      "grid_auto_rows": null,
      "grid_column": null,
      "grid_gap": null,
      "grid_row": null,
      "grid_template_areas": null,
      "grid_template_columns": null,
      "grid_template_rows": null,
      "height": null,
      "justify_content": null,
      "justify_items": null,
      "left": null,
      "margin": null,
      "max_height": null,
      "max_width": null,
      "min_height": null,
      "min_width": null,
      "object_fit": null,
      "object_position": null,
      "order": null,
      "overflow": null,
      "overflow_x": null,
      "overflow_y": null,
      "padding": null,
      "right": null,
      "top": null,
      "visibility": null,
      "width": null
     }
    },
    "4cb3f5f3745c4868b1cf81f8cd3cb4f9": {
     "model_module": "@jupyter-widgets/controls",
     "model_name": "ProgressStyleModel",
     "state": {
      "_model_module": "@jupyter-widgets/controls",
      "_model_module_version": "1.5.0",
      "_model_name": "ProgressStyleModel",
      "_view_count": null,
      "_view_module": "@jupyter-widgets/base",
      "_view_module_version": "1.2.0",
      "_view_name": "StyleView",
      "bar_color": null,
      "description_width": "initial"
     }
    },
    "4f2856c9e44b4fe1982f1c015386c47d": {
     "model_module": "@jupyter-widgets/controls",
     "model_name": "ProgressStyleModel",
     "state": {
      "_model_module": "@jupyter-widgets/controls",
      "_model_module_version": "1.5.0",
      "_model_name": "ProgressStyleModel",
      "_view_count": null,
      "_view_module": "@jupyter-widgets/base",
      "_view_module_version": "1.2.0",
      "_view_name": "StyleView",
      "bar_color": null,
      "description_width": "initial"
     }
    },
    "510dfa3e4f5f4a7cae418cba06c50fbc": {
     "model_module": "@jupyter-widgets/controls",
     "model_name": "HBoxModel",
     "state": {
      "_dom_classes": [],
      "_model_module": "@jupyter-widgets/controls",
      "_model_module_version": "1.5.0",
      "_model_name": "HBoxModel",
      "_view_count": null,
      "_view_module": "@jupyter-widgets/controls",
      "_view_module_version": "1.5.0",
      "_view_name": "HBoxView",
      "box_style": "",
      "children": [
       "IPY_MODEL_bbd32b0de90348bf96361fb0f707d3a6",
       "IPY_MODEL_3e6cbfd737444a3090c0a5909cdf4d9a"
      ],
      "layout": "IPY_MODEL_aa8409ed83174056b2c57fa7599fc827"
     }
    },
    "539b74f57f7c450d954d50ed422c8b36": {
     "model_module": "@jupyter-widgets/controls",
     "model_name": "DescriptionStyleModel",
     "state": {
      "_model_module": "@jupyter-widgets/controls",
      "_model_module_version": "1.5.0",
      "_model_name": "DescriptionStyleModel",
      "_view_count": null,
      "_view_module": "@jupyter-widgets/base",
      "_view_module_version": "1.2.0",
      "_view_name": "StyleView",
      "description_width": ""
     }
    },
    "55648dce5a074fe6abb3fc603f42fc36": {
     "model_module": "@jupyter-widgets/controls",
     "model_name": "ProgressStyleModel",
     "state": {
      "_model_module": "@jupyter-widgets/controls",
      "_model_module_version": "1.5.0",
      "_model_name": "ProgressStyleModel",
      "_view_count": null,
      "_view_module": "@jupyter-widgets/base",
      "_view_module_version": "1.2.0",
      "_view_name": "StyleView",
      "bar_color": null,
      "description_width": "initial"
     }
    },
    "5673cbdc24c843d8ab21b2658a064691": {
     "model_module": "@jupyter-widgets/base",
     "model_name": "LayoutModel",
     "state": {
      "_model_module": "@jupyter-widgets/base",
      "_model_module_version": "1.2.0",
      "_model_name": "LayoutModel",
      "_view_count": null,
      "_view_module": "@jupyter-widgets/base",
      "_view_module_version": "1.2.0",
      "_view_name": "LayoutView",
      "align_content": null,
      "align_items": null,
      "align_self": null,
      "border": null,
      "bottom": null,
      "display": null,
      "flex": null,
      "flex_flow": null,
      "grid_area": null,
      "grid_auto_columns": null,
      "grid_auto_flow": null,
      "grid_auto_rows": null,
      "grid_column": null,
      "grid_gap": null,
      "grid_row": null,
      "grid_template_areas": null,
      "grid_template_columns": null,
      "grid_template_rows": null,
      "height": null,
      "justify_content": null,
      "justify_items": null,
      "left": null,
      "margin": null,
      "max_height": null,
      "max_width": null,
      "min_height": null,
      "min_width": null,
      "object_fit": null,
      "object_position": null,
      "order": null,
      "overflow": null,
      "overflow_x": null,
      "overflow_y": null,
      "padding": null,
      "right": null,
      "top": null,
      "visibility": null,
      "width": null
     }
    },
    "5a7875604aef42748741521e7897ce55": {
     "model_module": "@jupyter-widgets/controls",
     "model_name": "ProgressStyleModel",
     "state": {
      "_model_module": "@jupyter-widgets/controls",
      "_model_module_version": "1.5.0",
      "_model_name": "ProgressStyleModel",
      "_view_count": null,
      "_view_module": "@jupyter-widgets/base",
      "_view_module_version": "1.2.0",
      "_view_name": "StyleView",
      "bar_color": null,
      "description_width": "initial"
     }
    },
    "5c75fab398b64ed089e12c79ccf927af": {
     "model_module": "@jupyter-widgets/base",
     "model_name": "LayoutModel",
     "state": {
      "_model_module": "@jupyter-widgets/base",
      "_model_module_version": "1.2.0",
      "_model_name": "LayoutModel",
      "_view_count": null,
      "_view_module": "@jupyter-widgets/base",
      "_view_module_version": "1.2.0",
      "_view_name": "LayoutView",
      "align_content": null,
      "align_items": null,
      "align_self": null,
      "border": null,
      "bottom": null,
      "display": null,
      "flex": null,
      "flex_flow": null,
      "grid_area": null,
      "grid_auto_columns": null,
      "grid_auto_flow": null,
      "grid_auto_rows": null,
      "grid_column": null,
      "grid_gap": null,
      "grid_row": null,
      "grid_template_areas": null,
      "grid_template_columns": null,
      "grid_template_rows": null,
      "height": null,
      "justify_content": null,
      "justify_items": null,
      "left": null,
      "margin": null,
      "max_height": null,
      "max_width": null,
      "min_height": null,
      "min_width": null,
      "object_fit": null,
      "object_position": null,
      "order": null,
      "overflow": null,
      "overflow_x": null,
      "overflow_y": null,
      "padding": null,
      "right": null,
      "top": null,
      "visibility": null,
      "width": null
     }
    },
    "5f77bb31ba254937b055d04a92a1f6b5": {
     "model_module": "@jupyter-widgets/controls",
     "model_name": "FloatProgressModel",
     "state": {
      "_dom_classes": [],
      "_model_module": "@jupyter-widgets/controls",
      "_model_module_version": "1.5.0",
      "_model_name": "FloatProgressModel",
      "_view_count": null,
      "_view_module": "@jupyter-widgets/controls",
      "_view_module_version": "1.5.0",
      "_view_name": "ProgressView",
      "bar_style": "success",
      "description": "Downloading: 100%",
      "description_tooltip": null,
      "layout": "IPY_MODEL_f68104664c884adab0076630f9055085",
      "max": 1520013706,
      "min": 0,
      "orientation": "horizontal",
      "style": "IPY_MODEL_0a636b907c1d45e287a20b8445918ad8",
      "value": 1520013706
     }
    },
    "611d1566d0ec49119edadce78ac8a7a4": {
     "model_module": "@jupyter-widgets/controls",
     "model_name": "FloatProgressModel",
     "state": {
      "_dom_classes": [],
      "_model_module": "@jupyter-widgets/controls",
      "_model_module_version": "1.5.0",
      "_model_name": "FloatProgressModel",
      "_view_count": null,
      "_view_module": "@jupyter-widgets/controls",
      "_view_module_version": "1.5.0",
      "_view_name": "ProgressView",
      "bar_style": "success",
      "description": "Batches: 100%",
      "description_tooltip": null,
      "layout": "IPY_MODEL_4285bcf59ec041c99cf285ac7b7f51c2",
      "max": 3,
      "min": 0,
      "orientation": "horizontal",
      "style": "IPY_MODEL_97454ec69e0248dea957d201011b8e92",
      "value": 3
     }
    },
    "6233a4ca52744821a483d6df5013901b": {
     "model_module": "@jupyter-widgets/controls",
     "model_name": "HBoxModel",
     "state": {
      "_dom_classes": [],
      "_model_module": "@jupyter-widgets/controls",
      "_model_module_version": "1.5.0",
      "_model_name": "HBoxModel",
      "_view_count": null,
      "_view_module": "@jupyter-widgets/controls",
      "_view_module_version": "1.5.0",
      "_view_name": "HBoxView",
      "box_style": "",
      "children": [
       "IPY_MODEL_707afa79b6eb46b8a23e6953ab1692dc",
       "IPY_MODEL_80e8cdebc9ea42e1995be0344f2741c7"
      ],
      "layout": "IPY_MODEL_0d0da18a78bf4bef85607f6448a241b1"
     }
    },
    "62596ee6d55542859fe0e402f21f9e1f": {
     "model_module": "@jupyter-widgets/controls",
     "model_name": "ProgressStyleModel",
     "state": {
      "_model_module": "@jupyter-widgets/controls",
      "_model_module_version": "1.5.0",
      "_model_name": "ProgressStyleModel",
      "_view_count": null,
      "_view_module": "@jupyter-widgets/base",
      "_view_module_version": "1.2.0",
      "_view_name": "StyleView",
      "bar_color": null,
      "description_width": "initial"
     }
    },
    "6b38a831406b47c7b889463eded493aa": {
     "model_module": "@jupyter-widgets/controls",
     "model_name": "HBoxModel",
     "state": {
      "_dom_classes": [],
      "_model_module": "@jupyter-widgets/controls",
      "_model_module_version": "1.5.0",
      "_model_name": "HBoxModel",
      "_view_count": null,
      "_view_module": "@jupyter-widgets/controls",
      "_view_module_version": "1.5.0",
      "_view_name": "HBoxView",
      "box_style": "",
      "children": [
       "IPY_MODEL_4432e53a3c75481691f40023f087ab74",
       "IPY_MODEL_a6d0b7b208f940e9af6b105d4ced0237"
      ],
      "layout": "IPY_MODEL_a1d8b5307348482dab5c6b3db2087478"
     }
    },
    "707afa79b6eb46b8a23e6953ab1692dc": {
     "model_module": "@jupyter-widgets/controls",
     "model_name": "FloatProgressModel",
     "state": {
      "_dom_classes": [],
      "_model_module": "@jupyter-widgets/controls",
      "_model_module_version": "1.5.0",
      "_model_name": "FloatProgressModel",
      "_view_count": null,
      "_view_module": "@jupyter-widgets/controls",
      "_view_module_version": "1.5.0",
      "_view_name": "ProgressView",
      "bar_style": "success",
      "description": "Downloading: 100%",
      "description_tooltip": null,
      "layout": "IPY_MODEL_29bd005acb014f6a8f3d244e3d5ca492",
      "max": 29,
      "min": 0,
      "orientation": "horizontal",
      "style": "IPY_MODEL_279d7ebd04c9456c9da50008d4adb76f",
      "value": 29
     }
    },
    "711e77a50d634c6f9f606e60a5094d23": {
     "model_module": "@jupyter-widgets/controls",
     "model_name": "HBoxModel",
     "state": {
      "_dom_classes": [],
      "_model_module": "@jupyter-widgets/controls",
      "_model_module_version": "1.5.0",
      "_model_name": "HBoxModel",
      "_view_count": null,
      "_view_module": "@jupyter-widgets/controls",
      "_view_module_version": "1.5.0",
      "_view_name": "HBoxView",
      "box_style": "",
      "children": [
       "IPY_MODEL_611d1566d0ec49119edadce78ac8a7a4",
       "IPY_MODEL_df2454b188284bd6a654257c61a20dd9"
      ],
      "layout": "IPY_MODEL_0ae9f6ebf73849ab96ecfd214cd822fa"
     }
    },
    "71f8908e111649fe90c11bb08ed368c4": {
     "model_module": "@jupyter-widgets/base",
     "model_name": "LayoutModel",
     "state": {
      "_model_module": "@jupyter-widgets/base",
      "_model_module_version": "1.2.0",
      "_model_name": "LayoutModel",
      "_view_count": null,
      "_view_module": "@jupyter-widgets/base",
      "_view_module_version": "1.2.0",
      "_view_name": "LayoutView",
      "align_content": null,
      "align_items": null,
      "align_self": null,
      "border": null,
      "bottom": null,
      "display": null,
      "flex": null,
      "flex_flow": null,
      "grid_area": null,
      "grid_auto_columns": null,
      "grid_auto_flow": null,
      "grid_auto_rows": null,
      "grid_column": null,
      "grid_gap": null,
      "grid_row": null,
      "grid_template_areas": null,
      "grid_template_columns": null,
      "grid_template_rows": null,
      "height": null,
      "justify_content": null,
      "justify_items": null,
      "left": null,
      "margin": null,
      "max_height": null,
      "max_width": null,
      "min_height": null,
      "min_width": null,
      "object_fit": null,
      "object_position": null,
      "order": null,
      "overflow": null,
      "overflow_x": null,
      "overflow_y": null,
      "padding": null,
      "right": null,
      "top": null,
      "visibility": null,
      "width": null
     }
    },
    "789ce6d3f56e4d8c9695c8ab26a0b7d3": {
     "model_module": "@jupyter-widgets/controls",
     "model_name": "HTMLModel",
     "state": {
      "_dom_classes": [],
      "_model_module": "@jupyter-widgets/controls",
      "_model_module_version": "1.5.0",
      "_model_name": "HTMLModel",
      "_view_count": null,
      "_view_module": "@jupyter-widgets/controls",
      "_view_module_version": "1.5.0",
      "_view_name": "HTMLView",
      "description": "",
      "description_tooltip": null,
      "layout": "IPY_MODEL_cbccaeb943c44f078a4f66b83a3c9678",
      "placeholder": "​",
      "style": "IPY_MODEL_539b74f57f7c450d954d50ed422c8b36",
      "value": " 436M/436M [00:14&lt;00:00, 29.3MB/s]"
     }
    },
    "7f3cce76a7b04ddcb09273c8c06a2d2d": {
     "model_module": "@jupyter-widgets/base",
     "model_name": "LayoutModel",
     "state": {
      "_model_module": "@jupyter-widgets/base",
      "_model_module_version": "1.2.0",
      "_model_name": "LayoutModel",
      "_view_count": null,
      "_view_module": "@jupyter-widgets/base",
      "_view_module_version": "1.2.0",
      "_view_name": "LayoutView",
      "align_content": null,
      "align_items": null,
      "align_self": null,
      "border": null,
      "bottom": null,
      "display": null,
      "flex": null,
      "flex_flow": null,
      "grid_area": null,
      "grid_auto_columns": null,
      "grid_auto_flow": null,
      "grid_auto_rows": null,
      "grid_column": null,
      "grid_gap": null,
      "grid_row": null,
      "grid_template_areas": null,
      "grid_template_columns": null,
      "grid_template_rows": null,
      "height": null,
      "justify_content": null,
      "justify_items": null,
      "left": null,
      "margin": null,
      "max_height": null,
      "max_width": null,
      "min_height": null,
      "min_width": null,
      "object_fit": null,
      "object_position": null,
      "order": null,
      "overflow": null,
      "overflow_x": null,
      "overflow_y": null,
      "padding": null,
      "right": null,
      "top": null,
      "visibility": null,
      "width": null
     }
    },
    "80e8cdebc9ea42e1995be0344f2741c7": {
     "model_module": "@jupyter-widgets/controls",
     "model_name": "HTMLModel",
     "state": {
      "_dom_classes": [],
      "_model_module": "@jupyter-widgets/controls",
      "_model_module_version": "1.5.0",
      "_model_name": "HTMLModel",
      "_view_count": null,
      "_view_module": "@jupyter-widgets/controls",
      "_view_module_version": "1.5.0",
      "_view_name": "HTMLView",
      "description": "",
      "description_tooltip": null,
      "layout": "IPY_MODEL_5673cbdc24c843d8ab21b2658a064691",
      "placeholder": "​",
      "style": "IPY_MODEL_f2860558f9714058a24977c8adad0b3a",
      "value": " 29.0/29.0 [00:00&lt;00:00, 77.5B/s]"
     }
    },
    "8267df5f799a4454ad373ca06c971ef4": {
     "model_module": "@jupyter-widgets/base",
     "model_name": "LayoutModel",
     "state": {
      "_model_module": "@jupyter-widgets/base",
      "_model_module_version": "1.2.0",
      "_model_name": "LayoutModel",
      "_view_count": null,
      "_view_module": "@jupyter-widgets/base",
      "_view_module_version": "1.2.0",
      "_view_name": "LayoutView",
      "align_content": null,
      "align_items": null,
      "align_self": null,
      "border": null,
      "bottom": null,
      "display": null,
      "flex": null,
      "flex_flow": null,
      "grid_area": null,
      "grid_auto_columns": null,
      "grid_auto_flow": null,
      "grid_auto_rows": null,
      "grid_column": null,
      "grid_gap": null,
      "grid_row": null,
      "grid_template_areas": null,
      "grid_template_columns": null,
      "grid_template_rows": null,
      "height": null,
      "justify_content": null,
      "justify_items": null,
      "left": null,
      "margin": null,
      "max_height": null,
      "max_width": null,
      "min_height": null,
      "min_width": null,
      "object_fit": null,
      "object_position": null,
      "order": null,
      "overflow": null,
      "overflow_x": null,
      "overflow_y": null,
      "padding": null,
      "right": null,
      "top": null,
      "visibility": null,
      "width": null
     }
    },
    "835be41c1ff7493d807aa8cb77cb333e": {
     "model_module": "@jupyter-widgets/controls",
     "model_name": "FloatProgressModel",
     "state": {
      "_dom_classes": [],
      "_model_module": "@jupyter-widgets/controls",
      "_model_module_version": "1.5.0",
      "_model_name": "FloatProgressModel",
      "_view_count": null,
      "_view_module": "@jupyter-widgets/controls",
      "_view_module_version": "1.5.0",
      "_view_name": "ProgressView",
      "bar_style": "success",
      "description": "Batches: 100%",
      "description_tooltip": null,
      "layout": "IPY_MODEL_71f8908e111649fe90c11bb08ed368c4",
      "max": 23,
      "min": 0,
      "orientation": "horizontal",
      "style": "IPY_MODEL_2b9d8ff1b5714b4889606a696e1a4872",
      "value": 23
     }
    },
    "83e860dd47584464ae8098fc4bd50dc6": {
     "model_module": "@jupyter-widgets/base",
     "model_name": "LayoutModel",
     "state": {
      "_model_module": "@jupyter-widgets/base",
      "_model_module_version": "1.2.0",
      "_model_name": "LayoutModel",
      "_view_count": null,
      "_view_module": "@jupyter-widgets/base",
      "_view_module_version": "1.2.0",
      "_view_name": "LayoutView",
      "align_content": null,
      "align_items": null,
      "align_self": null,
      "border": null,
      "bottom": null,
      "display": null,
      "flex": null,
      "flex_flow": null,
      "grid_area": null,
      "grid_auto_columns": null,
      "grid_auto_flow": null,
      "grid_auto_rows": null,
      "grid_column": null,
      "grid_gap": null,
      "grid_row": null,
      "grid_template_areas": null,
      "grid_template_columns": null,
      "grid_template_rows": null,
      "height": null,
      "justify_content": null,
      "justify_items": null,
      "left": null,
      "margin": null,
      "max_height": null,
      "max_width": null,
      "min_height": null,
      "min_width": null,
      "object_fit": null,
      "object_position": null,
      "order": null,
      "overflow": null,
      "overflow_x": null,
      "overflow_y": null,
      "padding": null,
      "right": null,
      "top": null,
      "visibility": null,
      "width": null
     }
    },
    "84ab62b076c1444ba139fcd80e4a8938": {
     "model_module": "@jupyter-widgets/controls",
     "model_name": "DescriptionStyleModel",
     "state": {
      "_model_module": "@jupyter-widgets/controls",
      "_model_module_version": "1.5.0",
      "_model_name": "DescriptionStyleModel",
      "_view_count": null,
      "_view_module": "@jupyter-widgets/base",
      "_view_module_version": "1.2.0",
      "_view_name": "StyleView",
      "description_width": ""
     }
    },
    "8545a23c5f814a63ba9289f174977b44": {
     "model_module": "@jupyter-widgets/base",
     "model_name": "LayoutModel",
     "state": {
      "_model_module": "@jupyter-widgets/base",
      "_model_module_version": "1.2.0",
      "_model_name": "LayoutModel",
      "_view_count": null,
      "_view_module": "@jupyter-widgets/base",
      "_view_module_version": "1.2.0",
      "_view_name": "LayoutView",
      "align_content": null,
      "align_items": null,
      "align_self": null,
      "border": null,
      "bottom": null,
      "display": null,
      "flex": null,
      "flex_flow": null,
      "grid_area": null,
      "grid_auto_columns": null,
      "grid_auto_flow": null,
      "grid_auto_rows": null,
      "grid_column": null,
      "grid_gap": null,
      "grid_row": null,
      "grid_template_areas": null,
      "grid_template_columns": null,
      "grid_template_rows": null,
      "height": null,
      "justify_content": null,
      "justify_items": null,
      "left": null,
      "margin": null,
      "max_height": null,
      "max_width": null,
      "min_height": null,
      "min_width": null,
      "object_fit": null,
      "object_position": null,
      "order": null,
      "overflow": null,
      "overflow_x": null,
      "overflow_y": null,
      "padding": null,
      "right": null,
      "top": null,
      "visibility": null,
      "width": null
     }
    },
    "89ce16112e054641b9176065ccc05ff1": {
     "model_module": "@jupyter-widgets/controls",
     "model_name": "DescriptionStyleModel",
     "state": {
      "_model_module": "@jupyter-widgets/controls",
      "_model_module_version": "1.5.0",
      "_model_name": "DescriptionStyleModel",
      "_view_count": null,
      "_view_module": "@jupyter-widgets/base",
      "_view_module_version": "1.2.0",
      "_view_name": "StyleView",
      "description_width": ""
     }
    },
    "8cc81f71ff20415daf007b3f314bf724": {
     "model_module": "@jupyter-widgets/controls",
     "model_name": "HTMLModel",
     "state": {
      "_dom_classes": [],
      "_model_module": "@jupyter-widgets/controls",
      "_model_module_version": "1.5.0",
      "_model_name": "HTMLModel",
      "_view_count": null,
      "_view_module": "@jupyter-widgets/controls",
      "_view_module_version": "1.5.0",
      "_view_name": "HTMLView",
      "description": "",
      "description_tooltip": null,
      "layout": "IPY_MODEL_8267df5f799a4454ad373ca06c971ef4",
      "placeholder": "​",
      "style": "IPY_MODEL_119d9db9ba1044bfa222a797a0c2f4c1",
      "value": " 1.04M/1.04M [00:00&lt;00:00, 2.45MB/s]"
     }
    },
    "8dbb8f152f2b4bf889093efa3fd3ee7d": {
     "model_module": "@jupyter-widgets/controls",
     "model_name": "HTMLModel",
     "state": {
      "_dom_classes": [],
      "_model_module": "@jupyter-widgets/controls",
      "_model_module_version": "1.5.0",
      "_model_name": "HTMLModel",
      "_view_count": null,
      "_view_module": "@jupyter-widgets/controls",
      "_view_module_version": "1.5.0",
      "_view_name": "HTMLView",
      "description": "",
      "description_tooltip": null,
      "layout": "IPY_MODEL_923b8b60c76d4cee96b4bd69b7ddd623",
      "placeholder": "​",
      "style": "IPY_MODEL_b202b2e6198b403c826989974bcd887f",
      "value": " 23/23 [13:07&lt;00:00, 34.23s/it]"
     }
    },
    "923b8b60c76d4cee96b4bd69b7ddd623": {
     "model_module": "@jupyter-widgets/base",
     "model_name": "LayoutModel",
     "state": {
      "_model_module": "@jupyter-widgets/base",
      "_model_module_version": "1.2.0",
      "_model_name": "LayoutModel",
      "_view_count": null,
      "_view_module": "@jupyter-widgets/base",
      "_view_module_version": "1.2.0",
      "_view_name": "LayoutView",
      "align_content": null,
      "align_items": null,
      "align_self": null,
      "border": null,
      "bottom": null,
      "display": null,
      "flex": null,
      "flex_flow": null,
      "grid_area": null,
      "grid_auto_columns": null,
      "grid_auto_flow": null,
      "grid_auto_rows": null,
      "grid_column": null,
      "grid_gap": null,
      "grid_row": null,
      "grid_template_areas": null,
      "grid_template_columns": null,
      "grid_template_rows": null,
      "height": null,
      "justify_content": null,
      "justify_items": null,
      "left": null,
      "margin": null,
      "max_height": null,
      "max_width": null,
      "min_height": null,
      "min_width": null,
      "object_fit": null,
      "object_position": null,
      "order": null,
      "overflow": null,
      "overflow_x": null,
      "overflow_y": null,
      "padding": null,
      "right": null,
      "top": null,
      "visibility": null,
      "width": null
     }
    },
    "92c998684a3144d38db2ab66585d246d": {
     "model_module": "@jupyter-widgets/controls",
     "model_name": "ProgressStyleModel",
     "state": {
      "_model_module": "@jupyter-widgets/controls",
      "_model_module_version": "1.5.0",
      "_model_name": "ProgressStyleModel",
      "_view_count": null,
      "_view_module": "@jupyter-widgets/base",
      "_view_module_version": "1.2.0",
      "_view_name": "StyleView",
      "bar_color": null,
      "description_width": "initial"
     }
    },
    "92f02b18a9524feab847c1dcdc4740ec": {
     "model_module": "@jupyter-widgets/controls",
     "model_name": "FloatProgressModel",
     "state": {
      "_dom_classes": [],
      "_model_module": "@jupyter-widgets/controls",
      "_model_module_version": "1.5.0",
      "_model_name": "FloatProgressModel",
      "_view_count": null,
      "_view_module": "@jupyter-widgets/controls",
      "_view_module_version": "1.5.0",
      "_view_name": "ProgressView",
      "bar_style": "success",
      "description": "Downloading: 100%",
      "description_tooltip": null,
      "layout": "IPY_MODEL_83e860dd47584464ae8098fc4bd50dc6",
      "max": 435779157,
      "min": 0,
      "orientation": "horizontal",
      "style": "IPY_MODEL_e04ab767292847c1a4b251063e677de6",
      "value": 435779157
     }
    },
    "930f4aa99d694f50a7de17b6fad433ad": {
     "model_module": "@jupyter-widgets/controls",
     "model_name": "FloatProgressModel",
     "state": {
      "_dom_classes": [],
      "_model_module": "@jupyter-widgets/controls",
      "_model_module_version": "1.5.0",
      "_model_name": "FloatProgressModel",
      "_view_count": null,
      "_view_module": "@jupyter-widgets/controls",
      "_view_module_version": "1.5.0",
      "_view_name": "ProgressView",
      "bar_style": "success",
      "description": "Downloading: 100%",
      "description_tooltip": null,
      "layout": "IPY_MODEL_5c75fab398b64ed089e12c79ccf927af",
      "max": 1355256,
      "min": 0,
      "orientation": "horizontal",
      "style": "IPY_MODEL_4f2856c9e44b4fe1982f1c015386c47d",
      "value": 1355256
     }
    },
    "97454ec69e0248dea957d201011b8e92": {
     "model_module": "@jupyter-widgets/controls",
     "model_name": "ProgressStyleModel",
     "state": {
      "_model_module": "@jupyter-widgets/controls",
      "_model_module_version": "1.5.0",
      "_model_name": "ProgressStyleModel",
      "_view_count": null,
      "_view_module": "@jupyter-widgets/base",
      "_view_module_version": "1.2.0",
      "_view_name": "StyleView",
      "bar_color": null,
      "description_width": "initial"
     }
    },
    "976547d112ed4526a414082e6173f88b": {
     "model_module": "@jupyter-widgets/controls",
     "model_name": "ProgressStyleModel",
     "state": {
      "_model_module": "@jupyter-widgets/controls",
      "_model_module_version": "1.5.0",
      "_model_name": "ProgressStyleModel",
      "_view_count": null,
      "_view_module": "@jupyter-widgets/base",
      "_view_module_version": "1.2.0",
      "_view_name": "StyleView",
      "bar_color": null,
      "description_width": "initial"
     }
    },
    "987ef23bbc4b4a26a3ee4a1add639936": {
     "model_module": "@jupyter-widgets/controls",
     "model_name": "FloatProgressModel",
     "state": {
      "_dom_classes": [],
      "_model_module": "@jupyter-widgets/controls",
      "_model_module_version": "1.5.0",
      "_model_name": "FloatProgressModel",
      "_view_count": null,
      "_view_module": "@jupyter-widgets/controls",
      "_view_module_version": "1.5.0",
      "_view_name": "ProgressView",
      "bar_style": "success",
      "description": "Batches: 100%",
      "description_tooltip": null,
      "layout": "IPY_MODEL_24d6cfa0b7584214b6e6aa85ad8e2907",
      "max": 1,
      "min": 0,
      "orientation": "horizontal",
      "style": "IPY_MODEL_92c998684a3144d38db2ab66585d246d",
      "value": 1
     }
    },
    "9cc9847563fb4f0e80f733530f21fbf9": {
     "model_module": "@jupyter-widgets/controls",
     "model_name": "FloatProgressModel",
     "state": {
      "_dom_classes": [],
      "_model_module": "@jupyter-widgets/controls",
      "_model_module_version": "1.5.0",
      "_model_name": "FloatProgressModel",
      "_view_count": null,
      "_view_module": "@jupyter-widgets/controls",
      "_view_module_version": "1.5.0",
      "_view_name": "ProgressView",
      "bar_style": "success",
      "description": "Downloading: 100%",
      "description_tooltip": null,
      "layout": "IPY_MODEL_ae17ecd0f14c4e0bac025d74931b9066",
      "max": 1042301,
      "min": 0,
      "orientation": "horizontal",
      "style": "IPY_MODEL_62596ee6d55542859fe0e402f21f9e1f",
      "value": 1042301
     }
    },
    "9dc4b452a2d5476ab7f73601ea27238b": {
     "model_module": "@jupyter-widgets/controls",
     "model_name": "FloatProgressModel",
     "state": {
      "_dom_classes": [],
      "_model_module": "@jupyter-widgets/controls",
      "_model_module_version": "1.5.0",
      "_model_name": "FloatProgressModel",
      "_view_count": null,
      "_view_module": "@jupyter-widgets/controls",
      "_view_module_version": "1.5.0",
      "_view_name": "ProgressView",
      "bar_style": "success",
      "description": "Downloading: 100%",
      "description_tooltip": null,
      "layout": "IPY_MODEL_7f3cce76a7b04ddcb09273c8c06a2d2d",
      "max": 213450,
      "min": 0,
      "orientation": "horizontal",
      "style": "IPY_MODEL_4cb3f5f3745c4868b1cf81f8cd3cb4f9",
      "value": 213450
     }
    },
    "9ec0b6f9518b4dbd96af7e4cb16aff86": {
     "model_module": "@jupyter-widgets/controls",
     "model_name": "DescriptionStyleModel",
     "state": {
      "_model_module": "@jupyter-widgets/controls",
      "_model_module_version": "1.5.0",
      "_model_name": "DescriptionStyleModel",
      "_view_count": null,
      "_view_module": "@jupyter-widgets/base",
      "_view_module_version": "1.2.0",
      "_view_name": "StyleView",
      "description_width": ""
     }
    },
    "9f3237c021fd4ce09686249f94c7459b": {
     "model_module": "@jupyter-widgets/controls",
     "model_name": "ProgressStyleModel",
     "state": {
      "_model_module": "@jupyter-widgets/controls",
      "_model_module_version": "1.5.0",
      "_model_name": "ProgressStyleModel",
      "_view_count": null,
      "_view_module": "@jupyter-widgets/base",
      "_view_module_version": "1.2.0",
      "_view_name": "StyleView",
      "bar_color": null,
      "description_width": "initial"
     }
    },
    "a14e7edbb2c04e7f80a4f70c5cbad8aa": {
     "model_module": "@jupyter-widgets/controls",
     "model_name": "HTMLModel",
     "state": {
      "_dom_classes": [],
      "_model_module": "@jupyter-widgets/controls",
      "_model_module_version": "1.5.0",
      "_model_name": "HTMLModel",
      "_view_count": null,
      "_view_module": "@jupyter-widgets/controls",
      "_view_module_version": "1.5.0",
      "_view_name": "HTMLView",
      "description": "",
      "description_tooltip": null,
      "layout": "IPY_MODEL_8545a23c5f814a63ba9289f174977b44",
      "placeholder": "​",
      "style": "IPY_MODEL_3934a20f5a254ba58e05d26f8bd6d240",
      "value": " 213k/213k [00:01&lt;00:00, 207kB/s]"
     }
    },
    "a1d8b5307348482dab5c6b3db2087478": {
     "model_module": "@jupyter-widgets/base",
     "model_name": "LayoutModel",
     "state": {
      "_model_module": "@jupyter-widgets/base",
      "_model_module_version": "1.2.0",
      "_model_name": "LayoutModel",
      "_view_count": null,
      "_view_module": "@jupyter-widgets/base",
      "_view_module_version": "1.2.0",
      "_view_name": "LayoutView",
      "align_content": null,
      "align_items": null,
      "align_self": null,
      "border": null,
      "bottom": null,
      "display": null,
      "flex": null,
      "flex_flow": null,
      "grid_area": null,
      "grid_auto_columns": null,
      "grid_auto_flow": null,
      "grid_auto_rows": null,
      "grid_column": null,
      "grid_gap": null,
      "grid_row": null,
      "grid_template_areas": null,
      "grid_template_columns": null,
      "grid_template_rows": null,
      "height": null,
      "justify_content": null,
      "justify_items": null,
      "left": null,
      "margin": null,
      "max_height": null,
      "max_width": null,
      "min_height": null,
      "min_width": null,
      "object_fit": null,
      "object_position": null,
      "order": null,
      "overflow": null,
      "overflow_x": null,
      "overflow_y": null,
      "padding": null,
      "right": null,
      "top": null,
      "visibility": null,
      "width": null
     }
    },
    "a6d0b7b208f940e9af6b105d4ced0237": {
     "model_module": "@jupyter-widgets/controls",
     "model_name": "HTMLModel",
     "state": {
      "_dom_classes": [],
      "_model_module": "@jupyter-widgets/controls",
      "_model_module_version": "1.5.0",
      "_model_name": "HTMLModel",
      "_view_count": null,
      "_view_module": "@jupyter-widgets/controls",
      "_view_module_version": "1.5.0",
      "_view_name": "HTMLView",
      "description": "",
      "description_tooltip": null,
      "layout": "IPY_MODEL_466e0caac2bc4c95a4d56567ef9049d3",
      "placeholder": "​",
      "style": "IPY_MODEL_11ebf1fffa004c8fa5017af4a4c0ace0",
      "value": " 456k/456k [00:01&lt;00:00, 447kB/s]"
     }
    },
    "a862ad6237d84ee4973eee43268d6a5b": {
     "model_module": "@jupyter-widgets/base",
     "model_name": "LayoutModel",
     "state": {
      "_model_module": "@jupyter-widgets/base",
      "_model_module_version": "1.2.0",
      "_model_name": "LayoutModel",
      "_view_count": null,
      "_view_module": "@jupyter-widgets/base",
      "_view_module_version": "1.2.0",
      "_view_name": "LayoutView",
      "align_content": null,
      "align_items": null,
      "align_self": null,
      "border": null,
      "bottom": null,
      "display": null,
      "flex": null,
      "flex_flow": null,
      "grid_area": null,
      "grid_auto_columns": null,
      "grid_auto_flow": null,
      "grid_auto_rows": null,
      "grid_column": null,
      "grid_gap": null,
      "grid_row": null,
      "grid_template_areas": null,
      "grid_template_columns": null,
      "grid_template_rows": null,
      "height": null,
      "justify_content": null,
      "justify_items": null,
      "left": null,
      "margin": null,
      "max_height": null,
      "max_width": null,
      "min_height": null,
      "min_width": null,
      "object_fit": null,
      "object_position": null,
      "order": null,
      "overflow": null,
      "overflow_x": null,
      "overflow_y": null,
      "padding": null,
      "right": null,
      "top": null,
      "visibility": null,
      "width": null
     }
    },
    "a98c515c8a9b41e9916370862e34eff1": {
     "model_module": "@jupyter-widgets/controls",
     "model_name": "HTMLModel",
     "state": {
      "_dom_classes": [],
      "_model_module": "@jupyter-widgets/controls",
      "_model_module_version": "1.5.0",
      "_model_name": "HTMLModel",
      "_view_count": null,
      "_view_module": "@jupyter-widgets/controls",
      "_view_module_version": "1.5.0",
      "_view_name": "HTMLView",
      "description": "",
      "description_tooltip": null,
      "layout": "IPY_MODEL_a862ad6237d84ee4973eee43268d6a5b",
      "placeholder": "​",
      "style": "IPY_MODEL_84ab62b076c1444ba139fcd80e4a8938",
      "value": " 436k/436k [00:00&lt;00:00, 2.81MB/s]"
     }
    },
    "aa8409ed83174056b2c57fa7599fc827": {
     "model_module": "@jupyter-widgets/base",
     "model_name": "LayoutModel",
     "state": {
      "_model_module": "@jupyter-widgets/base",
      "_model_module_version": "1.2.0",
      "_model_name": "LayoutModel",
      "_view_count": null,
      "_view_module": "@jupyter-widgets/base",
      "_view_module_version": "1.2.0",
      "_view_name": "LayoutView",
      "align_content": null,
      "align_items": null,
      "align_self": null,
      "border": null,
      "bottom": null,
      "display": null,
      "flex": null,
      "flex_flow": null,
      "grid_area": null,
      "grid_auto_columns": null,
      "grid_auto_flow": null,
      "grid_auto_rows": null,
      "grid_column": null,
      "grid_gap": null,
      "grid_row": null,
      "grid_template_areas": null,
      "grid_template_columns": null,
      "grid_template_rows": null,
      "height": null,
      "justify_content": null,
      "justify_items": null,
      "left": null,
      "margin": null,
      "max_height": null,
      "max_width": null,
      "min_height": null,
      "min_width": null,
      "object_fit": null,
      "object_position": null,
      "order": null,
      "overflow": null,
      "overflow_x": null,
      "overflow_y": null,
      "padding": null,
      "right": null,
      "top": null,
      "visibility": null,
      "width": null
     }
    },
    "ae17ecd0f14c4e0bac025d74931b9066": {
     "model_module": "@jupyter-widgets/base",
     "model_name": "LayoutModel",
     "state": {
      "_model_module": "@jupyter-widgets/base",
      "_model_module_version": "1.2.0",
      "_model_name": "LayoutModel",
      "_view_count": null,
      "_view_module": "@jupyter-widgets/base",
      "_view_module_version": "1.2.0",
      "_view_name": "LayoutView",
      "align_content": null,
      "align_items": null,
      "align_self": null,
      "border": null,
      "bottom": null,
      "display": null,
      "flex": null,
      "flex_flow": null,
      "grid_area": null,
      "grid_auto_columns": null,
      "grid_auto_flow": null,
      "grid_auto_rows": null,
      "grid_column": null,
      "grid_gap": null,
      "grid_row": null,
      "grid_template_areas": null,
      "grid_template_columns": null,
      "grid_template_rows": null,
      "height": null,
      "justify_content": null,
      "justify_items": null,
      "left": null,
      "margin": null,
      "max_height": null,
      "max_width": null,
      "min_height": null,
      "min_width": null,
      "object_fit": null,
      "object_position": null,
      "order": null,
      "overflow": null,
      "overflow_x": null,
      "overflow_y": null,
      "padding": null,
      "right": null,
      "top": null,
      "visibility": null,
      "width": null
     }
    },
    "b1978160718c43f88dc7911e09d4b796": {
     "model_module": "@jupyter-widgets/base",
     "model_name": "LayoutModel",
     "state": {
      "_model_module": "@jupyter-widgets/base",
      "_model_module_version": "1.2.0",
      "_model_name": "LayoutModel",
      "_view_count": null,
      "_view_module": "@jupyter-widgets/base",
      "_view_module_version": "1.2.0",
      "_view_name": "LayoutView",
      "align_content": null,
      "align_items": null,
      "align_self": null,
      "border": null,
      "bottom": null,
      "display": null,
      "flex": null,
      "flex_flow": null,
      "grid_area": null,
      "grid_auto_columns": null,
      "grid_auto_flow": null,
      "grid_auto_rows": null,
      "grid_column": null,
      "grid_gap": null,
      "grid_row": null,
      "grid_template_areas": null,
      "grid_template_columns": null,
      "grid_template_rows": null,
      "height": null,
      "justify_content": null,
      "justify_items": null,
      "left": null,
      "margin": null,
      "max_height": null,
      "max_width": null,
      "min_height": null,
      "min_width": null,
      "object_fit": null,
      "object_position": null,
      "order": null,
      "overflow": null,
      "overflow_x": null,
      "overflow_y": null,
      "padding": null,
      "right": null,
      "top": null,
      "visibility": null,
      "width": null
     }
    },
    "b202b2e6198b403c826989974bcd887f": {
     "model_module": "@jupyter-widgets/controls",
     "model_name": "DescriptionStyleModel",
     "state": {
      "_model_module": "@jupyter-widgets/controls",
      "_model_module_version": "1.5.0",
      "_model_name": "DescriptionStyleModel",
      "_view_count": null,
      "_view_module": "@jupyter-widgets/base",
      "_view_module_version": "1.2.0",
      "_view_name": "StyleView",
      "description_width": ""
     }
    },
    "b734f6962101475db3a4ac1ba545bba0": {
     "model_module": "@jupyter-widgets/base",
     "model_name": "LayoutModel",
     "state": {
      "_model_module": "@jupyter-widgets/base",
      "_model_module_version": "1.2.0",
      "_model_name": "LayoutModel",
      "_view_count": null,
      "_view_module": "@jupyter-widgets/base",
      "_view_module_version": "1.2.0",
      "_view_name": "LayoutView",
      "align_content": null,
      "align_items": null,
      "align_self": null,
      "border": null,
      "bottom": null,
      "display": null,
      "flex": null,
      "flex_flow": null,
      "grid_area": null,
      "grid_auto_columns": null,
      "grid_auto_flow": null,
      "grid_auto_rows": null,
      "grid_column": null,
      "grid_gap": null,
      "grid_row": null,
      "grid_template_areas": null,
      "grid_template_columns": null,
      "grid_template_rows": null,
      "height": null,
      "justify_content": null,
      "justify_items": null,
      "left": null,
      "margin": null,
      "max_height": null,
      "max_width": null,
      "min_height": null,
      "min_width": null,
      "object_fit": null,
      "object_position": null,
      "order": null,
      "overflow": null,
      "overflow_x": null,
      "overflow_y": null,
      "padding": null,
      "right": null,
      "top": null,
      "visibility": null,
      "width": null
     }
    },
    "ba008266f21b4bc39f88f3edeb139b73": {
     "model_module": "@jupyter-widgets/controls",
     "model_name": "HTMLModel",
     "state": {
      "_dom_classes": [],
      "_model_module": "@jupyter-widgets/controls",
      "_model_module_version": "1.5.0",
      "_model_name": "HTMLModel",
      "_view_count": null,
      "_view_module": "@jupyter-widgets/controls",
      "_view_module_version": "1.5.0",
      "_view_name": "HTMLView",
      "description": "",
      "description_tooltip": null,
      "layout": "IPY_MODEL_1e81dedef9bf4582b58f80f85a0fc849",
      "placeholder": "​",
      "style": "IPY_MODEL_2ccc9d7feb844ced8b481d5f245d51ca",
      "value": " 718/718 [00:54&lt;00:00, 13.3B/s]"
     }
    },
    "bbd32b0de90348bf96361fb0f707d3a6": {
     "model_module": "@jupyter-widgets/controls",
     "model_name": "FloatProgressModel",
     "state": {
      "_dom_classes": [],
      "_model_module": "@jupyter-widgets/controls",
      "_model_module_version": "1.5.0",
      "_model_name": "FloatProgressModel",
      "_view_count": null,
      "_view_module": "@jupyter-widgets/controls",
      "_view_module_version": "1.5.0",
      "_view_name": "ProgressView",
      "bar_style": "success",
      "description": "Downloading: 100%",
      "description_tooltip": null,
      "layout": "IPY_MODEL_fdedb9e031bd4d1db17cf5fd3146034e",
      "max": 570,
      "min": 0,
      "orientation": "horizontal",
      "style": "IPY_MODEL_976547d112ed4526a414082e6173f88b",
      "value": 570
     }
    },
    "c6ff7e4b083c4880a75d94dcbc23cb6d": {
     "model_module": "@jupyter-widgets/base",
     "model_name": "LayoutModel",
     "state": {
      "_model_module": "@jupyter-widgets/base",
      "_model_module_version": "1.2.0",
      "_model_name": "LayoutModel",
      "_view_count": null,
      "_view_module": "@jupyter-widgets/base",
      "_view_module_version": "1.2.0",
      "_view_name": "LayoutView",
      "align_content": null,
      "align_items": null,
      "align_self": null,
      "border": null,
      "bottom": null,
      "display": null,
      "flex": null,
      "flex_flow": null,
      "grid_area": null,
      "grid_auto_columns": null,
      "grid_auto_flow": null,
      "grid_auto_rows": null,
      "grid_column": null,
      "grid_gap": null,
      "grid_row": null,
      "grid_template_areas": null,
      "grid_template_columns": null,
      "grid_template_rows": null,
      "height": null,
      "justify_content": null,
      "justify_items": null,
      "left": null,
      "margin": null,
      "max_height": null,
      "max_width": null,
      "min_height": null,
      "min_width": null,
      "object_fit": null,
      "object_position": null,
      "order": null,
      "overflow": null,
      "overflow_x": null,
      "overflow_y": null,
      "padding": null,
      "right": null,
      "top": null,
      "visibility": null,
      "width": null
     }
    },
    "cad74d9018ae4740bf51b92a9436324d": {
     "model_module": "@jupyter-widgets/controls",
     "model_name": "DescriptionStyleModel",
     "state": {
      "_model_module": "@jupyter-widgets/controls",
      "_model_module_version": "1.5.0",
      "_model_name": "DescriptionStyleModel",
      "_view_count": null,
      "_view_module": "@jupyter-widgets/base",
      "_view_module_version": "1.2.0",
      "_view_name": "StyleView",
      "description_width": ""
     }
    },
    "cb4b53228e6d42e29a7002bbb55d9a47": {
     "model_module": "@jupyter-widgets/base",
     "model_name": "LayoutModel",
     "state": {
      "_model_module": "@jupyter-widgets/base",
      "_model_module_version": "1.2.0",
      "_model_name": "LayoutModel",
      "_view_count": null,
      "_view_module": "@jupyter-widgets/base",
      "_view_module_version": "1.2.0",
      "_view_name": "LayoutView",
      "align_content": null,
      "align_items": null,
      "align_self": null,
      "border": null,
      "bottom": null,
      "display": null,
      "flex": null,
      "flex_flow": null,
      "grid_area": null,
      "grid_auto_columns": null,
      "grid_auto_flow": null,
      "grid_auto_rows": null,
      "grid_column": null,
      "grid_gap": null,
      "grid_row": null,
      "grid_template_areas": null,
      "grid_template_columns": null,
      "grid_template_rows": null,
      "height": null,
      "justify_content": null,
      "justify_items": null,
      "left": null,
      "margin": null,
      "max_height": null,
      "max_width": null,
      "min_height": null,
      "min_width": null,
      "object_fit": null,
      "object_position": null,
      "order": null,
      "overflow": null,
      "overflow_x": null,
      "overflow_y": null,
      "padding": null,
      "right": null,
      "top": null,
      "visibility": null,
      "width": null
     }
    },
    "cbccaeb943c44f078a4f66b83a3c9678": {
     "model_module": "@jupyter-widgets/base",
     "model_name": "LayoutModel",
     "state": {
      "_model_module": "@jupyter-widgets/base",
      "_model_module_version": "1.2.0",
      "_model_name": "LayoutModel",
      "_view_count": null,
      "_view_module": "@jupyter-widgets/base",
      "_view_module_version": "1.2.0",
      "_view_name": "LayoutView",
      "align_content": null,
      "align_items": null,
      "align_self": null,
      "border": null,
      "bottom": null,
      "display": null,
      "flex": null,
      "flex_flow": null,
      "grid_area": null,
      "grid_auto_columns": null,
      "grid_auto_flow": null,
      "grid_auto_rows": null,
      "grid_column": null,
      "grid_gap": null,
      "grid_row": null,
      "grid_template_areas": null,
      "grid_template_columns": null,
      "grid_template_rows": null,
      "height": null,
      "justify_content": null,
      "justify_items": null,
      "left": null,
      "margin": null,
      "max_height": null,
      "max_width": null,
      "min_height": null,
      "min_width": null,
      "object_fit": null,
      "object_position": null,
      "order": null,
      "overflow": null,
      "overflow_x": null,
      "overflow_y": null,
      "padding": null,
      "right": null,
      "top": null,
      "visibility": null,
      "width": null
     }
    },
    "cc4da70bc17a4f4385e2078fa0fe11d6": {
     "model_module": "@jupyter-widgets/controls",
     "model_name": "HTMLModel",
     "state": {
      "_dom_classes": [],
      "_model_module": "@jupyter-widgets/controls",
      "_model_module_version": "1.5.0",
      "_model_name": "HTMLModel",
      "_view_count": null,
      "_view_module": "@jupyter-widgets/controls",
      "_view_module_version": "1.5.0",
      "_view_name": "HTMLView",
      "description": "",
      "description_tooltip": null,
      "layout": "IPY_MODEL_fcd674c5c84342689a97842ee973a55a",
      "placeholder": "​",
      "style": "IPY_MODEL_89ce16112e054641b9176065ccc05ff1",
      "value": " 1.36M/1.36M [00:00&lt;00:00, 6.16MB/s]"
     }
    },
    "cfa6767057f74dc09e0358b951882207": {
     "model_module": "@jupyter-widgets/base",
     "model_name": "LayoutModel",
     "state": {
      "_model_module": "@jupyter-widgets/base",
      "_model_module_version": "1.2.0",
      "_model_name": "LayoutModel",
      "_view_count": null,
      "_view_module": "@jupyter-widgets/base",
      "_view_module_version": "1.2.0",
      "_view_name": "LayoutView",
      "align_content": null,
      "align_items": null,
      "align_self": null,
      "border": null,
      "bottom": null,
      "display": null,
      "flex": null,
      "flex_flow": null,
      "grid_area": null,
      "grid_auto_columns": null,
      "grid_auto_flow": null,
      "grid_auto_rows": null,
      "grid_column": null,
      "grid_gap": null,
      "grid_row": null,
      "grid_template_areas": null,
      "grid_template_columns": null,
      "grid_template_rows": null,
      "height": null,
      "justify_content": null,
      "justify_items": null,
      "left": null,
      "margin": null,
      "max_height": null,
      "max_width": null,
      "min_height": null,
      "min_width": null,
      "object_fit": null,
      "object_position": null,
      "order": null,
      "overflow": null,
      "overflow_x": null,
      "overflow_y": null,
      "padding": null,
      "right": null,
      "top": null,
      "visibility": null,
      "width": null
     }
    },
    "d23cc189b6c74ae691d4c675ccb354b9": {
     "model_module": "@jupyter-widgets/base",
     "model_name": "LayoutModel",
     "state": {
      "_model_module": "@jupyter-widgets/base",
      "_model_module_version": "1.2.0",
      "_model_name": "LayoutModel",
      "_view_count": null,
      "_view_module": "@jupyter-widgets/base",
      "_view_module_version": "1.2.0",
      "_view_name": "LayoutView",
      "align_content": null,
      "align_items": null,
      "align_self": null,
      "border": null,
      "bottom": null,
      "display": null,
      "flex": null,
      "flex_flow": null,
      "grid_area": null,
      "grid_auto_columns": null,
      "grid_auto_flow": null,
      "grid_auto_rows": null,
      "grid_column": null,
      "grid_gap": null,
      "grid_row": null,
      "grid_template_areas": null,
      "grid_template_columns": null,
      "grid_template_rows": null,
      "height": null,
      "justify_content": null,
      "justify_items": null,
      "left": null,
      "margin": null,
      "max_height": null,
      "max_width": null,
      "min_height": null,
      "min_width": null,
      "object_fit": null,
      "object_position": null,
      "order": null,
      "overflow": null,
      "overflow_x": null,
      "overflow_y": null,
      "padding": null,
      "right": null,
      "top": null,
      "visibility": null,
      "width": null
     }
    },
    "d29302dcbf894e9e9626a40338c6048e": {
     "model_module": "@jupyter-widgets/controls",
     "model_name": "HBoxModel",
     "state": {
      "_dom_classes": [],
      "_model_module": "@jupyter-widgets/controls",
      "_model_module_version": "1.5.0",
      "_model_name": "HBoxModel",
      "_view_count": null,
      "_view_module": "@jupyter-widgets/controls",
      "_view_module_version": "1.5.0",
      "_view_name": "HBoxView",
      "box_style": "",
      "children": [
       "IPY_MODEL_d961712d7d8549d791e086fd18f85c32",
       "IPY_MODEL_ba008266f21b4bc39f88f3edeb139b73"
      ],
      "layout": "IPY_MODEL_c6ff7e4b083c4880a75d94dcbc23cb6d"
     }
    },
    "d4fcd84c07b0425db9554844804bc45c": {
     "model_module": "@jupyter-widgets/controls",
     "model_name": "HBoxModel",
     "state": {
      "_dom_classes": [],
      "_model_module": "@jupyter-widgets/controls",
      "_model_module_version": "1.5.0",
      "_model_name": "HBoxModel",
      "_view_count": null,
      "_view_module": "@jupyter-widgets/controls",
      "_view_module_version": "1.5.0",
      "_view_name": "HBoxView",
      "box_style": "",
      "children": [
       "IPY_MODEL_135bae664c5949d785d73c11ba587040",
       "IPY_MODEL_a98c515c8a9b41e9916370862e34eff1"
      ],
      "layout": "IPY_MODEL_f6fe3df2d88a43559f69f9449dfaea20"
     }
    },
    "d961712d7d8549d791e086fd18f85c32": {
     "model_module": "@jupyter-widgets/controls",
     "model_name": "FloatProgressModel",
     "state": {
      "_dom_classes": [],
      "_model_module": "@jupyter-widgets/controls",
      "_model_module_version": "1.5.0",
      "_model_name": "FloatProgressModel",
      "_view_count": null,
      "_view_module": "@jupyter-widgets/controls",
      "_view_module_version": "1.5.0",
      "_view_name": "ProgressView",
      "bar_style": "success",
      "description": "Downloading: 100%",
      "description_tooltip": null,
      "layout": "IPY_MODEL_29199524fd6d4b0aae7ba3f5be79d4c1",
      "max": 718,
      "min": 0,
      "orientation": "horizontal",
      "style": "IPY_MODEL_55648dce5a074fe6abb3fc603f42fc36",
      "value": 718
     }
    },
    "d9dd5f0e190346c8a2e283fb903a1173": {
     "model_module": "@jupyter-widgets/controls",
     "model_name": "HBoxModel",
     "state": {
      "_dom_classes": [],
      "_model_module": "@jupyter-widgets/controls",
      "_model_module_version": "1.5.0",
      "_model_name": "HBoxModel",
      "_view_count": null,
      "_view_module": "@jupyter-widgets/controls",
      "_view_module_version": "1.5.0",
      "_view_name": "HBoxView",
      "box_style": "",
      "children": [
       "IPY_MODEL_835be41c1ff7493d807aa8cb77cb333e",
       "IPY_MODEL_8dbb8f152f2b4bf889093efa3fd3ee7d"
      ],
      "layout": "IPY_MODEL_fe3979e9ee2348a880c3f1836712d0c6"
     }
    },
    "de9193a75524436caf606e21b1ec599c": {
     "model_module": "@jupyter-widgets/base",
     "model_name": "LayoutModel",
     "state": {
      "_model_module": "@jupyter-widgets/base",
      "_model_module_version": "1.2.0",
      "_model_name": "LayoutModel",
      "_view_count": null,
      "_view_module": "@jupyter-widgets/base",
      "_view_module_version": "1.2.0",
      "_view_name": "LayoutView",
      "align_content": null,
      "align_items": null,
      "align_self": null,
      "border": null,
      "bottom": null,
      "display": null,
      "flex": null,
      "flex_flow": null,
      "grid_area": null,
      "grid_auto_columns": null,
      "grid_auto_flow": null,
      "grid_auto_rows": null,
      "grid_column": null,
      "grid_gap": null,
      "grid_row": null,
      "grid_template_areas": null,
      "grid_template_columns": null,
      "grid_template_rows": null,
      "height": null,
      "justify_content": null,
      "justify_items": null,
      "left": null,
      "margin": null,
      "max_height": null,
      "max_width": null,
      "min_height": null,
      "min_width": null,
      "object_fit": null,
      "object_position": null,
      "order": null,
      "overflow": null,
      "overflow_x": null,
      "overflow_y": null,
      "padding": null,
      "right": null,
      "top": null,
      "visibility": null,
      "width": null
     }
    },
    "df2454b188284bd6a654257c61a20dd9": {
     "model_module": "@jupyter-widgets/controls",
     "model_name": "HTMLModel",
     "state": {
      "_dom_classes": [],
      "_model_module": "@jupyter-widgets/controls",
      "_model_module_version": "1.5.0",
      "_model_name": "HTMLModel",
      "_view_count": null,
      "_view_module": "@jupyter-widgets/controls",
      "_view_module_version": "1.5.0",
      "_view_name": "HTMLView",
      "description": "",
      "description_tooltip": null,
      "layout": "IPY_MODEL_1b7c6eaffb1a4ffbb9399d7d5395ad42",
      "placeholder": "​",
      "style": "IPY_MODEL_fbdbd89ba1f24e4f9f9590945bb6ca9b",
      "value": " 3/3 [01:26&lt;00:00, 28.89s/it]"
     }
    },
    "e04ab767292847c1a4b251063e677de6": {
     "model_module": "@jupyter-widgets/controls",
     "model_name": "ProgressStyleModel",
     "state": {
      "_model_module": "@jupyter-widgets/controls",
      "_model_module_version": "1.5.0",
      "_model_name": "ProgressStyleModel",
      "_view_count": null,
      "_view_module": "@jupyter-widgets/base",
      "_view_module_version": "1.2.0",
      "_view_name": "StyleView",
      "bar_color": null,
      "description_width": "initial"
     }
    },
    "ee3846e2d0884cf4afba2d3bb827f6c7": {
     "model_module": "@jupyter-widgets/controls",
     "model_name": "HBoxModel",
     "state": {
      "_dom_classes": [],
      "_model_module": "@jupyter-widgets/controls",
      "_model_module_version": "1.5.0",
      "_model_name": "HBoxModel",
      "_view_count": null,
      "_view_module": "@jupyter-widgets/controls",
      "_view_module_version": "1.5.0",
      "_view_name": "HBoxView",
      "box_style": "",
      "children": [
       "IPY_MODEL_5f77bb31ba254937b055d04a92a1f6b5",
       "IPY_MODEL_09865a7cf85544b797decbf27d8e7c5d"
      ],
      "layout": "IPY_MODEL_b1978160718c43f88dc7911e09d4b796"
     }
    },
    "ef25818941fb4d70a68282a8e1eab6f2": {
     "model_module": "@jupyter-widgets/controls",
     "model_name": "DescriptionStyleModel",
     "state": {
      "_model_module": "@jupyter-widgets/controls",
      "_model_module_version": "1.5.0",
      "_model_name": "DescriptionStyleModel",
      "_view_count": null,
      "_view_module": "@jupyter-widgets/base",
      "_view_module_version": "1.2.0",
      "_view_name": "StyleView",
      "description_width": ""
     }
    },
    "f2860558f9714058a24977c8adad0b3a": {
     "model_module": "@jupyter-widgets/controls",
     "model_name": "DescriptionStyleModel",
     "state": {
      "_model_module": "@jupyter-widgets/controls",
      "_model_module_version": "1.5.0",
      "_model_name": "DescriptionStyleModel",
      "_view_count": null,
      "_view_module": "@jupyter-widgets/base",
      "_view_module_version": "1.2.0",
      "_view_name": "StyleView",
      "description_width": ""
     }
    },
    "f68104664c884adab0076630f9055085": {
     "model_module": "@jupyter-widgets/base",
     "model_name": "LayoutModel",
     "state": {
      "_model_module": "@jupyter-widgets/base",
      "_model_module_version": "1.2.0",
      "_model_name": "LayoutModel",
      "_view_count": null,
      "_view_module": "@jupyter-widgets/base",
      "_view_module_version": "1.2.0",
      "_view_name": "LayoutView",
      "align_content": null,
      "align_items": null,
      "align_self": null,
      "border": null,
      "bottom": null,
      "display": null,
      "flex": null,
      "flex_flow": null,
      "grid_area": null,
      "grid_auto_columns": null,
      "grid_auto_flow": null,
      "grid_auto_rows": null,
      "grid_column": null,
      "grid_gap": null,
      "grid_row": null,
      "grid_template_areas": null,
      "grid_template_columns": null,
      "grid_template_rows": null,
      "height": null,
      "justify_content": null,
      "justify_items": null,
      "left": null,
      "margin": null,
      "max_height": null,
      "max_width": null,
      "min_height": null,
      "min_width": null,
      "object_fit": null,
      "object_position": null,
      "order": null,
      "overflow": null,
      "overflow_x": null,
      "overflow_y": null,
      "padding": null,
      "right": null,
      "top": null,
      "visibility": null,
      "width": null
     }
    },
    "f6fe3df2d88a43559f69f9449dfaea20": {
     "model_module": "@jupyter-widgets/base",
     "model_name": "LayoutModel",
     "state": {
      "_model_module": "@jupyter-widgets/base",
      "_model_module_version": "1.2.0",
      "_model_name": "LayoutModel",
      "_view_count": null,
      "_view_module": "@jupyter-widgets/base",
      "_view_module_version": "1.2.0",
      "_view_name": "LayoutView",
      "align_content": null,
      "align_items": null,
      "align_self": null,
      "border": null,
      "bottom": null,
      "display": null,
      "flex": null,
      "flex_flow": null,
      "grid_area": null,
      "grid_auto_columns": null,
      "grid_auto_flow": null,
      "grid_auto_rows": null,
      "grid_column": null,
      "grid_gap": null,
      "grid_row": null,
      "grid_template_areas": null,
      "grid_template_columns": null,
      "grid_template_rows": null,
      "height": null,
      "justify_content": null,
      "justify_items": null,
      "left": null,
      "margin": null,
      "max_height": null,
      "max_width": null,
      "min_height": null,
      "min_width": null,
      "object_fit": null,
      "object_position": null,
      "order": null,
      "overflow": null,
      "overflow_x": null,
      "overflow_y": null,
      "padding": null,
      "right": null,
      "top": null,
      "visibility": null,
      "width": null
     }
    },
    "f7a20671c3ce4b0f8086e2d2f313f33c": {
     "model_module": "@jupyter-widgets/controls",
     "model_name": "HBoxModel",
     "state": {
      "_dom_classes": [],
      "_model_module": "@jupyter-widgets/controls",
      "_model_module_version": "1.5.0",
      "_model_name": "HBoxModel",
      "_view_count": null,
      "_view_module": "@jupyter-widgets/controls",
      "_view_module_version": "1.5.0",
      "_view_name": "HBoxView",
      "box_style": "",
      "children": [
       "IPY_MODEL_9dc4b452a2d5476ab7f73601ea27238b",
       "IPY_MODEL_a14e7edbb2c04e7f80a4f70c5cbad8aa"
      ],
      "layout": "IPY_MODEL_f9bb1d6d7b9d4a2dade07898d3737854"
     }
    },
    "f7b4963a151341d59a7b69fb62cd31be": {
     "model_module": "@jupyter-widgets/base",
     "model_name": "LayoutModel",
     "state": {
      "_model_module": "@jupyter-widgets/base",
      "_model_module_version": "1.2.0",
      "_model_name": "LayoutModel",
      "_view_count": null,
      "_view_module": "@jupyter-widgets/base",
      "_view_module_version": "1.2.0",
      "_view_name": "LayoutView",
      "align_content": null,
      "align_items": null,
      "align_self": null,
      "border": null,
      "bottom": null,
      "display": null,
      "flex": null,
      "flex_flow": null,
      "grid_area": null,
      "grid_auto_columns": null,
      "grid_auto_flow": null,
      "grid_auto_rows": null,
      "grid_column": null,
      "grid_gap": null,
      "grid_row": null,
      "grid_template_areas": null,
      "grid_template_columns": null,
      "grid_template_rows": null,
      "height": null,
      "justify_content": null,
      "justify_items": null,
      "left": null,
      "margin": null,
      "max_height": null,
      "max_width": null,
      "min_height": null,
      "min_width": null,
      "object_fit": null,
      "object_position": null,
      "order": null,
      "overflow": null,
      "overflow_x": null,
      "overflow_y": null,
      "padding": null,
      "right": null,
      "top": null,
      "visibility": null,
      "width": null
     }
    },
    "f97a494ce9014f73b06e45f296fa673b": {
     "model_module": "@jupyter-widgets/controls",
     "model_name": "HBoxModel",
     "state": {
      "_dom_classes": [],
      "_model_module": "@jupyter-widgets/controls",
      "_model_module_version": "1.5.0",
      "_model_name": "HBoxModel",
      "_view_count": null,
      "_view_module": "@jupyter-widgets/controls",
      "_view_module_version": "1.5.0",
      "_view_name": "HBoxView",
      "box_style": "",
      "children": [
       "IPY_MODEL_930f4aa99d694f50a7de17b6fad433ad",
       "IPY_MODEL_cc4da70bc17a4f4385e2078fa0fe11d6"
      ],
      "layout": "IPY_MODEL_cfa6767057f74dc09e0358b951882207"
     }
    },
    "f9bb1d6d7b9d4a2dade07898d3737854": {
     "model_module": "@jupyter-widgets/base",
     "model_name": "LayoutModel",
     "state": {
      "_model_module": "@jupyter-widgets/base",
      "_model_module_version": "1.2.0",
      "_model_name": "LayoutModel",
      "_view_count": null,
      "_view_module": "@jupyter-widgets/base",
      "_view_module_version": "1.2.0",
      "_view_name": "LayoutView",
      "align_content": null,
      "align_items": null,
      "align_self": null,
      "border": null,
      "bottom": null,
      "display": null,
      "flex": null,
      "flex_flow": null,
      "grid_area": null,
      "grid_auto_columns": null,
      "grid_auto_flow": null,
      "grid_auto_rows": null,
      "grid_column": null,
      "grid_gap": null,
      "grid_row": null,
      "grid_template_areas": null,
      "grid_template_columns": null,
      "grid_template_rows": null,
      "height": null,
      "justify_content": null,
      "justify_items": null,
      "left": null,
      "margin": null,
      "max_height": null,
      "max_width": null,
      "min_height": null,
      "min_width": null,
      "object_fit": null,
      "object_position": null,
      "order": null,
      "overflow": null,
      "overflow_x": null,
      "overflow_y": null,
      "padding": null,
      "right": null,
      "top": null,
      "visibility": null,
      "width": null
     }
    },
    "fbdbd89ba1f24e4f9f9590945bb6ca9b": {
     "model_module": "@jupyter-widgets/controls",
     "model_name": "DescriptionStyleModel",
     "state": {
      "_model_module": "@jupyter-widgets/controls",
      "_model_module_version": "1.5.0",
      "_model_name": "DescriptionStyleModel",
      "_view_count": null,
      "_view_module": "@jupyter-widgets/base",
      "_view_module_version": "1.2.0",
      "_view_name": "StyleView",
      "description_width": ""
     }
    },
    "fcd674c5c84342689a97842ee973a55a": {
     "model_module": "@jupyter-widgets/base",
     "model_name": "LayoutModel",
     "state": {
      "_model_module": "@jupyter-widgets/base",
      "_model_module_version": "1.2.0",
      "_model_name": "LayoutModel",
      "_view_count": null,
      "_view_module": "@jupyter-widgets/base",
      "_view_module_version": "1.2.0",
      "_view_name": "LayoutView",
      "align_content": null,
      "align_items": null,
      "align_self": null,
      "border": null,
      "bottom": null,
      "display": null,
      "flex": null,
      "flex_flow": null,
      "grid_area": null,
      "grid_auto_columns": null,
      "grid_auto_flow": null,
      "grid_auto_rows": null,
      "grid_column": null,
      "grid_gap": null,
      "grid_row": null,
      "grid_template_areas": null,
      "grid_template_columns": null,
      "grid_template_rows": null,
      "height": null,
      "justify_content": null,
      "justify_items": null,
      "left": null,
      "margin": null,
      "max_height": null,
      "max_width": null,
      "min_height": null,
      "min_width": null,
      "object_fit": null,
      "object_position": null,
      "order": null,
      "overflow": null,
      "overflow_x": null,
      "overflow_y": null,
      "padding": null,
      "right": null,
      "top": null,
      "visibility": null,
      "width": null
     }
    },
    "fdedb9e031bd4d1db17cf5fd3146034e": {
     "model_module": "@jupyter-widgets/base",
     "model_name": "LayoutModel",
     "state": {
      "_model_module": "@jupyter-widgets/base",
      "_model_module_version": "1.2.0",
      "_model_name": "LayoutModel",
      "_view_count": null,
      "_view_module": "@jupyter-widgets/base",
      "_view_module_version": "1.2.0",
      "_view_name": "LayoutView",
      "align_content": null,
      "align_items": null,
      "align_self": null,
      "border": null,
      "bottom": null,
      "display": null,
      "flex": null,
      "flex_flow": null,
      "grid_area": null,
      "grid_auto_columns": null,
      "grid_auto_flow": null,
      "grid_auto_rows": null,
      "grid_column": null,
      "grid_gap": null,
      "grid_row": null,
      "grid_template_areas": null,
      "grid_template_columns": null,
      "grid_template_rows": null,
      "height": null,
      "justify_content": null,
      "justify_items": null,
      "left": null,
      "margin": null,
      "max_height": null,
      "max_width": null,
      "min_height": null,
      "min_width": null,
      "object_fit": null,
      "object_position": null,
      "order": null,
      "overflow": null,
      "overflow_x": null,
      "overflow_y": null,
      "padding": null,
      "right": null,
      "top": null,
      "visibility": null,
      "width": null
     }
    },
    "fe3979e9ee2348a880c3f1836712d0c6": {
     "model_module": "@jupyter-widgets/base",
     "model_name": "LayoutModel",
     "state": {
      "_model_module": "@jupyter-widgets/base",
      "_model_module_version": "1.2.0",
      "_model_name": "LayoutModel",
      "_view_count": null,
      "_view_module": "@jupyter-widgets/base",
      "_view_module_version": "1.2.0",
      "_view_name": "LayoutView",
      "align_content": null,
      "align_items": null,
      "align_self": null,
      "border": null,
      "bottom": null,
      "display": null,
      "flex": null,
      "flex_flow": null,
      "grid_area": null,
      "grid_auto_columns": null,
      "grid_auto_flow": null,
      "grid_auto_rows": null,
      "grid_column": null,
      "grid_gap": null,
      "grid_row": null,
      "grid_template_areas": null,
      "grid_template_columns": null,
      "grid_template_rows": null,
      "height": null,
      "justify_content": null,
      "justify_items": null,
      "left": null,
      "margin": null,
      "max_height": null,
      "max_width": null,
      "min_height": null,
      "min_width": null,
      "object_fit": null,
      "object_position": null,
      "order": null,
      "overflow": null,
      "overflow_x": null,
      "overflow_y": null,
      "padding": null,
      "right": null,
      "top": null,
      "visibility": null,
      "width": null
     }
    }
   }
  }
 },
 "nbformat": 4,
 "nbformat_minor": 1
}
