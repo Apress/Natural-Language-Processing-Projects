{
  "nbformat": 4,
  "nbformat_minor": 0,
  "metadata": {
    "colab": {
      "name": "Chapter8: NER.ipynb",
      "provenance": [],
      "collapsed_sections": []
    },
    "kernelspec": {
      "name": "python3",
      "display_name": "Python 3"
    },
    "language_info": {
      "name": "python"
    }
  },
  "cells": [
    {
      "cell_type": "markdown",
      "metadata": {
        "id": "K4MdgwSh1Foc"
      },
      "source": [
        "# Data"
      ]
    },
    {
      "cell_type": "code",
      "metadata": {
        "id": "8BEAci9PgHe1"
      },
      "source": [
        "import pandas as pd\n",
        "import numpy as np"
      ],
      "execution_count": 23,
      "outputs": []
    },
    {
      "cell_type": "code",
      "metadata": {
        "id": "KPG0_qGV2Qqv"
      },
      "source": [
        "#create a function to add a column sentence that indicates the sentence u=id for each txt file as a preprocessing step.\n",
        "\n",
        "import pandas as pd\n",
        "def data_conversion(file_name):\n",
        "    df_eng=pd.read_csv(file_name,delimiter='\\t',header=None,skip_blank_lines=False)\n",
        "    df_eng.columns=['tag','tokens']\n",
        "    tempTokens = list(df_eng['tokens'])\n",
        "    tempSentence = list()\n",
        "    count = 1\n",
        "    for i in tempTokens:\n",
        "        tempSentence.append(\"Sentence\" + str(count))\n",
        "        if str(i) == 'nan':\n",
        "            count = count+1\n",
        "    dfSentence = pd.DataFrame (tempSentence,columns=['Sentence']) \n",
        "    result = pd.concat([df_eng, dfSentence], axis=1, join='inner')\n",
        "    return result\n",
        "\n",
        "#passing the text files to function\n",
        "trivia_train=data_conversion('trivia10k13train.txt')\n",
        "trivia_test=data_conversion('trivia10k13test.txt')\n"
      ],
      "execution_count": null,
      "outputs": []
    },
    {
      "cell_type": "code",
      "metadata": {
        "id": "wnpIgQU312oy"
      },
      "source": [
        "trivia_train = pd.read_csv('trivia10k13train.bio.csv')\n",
        "trivia_test = pd.read_csv('trivia10k13test.bio.csv')\n"
      ],
      "execution_count": 8,
      "outputs": []
    },
    {
      "cell_type": "code",
      "metadata": {
        "colab": {
          "base_uri": "https://localhost:8080/"
        },
        "id": "yl2jiFpj1E9c",
        "outputId": "7688d3f5-1c1e-4f53-846b-4ae4611d6af8"
      },
      "source": [
        "trivia_train.head()\n",
        "trivia_train.shape\n",
        "trivia_train.tokens.nunique()\n",
        "trivia_train.isnull().sum()"
      ],
      "execution_count": 9,
      "outputs": [
        {
          "output_type": "execute_result",
          "data": {
            "text/plain": [
              "Unnamed: 0       0\n",
              "tag           7816\n",
              "tokens        7817\n",
              "Sentence         0\n",
              "dtype: int64"
            ]
          },
          "metadata": {},
          "execution_count": 9
        }
      ]
    },
    {
      "cell_type": "code",
      "metadata": {
        "colab": {
          "base_uri": "https://localhost:8080/"
        },
        "id": "9GiLHf6n2hvF",
        "outputId": "67ce1bdd-4e63-42df-d147-180560ca0f9a"
      },
      "source": [
        "trivia_test.head()\n",
        "trivia_test.shape\n",
        "trivia_test.tokens.nunique()\n",
        "trivia_test.isnull().sum()"
      ],
      "execution_count": 10,
      "outputs": [
        {
          "output_type": "execute_result",
          "data": {
            "text/plain": [
              "Unnamed: 0       0\n",
              "tag           1953\n",
              "tokens        1953\n",
              "Sentence         0\n",
              "dtype: int64"
            ]
          },
          "metadata": {},
          "execution_count": 10
        }
      ]
    },
    {
      "cell_type": "code",
      "metadata": {
        "id": "ctFffb8121iy"
      },
      "source": [
        "trivia_train.dropna(inplace=True)\n",
        "trivia_test.dropna(inplace=True)"
      ],
      "execution_count": 11,
      "outputs": []
    },
    {
      "cell_type": "code",
      "metadata": {
        "colab": {
          "base_uri": "https://localhost:8080/",
          "height": 421
        },
        "id": "qPWdl2eR289a",
        "outputId": "946852c4-7dc7-48cd-8348-37c2c579163e"
      },
      "source": [
        "#below is the code to get the distribution plot for the tags.\n",
        "\n",
        "trivia_train[trivia_train[\"tag\"]!=\"O\"][\"tag\"].value_counts().plot(kind=\"bar\", figsize=(10,5))\n"
      ],
      "execution_count": 12,
      "outputs": [
        {
          "output_type": "execute_result",
          "data": {
            "text/plain": [
              "<matplotlib.axes._subplots.AxesSubplot at 0x7ff8dd0f3610>"
            ]
          },
          "metadata": {},
          "execution_count": 12
        },
        {
          "output_type": "display_data",
          "data": {
            "image/png": "[encoded data removed]",
            "text/plain": [
              "<Figure size 720x360 with 1 Axes>"
            ]
          },
          "metadata": {
            "needs_background": "light"
          }
        }
      ]
    },
    {
      "cell_type": "code",
      "metadata": {
        "id": "HcHbQXVf29A8"
      },
      "source": [
        "data=trivia_train.copy()\n",
        "data1=trivia_test.copy()\n"
      ],
      "execution_count": 13,
      "outputs": []
    },
    {
      "cell_type": "code",
      "metadata": {
        "id": "U4qu7ivR29Eg"
      },
      "source": [
        "#Let us rename the column names using the below code:\n",
        "data.rename(columns={\"Sentence\":\"sentence_id\",\"tokens\":\"words\",\"tag\":\"labels\"}, inplace =True)\n",
        "data1.rename(columns={\"Sentence\":\"sentence_id\",\"tokens\":\"words\",\"tag\":\"labels\"}, inplace =True)"
      ],
      "execution_count": 14,
      "outputs": []
    },
    {
      "cell_type": "markdown",
      "metadata": {
        "id": "gm3xXEu-3Mg4"
      },
      "source": [
        "# CRF"
      ]
    },
    {
      "cell_type": "code",
      "metadata": {
        "colab": {
          "base_uri": "https://localhost:8080/"
        },
        "id": "LaGLsPul3ZoR",
        "outputId": "afd0fdff-268e-4196-b0f4-7d4e32f4cb1c"
      },
      "source": [
        "!pip install sklearn-crfsuite"
      ],
      "execution_count": 16,
      "outputs": [
        {
          "output_type": "stream",
          "name": "stdout",
          "text": [
            "Collecting sklearn-crfsuite\n",
            "  Downloading sklearn_crfsuite-0.3.6-py2.py3-none-any.whl (12 kB)\n",
            "Requirement already satisfied: six in /usr/local/lib/python3.7/dist-packages (from sklearn-crfsuite) (1.15.0)\n",
            "Requirement already satisfied: tabulate in /usr/local/lib/python3.7/dist-packages (from sklearn-crfsuite) (0.8.9)\n",
            "Collecting python-crfsuite>=0.8.3\n",
            "  Downloading python_crfsuite-0.9.7-cp37-cp37m-manylinux1_x86_64.whl (743 kB)\n",
            "\u001b[K     |████████████████████████████████| 743 kB 33.0 MB/s \n",
            "\u001b[?25hRequirement already satisfied: tqdm>=2.0 in /usr/local/lib/python3.7/dist-packages (from sklearn-crfsuite) (4.62.2)\n",
            "Installing collected packages: python-crfsuite, sklearn-crfsuite\n",
            "Successfully installed python-crfsuite-0.9.7 sklearn-crfsuite-0.3.6\n"
          ]
        }
      ]
    },
    {
      "cell_type": "code",
      "metadata": {
        "colab": {
          "base_uri": "https://localhost:8080/"
        },
        "id": "WCubLHTY3ndK",
        "outputId": "9a05b200-f0b4-4ad2-b400-deb51ac3bcc9"
      },
      "source": [
        "!pip install eli5"
      ],
      "execution_count": 18,
      "outputs": [
        {
          "output_type": "stream",
          "name": "stdout",
          "text": [
            "Collecting eli5\n",
            "  Downloading eli5-0.11.0-py2.py3-none-any.whl (106 kB)\n",
            "\u001b[?25l\r\u001b[K     |███                             | 10 kB 24.3 MB/s eta 0:00:01\r\u001b[K     |██████▏                         | 20 kB 27.5 MB/s eta 0:00:01\r\u001b[K     |█████████▎                      | 30 kB 29.3 MB/s eta 0:00:01\r\u001b[K     |████████████▍                   | 40 kB 31.1 MB/s eta 0:00:01\r\u001b[K     |███████████████▌                | 51 kB 32.0 MB/s eta 0:00:01\r\u001b[K     |██████████████████▌             | 61 kB 28.9 MB/s eta 0:00:01\r\u001b[K     |█████████████████████▋          | 71 kB 29.2 MB/s eta 0:00:01\r\u001b[K     |████████████████████████▊       | 81 kB 29.9 MB/s eta 0:00:01\r\u001b[K     |███████████████████████████▉    | 92 kB 30.8 MB/s eta 0:00:01\r\u001b[K     |███████████████████████████████ | 102 kB 32.2 MB/s eta 0:00:01\r\u001b[K     |████████████████████████████████| 106 kB 32.2 MB/s \n",
            "\u001b[?25hRequirement already satisfied: numpy>=1.9.0 in /usr/local/lib/python3.7/dist-packages (from eli5) (1.19.5)\n",
            "Requirement already satisfied: scikit-learn>=0.20 in /usr/local/lib/python3.7/dist-packages (from eli5) (0.22.2.post1)\n",
            "Requirement already satisfied: attrs>16.0.0 in /usr/local/lib/python3.7/dist-packages (from eli5) (21.2.0)\n",
            "Requirement already satisfied: scipy in /usr/local/lib/python3.7/dist-packages (from eli5) (1.4.1)\n",
            "Requirement already satisfied: tabulate>=0.7.7 in /usr/local/lib/python3.7/dist-packages (from eli5) (0.8.9)\n",
            "Requirement already satisfied: six in /usr/local/lib/python3.7/dist-packages (from eli5) (1.15.0)\n",
            "Requirement already satisfied: jinja2 in /usr/local/lib/python3.7/dist-packages (from eli5) (2.11.3)\n",
            "Requirement already satisfied: graphviz in /usr/local/lib/python3.7/dist-packages (from eli5) (0.10.1)\n",
            "Requirement already satisfied: joblib>=0.11 in /usr/local/lib/python3.7/dist-packages (from scikit-learn>=0.20->eli5) (1.0.1)\n",
            "Requirement already satisfied: MarkupSafe>=0.23 in /usr/local/lib/python3.7/dist-packages (from jinja2->eli5) (2.0.1)\n",
            "Installing collected packages: eli5\n",
            "Successfully installed eli5-0.11.0\n"
          ]
        }
      ]
    },
    {
      "cell_type": "code",
      "metadata": {
        "colab": {
          "base_uri": "https://localhost:8080/"
        },
        "id": "nFCn-HFM3LYa",
        "outputId": "b8da5596-0f08-4926-eb21-b0decab0ea3f"
      },
      "source": [
        "#For visualisation \n",
        "import matplotlib.pyplot as plt\n",
        "import seaborn as sns\n",
        "sns.set(color_codes=True)\n",
        "sns.set(font_scale=1)\n",
        "%matplotlib inline\n",
        "%config InlineBackend.figure_format = 'svg'\n",
        "\n",
        "# For Modeling\n",
        "from sklearn.ensemble import RandomForestClassifier\n",
        "from sklearn_crfsuite import CRF, scorers, metrics\n",
        "from sklearn_crfsuite.metrics import flat_classification_report\n",
        "from sklearn.metrics import classification_report, make_scorer\n",
        "\n",
        "import scipy.stats\n",
        "import eli5"
      ],
      "execution_count": 19,
      "outputs": [
        {
          "output_type": "stream",
          "name": "stderr",
          "text": [
            "/usr/local/lib/python3.7/dist-packages/sklearn/utils/deprecation.py:144: FutureWarning: The sklearn.feature_selection.base module is  deprecated in version 0.22 and will be removed in version 0.24. The corresponding classes / functions should instead be imported from sklearn.feature_selection. Anything that cannot be imported from sklearn.feature_selection is now part of the private API.\n",
            "  warnings.warn(message, FutureWarning)\n"
          ]
        }
      ]
    },
    {
      "cell_type": "code",
      "metadata": {
        "id": "NvZBRJiD3LgZ"
      },
      "source": [
        "class Get_Sent(object):\n",
        "    \n",
        "    def __init__(self, dataset):\n",
        "        self.n_sent = 1\n",
        "        self.dataset = dataset\n",
        "        self.empty = False\n",
        "        agg_func = lambda s: [(a, b) for a,b in zip(s[\"words\"].values.tolist(),\n",
        "                                                        s[\"labels\"].values.tolist())]\n",
        "        self.grouped = self.dataset.groupby(\"sentence_id\").apply(agg_func)\n",
        "        self.sentences = [x for x in self.grouped]\n",
        "    \n",
        "    def get_next(self):\n",
        "        try:\n",
        "            s = self.grouped[\"Sentence: {}\".format(self.n_sent)]\n",
        "            self.n_sent += 1\n",
        "            return s\n",
        "        except:\n",
        "            return None\n",
        "\n",
        "# calling the Get_Sent function and passing the train dataset      \n",
        "Sent_get= Get_Sent(data)\n",
        "sentences = Sent_get.sentences\n"
      ],
      "execution_count": 20,
      "outputs": []
    },
    {
      "cell_type": "code",
      "metadata": {
        "colab": {
          "base_uri": "https://localhost:8080/"
        },
        "id": "ELB4lXEQ3RWj",
        "outputId": "5489cbd2-9730-460b-da95-26cda15b09a0"
      },
      "source": [
        "# calling the Get_Sent function and passing the test dataset      \n",
        "\n",
        "Sent_get= Get_Sent(data1)\n",
        "sentences1 = Sent_get.sentences\n",
        "\n",
        "#This is how a sentence will look like. \n",
        "print(sentences1[0])\n"
      ],
      "execution_count": 21,
      "outputs": [
        {
          "output_type": "stream",
          "name": "stdout",
          "text": [
            "[('i', 'O'), ('need', 'O'), ('that', 'O'), ('movie', 'O'), ('which', 'O'), ('involves', 'O'), ('aliens', 'B-Plot'), ('invading', 'I-Plot'), ('earth', 'I-Plot'), ('in', 'I-Plot'), ('a', 'I-Plot'), ('particular', 'I-Plot'), ('united', 'I-Plot'), ('states', 'I-Plot'), ('place', 'I-Plot'), ('in', 'I-Plot'), ('california', 'I-Plot')]\n"
          ]
        }
      ]
    },
    {
      "cell_type": "code",
      "metadata": {
        "colab": {
          "base_uri": "https://localhost:8080/"
        },
        "id": "YOIkYsqJ3RaZ",
        "outputId": "457c3e85-78b7-4617-d0e0-ab550c97926b"
      },
      "source": [
        "# feature mapping for the classifier. \n",
        "\n",
        "def create_ft(txt):\n",
        "    return np.array([txt.istitle(), txt.islower(), txt.isupper(), \n",
        "len(txt),txt.isdigit(),  txt.isalpha()])\n",
        "\n",
        "#using the above function created to get the mapping of words for train data.\n",
        "\n",
        "words = [create_ft(x) for x in data[\"words\"].values.tolist()]\n",
        "\n",
        "#lets take unique labels\n",
        "target = data[\"labels\"].values.tolist()\n",
        "\n",
        "#print few words with array\n",
        "print(words[:5])\n",
        "\n"
      ],
      "execution_count": 24,
      "outputs": [
        {
          "output_type": "stream",
          "name": "stdout",
          "text": [
            "[array([0, 1, 0, 5, 0, 1]), array([0, 1, 0, 7, 0, 1]), array([0, 1, 0, 8, 0, 1]), array([0, 1, 0, 1, 0, 1]), array([0, 1, 0, 9, 0, 1])]\n"
          ]
        }
      ]
    },
    {
      "cell_type": "code",
      "metadata": {
        "id": "dh1zhj0e3ReW"
      },
      "source": [
        "#using the above function created to get the mapping of words for test data.\n",
        "words1 = [create_ft(x) for x in data1[\"words\"].values.tolist()]\n",
        "target1 = data1[\"labels\"].values.tolist()\n"
      ],
      "execution_count": 25,
      "outputs": []
    },
    {
      "cell_type": "code",
      "metadata": {
        "colab": {
          "base_uri": "https://localhost:8080/"
        },
        "id": "pIWdfghZ3RiV",
        "outputId": "63961bfb-a1dc-4057-a8d7-0dc41cd5abfe"
      },
      "source": [
        "#importing package\n",
        "from sklearn.model_selection import cross_val_predict\n",
        "\n",
        "# train the RF model\n",
        "Ner_prediction = cross_val_predict(RandomForestClassifier(n_estimators=20),X=words, y=target, cv=10)\n",
        "\n",
        "#import library\n",
        "from sklearn.metrics import classification_report\n",
        "\n",
        "#generate report\n",
        "Accuracy_rpt= classification_report(y_pred= Ner_prediction, y_true=target)\n",
        "print(Accuracy_rpt)\n"
      ],
      "execution_count": 27,
      "outputs": [
        {
          "output_type": "stream",
          "name": "stderr",
          "text": [
            "/usr/local/lib/python3.7/dist-packages/sklearn/metrics/_classification.py:1272: UndefinedMetricWarning: Precision and F-score are ill-defined and being set to 0.0 in labels with no predicted samples. Use `zero_division` parameter to control this behavior.\n",
            "  _warn_prf(average, modifier, msg_start, len(result))\n"
          ]
        },
        {
          "output_type": "stream",
          "name": "stdout",
          "text": [
            "                  precision    recall  f1-score   support\n",
            "\n",
            "         B-Actor       0.00      0.00      0.00      5010\n",
            "         B-Award       0.00      0.00      0.00       309\n",
            "B-Character_Name       0.00      0.00      0.00      1024\n",
            "      B-Director       0.00      0.00      0.00      1787\n",
            "         B-Genre       0.00      0.00      0.00      3384\n",
            "       B-Opinion       0.00      0.00      0.00       810\n",
            "        B-Origin       0.00      0.00      0.00       779\n",
            "          B-Plot       0.00      0.00      0.00      6468\n",
            "         B-Quote       0.00      0.00      0.00       126\n",
            "  B-Relationship       0.00      0.00      0.00       580\n",
            "    B-Soundtrack       0.00      0.00      0.00        50\n",
            "          B-Year       0.88      0.99      0.93      2702\n",
            "         I-Actor       0.51      0.01      0.01      6121\n",
            "         I-Award       0.00      0.00      0.00       719\n",
            "I-Character_Name       0.00      0.00      0.00       760\n",
            "      I-Director       0.00      0.00      0.00      1653\n",
            "         I-Genre       0.00      0.00      0.00      2283\n",
            "       I-Opinion       0.00      0.00      0.00       539\n",
            "        I-Origin       0.00      0.00      0.00      3340\n",
            "          I-Plot       0.45      0.49      0.47     62107\n",
            "         I-Quote       0.00      0.00      0.00       817\n",
            "  I-Relationship       0.00      0.00      0.00      1206\n",
            "    I-Soundtrack       0.00      0.00      0.00       158\n",
            "          I-Year       0.00      0.00      0.00       195\n",
            "               O       0.43      0.68      0.53     55895\n",
            "\n",
            "        accuracy                           0.45    158822\n",
            "       macro avg       0.09      0.09      0.08    158822\n",
            "    weighted avg       0.36      0.45      0.39    158822\n",
            "\n"
          ]
        }
      ]
    },
    {
      "cell_type": "markdown",
      "metadata": {
        "id": "tA8jdEPo4k3J"
      },
      "source": [
        "Feature mapping by adding more features:"
      ]
    },
    {
      "cell_type": "code",
      "metadata": {
        "id": "X-nh6STU3Rl7"
      },
      "source": [
        "from build_features import text_to_features\n",
        "\n",
        "# function to create features\n",
        "def text2num(wrd):\n",
        "    return [text_to_features(wrd, i) for i in range(len(wrd))]\n",
        "\n",
        "# function to create labels\n",
        "def text2lbl(wrd):\n",
        "    return [label for token,label in wrd]\n"
      ],
      "execution_count": 30,
      "outputs": []
    },
    {
      "cell_type": "code",
      "metadata": {
        "id": "1MOgX9r23RpL"
      },
      "source": [
        "X = [text2num(x) for x in sentences]\n",
        "y = [text2lbl(x) for x in sentences]"
      ],
      "execution_count": 32,
      "outputs": []
    },
    {
      "cell_type": "code",
      "metadata": {
        "id": "-YzRH9up5E0Q"
      },
      "source": [
        "test_X = [text2num(x) for x in sentences]\n",
        "test_y = [text2lbl(x) for x in sentences]\n"
      ],
      "execution_count": 33,
      "outputs": []
    },
    {
      "cell_type": "code",
      "metadata": {
        "colab": {
          "base_uri": "https://localhost:8080/"
        },
        "id": "SIih5d4L5FHg",
        "outputId": "cba73f3f-a5d2-4ebe-b624-f8413b99d840"
      },
      "source": [
        "#building the CRF model\n",
        "ner_crf_model = CRF(algorithm='lbfgs',max_iterations=25)\n",
        "\n",
        "#tgraining the model with cross validation of 10\n",
        "ner_predictions = cross_val_predict(estimator=ner_crf_model, X=X, y=y, cv=10)\n"
      ],
      "execution_count": 35,
      "outputs": [
        {
          "output_type": "stream",
          "name": "stderr",
          "text": [
            "/usr/local/lib/python3.7/dist-packages/sklearn/base.py:197: FutureWarning: From version 0.24, get_params will raise an AttributeError if a parameter cannot be retrieved as an instance attribute. Previously it would return None.\n",
            "  FutureWarning)\n",
            "<string>:6: VisibleDeprecationWarning: Creating an ndarray from ragged nested sequences (which is a list-or-tuple of lists-or-tuples-or ndarrays with different lengths or shapes) is deprecated. If you meant to do this, you must specify 'dtype=object' when creating the ndarray\n"
          ]
        }
      ]
    },
    {
      "cell_type": "code",
      "metadata": {
        "colab": {
          "base_uri": "https://localhost:8080/"
        },
        "id": "A27lclEw5FLb",
        "outputId": "df41bc22-008b-4128-ee38-8e0dd771dc1d"
      },
      "source": [
        "Accu_rpt = flat_classification_report(y_pred=ner_predictions, y_true=y)\n",
        "print(Accu_rpt)\n"
      ],
      "execution_count": 36,
      "outputs": [
        {
          "output_type": "stream",
          "name": "stderr",
          "text": [
            "/usr/local/lib/python3.7/dist-packages/sklearn/metrics/_classification.py:1272: UndefinedMetricWarning: Precision and F-score are ill-defined and being set to 0.0 in labels with no predicted samples. Use `zero_division` parameter to control this behavior.\n",
            "  _warn_prf(average, modifier, msg_start, len(result))\n"
          ]
        },
        {
          "output_type": "stream",
          "name": "stdout",
          "text": [
            "                  precision    recall  f1-score   support\n",
            "\n",
            "         B-Actor       0.79      0.69      0.74      5010\n",
            "         B-Award       0.00      0.00      0.00       309\n",
            "B-Character_Name       0.41      0.02      0.03      1024\n",
            "      B-Director       0.78      0.33      0.46      1787\n",
            "         B-Genre       0.70      0.56      0.62      3384\n",
            "       B-Opinion       0.45      0.29      0.35       810\n",
            "        B-Origin       0.47      0.33      0.39       779\n",
            "          B-Plot       0.40      0.39      0.40      6468\n",
            "         B-Quote       0.00      0.00      0.00       126\n",
            "  B-Relationship       0.76      0.03      0.06       580\n",
            "    B-Soundtrack       0.00      0.00      0.00        50\n",
            "          B-Year       0.94      0.96      0.95      2702\n",
            "         I-Actor       0.79      0.65      0.71      6121\n",
            "         I-Award       0.57      0.13      0.21       719\n",
            "I-Character_Name       0.50      0.02      0.04       760\n",
            "      I-Director       0.77      0.34      0.47      1653\n",
            "         I-Genre       0.64      0.56      0.60      2283\n",
            "       I-Opinion       0.00      0.00      0.00       539\n",
            "        I-Origin       0.52      0.63      0.57      3340\n",
            "          I-Plot       0.79      0.92      0.85     62107\n",
            "         I-Quote       0.05      0.09      0.07       817\n",
            "  I-Relationship       0.17      0.01      0.02      1206\n",
            "    I-Soundtrack       0.00      0.00      0.00       158\n",
            "          I-Year       0.00      0.00      0.00       195\n",
            "               O       0.81      0.78      0.80     55895\n",
            "\n",
            "        accuracy                           0.76    158822\n",
            "       macro avg       0.45      0.31      0.33    158822\n",
            "    weighted avg       0.75      0.76      0.74    158822\n",
            "\n"
          ]
        }
      ]
    },
    {
      "cell_type": "code",
      "metadata": {
        "colab": {
          "base_uri": "https://localhost:8080/"
        },
        "id": "HXxB6oNs5FQK",
        "outputId": "919ab989-e498-4594-c2bf-a1cb271a5077"
      },
      "source": [
        "#building the CRF model\n",
        "crf_ner = CRF(algorithm='lbfgs',max_iterations=25)\n",
        "\n",
        "#Fitting model on train data.\n",
        "crf_ner.fit(X,y)\n",
        "\n",
        "# prediction on test data\n",
        "test_prediction=crf_ner.predict(test_X)\n",
        "# get labels\n",
        "lbs=list(crf_ner.classes_)\n",
        "\n",
        "#get accuracy\n",
        "metrics.flat_f1_score(test_y,test_prediction,average='weighted',labels=lbs)\n"
      ],
      "execution_count": 41,
      "outputs": [
        {
          "output_type": "execute_result",
          "data": {
            "text/plain": [
              "0.379142117036823"
            ]
          },
          "metadata": {},
          "execution_count": 41
        }
      ]
    },
    {
      "cell_type": "code",
      "metadata": {
        "colab": {
          "base_uri": "https://localhost:8080/"
        },
        "id": "HkPOI_0v5u02",
        "outputId": "49159faf-9652-4485-e41f-65a02bdd3df4"
      },
      "source": [
        "#sort the labels\n",
        "sorted_lbs=sorted(lbs,key= lambda name:(name[1:],name[0]))\n",
        "\n",
        "#get classification report\n",
        "print(metrics.flat_classification_report(test_y,test_prediction,labels=sorted_lbs,digits=4))\n"
      ],
      "execution_count": 43,
      "outputs": [
        {
          "output_type": "stream",
          "name": "stderr",
          "text": [
            "/usr/local/lib/python3.7/dist-packages/sklearn/metrics/_classification.py:1272: UndefinedMetricWarning: Precision and F-score are ill-defined and being set to 0.0 in labels with no predicted samples. Use `zero_division` parameter to control this behavior.\n",
            "  _warn_prf(average, modifier, msg_start, len(result))\n"
          ]
        },
        {
          "output_type": "stream",
          "name": "stdout",
          "text": [
            "                  precision    recall  f1-score   support\n",
            "\n",
            "               O     0.7103    0.2860    0.4078     55895\n",
            "         B-Actor     0.0000    0.0000    0.0000      5010\n",
            "         I-Actor     0.0000    0.0000    0.0000      6121\n",
            "         B-Award     0.0000    0.0000    0.0000       309\n",
            "         I-Award     0.0000    0.0000    0.0000       719\n",
            "B-Character_Name     0.0000    0.0000    0.0000      1024\n",
            "I-Character_Name     0.0000    0.0000    0.0000       760\n",
            "      B-Director     0.0000    0.0000    0.0000      1787\n",
            "      I-Director     0.0000    0.0000    0.0000      1653\n",
            "         B-Genre     0.0000    0.0000    0.0000      3384\n",
            "         I-Genre     0.0000    0.0000    0.0000      2283\n",
            "       B-Opinion     0.0000    0.0000    0.0000       810\n",
            "       I-Opinion     0.0000    0.0000    0.0000       539\n",
            "        B-Origin     0.0000    0.0000    0.0000       779\n",
            "        I-Origin     0.0000    0.0000    0.0000      3340\n",
            "          B-Plot     0.0000    0.0000    0.0000      6468\n",
            "          I-Plot     0.4385    0.9626    0.6026     62107\n",
            "         B-Quote     0.0000    0.0000    0.0000       126\n",
            "         I-Quote     0.0000    0.0000    0.0000       817\n",
            "  B-Relationship     0.0000    0.0000    0.0000       580\n",
            "  I-Relationship     0.0000    0.0000    0.0000      1206\n",
            "    B-Soundtrack     0.0000    0.0000    0.0000        50\n",
            "    I-Soundtrack     0.0000    0.0000    0.0000       158\n",
            "          B-Year     0.0000    0.0000    0.0000      2702\n",
            "          I-Year     0.0000    0.0000    0.0000       195\n",
            "\n",
            "        accuracy                         0.4771    158822\n",
            "       macro avg     0.0460    0.0499    0.0404    158822\n",
            "    weighted avg     0.4215    0.4771    0.3791    158822\n",
            "\n"
          ]
        }
      ]
    },
    {
      "cell_type": "markdown",
      "metadata": {
        "id": "NcxJQs9j51sb"
      },
      "source": [
        "Prediction on random sentence:"
      ]
    },
    {
      "cell_type": "code",
      "metadata": {
        "colab": {
          "base_uri": "https://localhost:8080/"
        },
        "id": "W9l2ghH_5u42",
        "outputId": "ca3e99bd-c54e-4670-f704-8ac323173272"
      },
      "source": [
        "def text_2_ftr_sample(words):\n",
        "    return [text_to_features(words, i) for i in range(len(words))]\n",
        "\n",
        "#define sample sentence\n",
        "X_sample=['alien invasion is the movie directed by christoper nollen'.split()]\n",
        "\n",
        "#convert to features \n",
        "X_sample1=[text_2_ftr_sample(x) for x in X_sample]\n",
        "\n",
        "#predicting the class\n",
        "crf_ner.predict(X_sample1)\n"
      ],
      "execution_count": 47,
      "outputs": [
        {
          "output_type": "execute_result",
          "data": {
            "text/plain": [
              "[['I-Plot',\n",
              "  'I-Plot',\n",
              "  'I-Plot',\n",
              "  'I-Plot',\n",
              "  'I-Plot',\n",
              "  'I-Plot',\n",
              "  'I-Plot',\n",
              "  'I-Plot',\n",
              "  'I-Plot']]"
            ]
          },
          "metadata": {},
          "execution_count": 47
        }
      ]
    },
    {
      "cell_type": "markdown",
      "metadata": {
        "id": "rUMvZXmz58wy"
      },
      "source": [
        "# BERT Transformer"
      ]
    },
    {
      "cell_type": "code",
      "metadata": {
        "colab": {
          "base_uri": "https://localhost:8080/",
          "height": 1000
        },
        "id": "2cpaM2zJ8Fg1",
        "outputId": "24ae762f-68b8-4691-887f-16966162ca68"
      },
      "source": [
        "#!pip install simpletransformers"
      ],
      "execution_count": 49,
      "outputs": [
        {
          "output_type": "stream",
          "name": "stdout",
          "text": [
            "Collecting simpletransformers\n",
            "  Downloading simpletransformers-0.61.13-py3-none-any.whl (221 kB)\n",
            "\u001b[?25l\r\u001b[K     |█▌                              | 10 kB 24.8 MB/s eta 0:00:01\r\u001b[K     |███                             | 20 kB 28.1 MB/s eta 0:00:01\r\u001b[K     |████▍                           | 30 kB 31.7 MB/s eta 0:00:01\r\u001b[K     |██████                          | 40 kB 33.5 MB/s eta 0:00:01\r\u001b[K     |███████▍                        | 51 kB 36.3 MB/s eta 0:00:01\r\u001b[K     |████████▉                       | 61 kB 33.3 MB/s eta 0:00:01\r\u001b[K     |██████████▍                     | 71 kB 32.0 MB/s eta 0:00:01\r\u001b[K     |███████████▉                    | 81 kB 33.8 MB/s eta 0:00:01\r\u001b[K     |█████████████▎                  | 92 kB 35.6 MB/s eta 0:00:01\r\u001b[K     |██████████████▉                 | 102 kB 31.4 MB/s eta 0:00:01\r\u001b[K     |████████████████▎               | 112 kB 31.4 MB/s eta 0:00:01\r\u001b[K     |█████████████████▊              | 122 kB 31.4 MB/s eta 0:00:01\r\u001b[K     |███████████████████▎            | 133 kB 31.4 MB/s eta 0:00:01\r\u001b[K     |████████████████████▊           | 143 kB 31.4 MB/s eta 0:00:01\r\u001b[K     |██████████████████████▏         | 153 kB 31.4 MB/s eta 0:00:01\r\u001b[K     |███████████████████████▋        | 163 kB 31.4 MB/s eta 0:00:01\r\u001b[K     |█████████████████████████▏      | 174 kB 31.4 MB/s eta 0:00:01\r\u001b[K     |██████████████████████████▋     | 184 kB 31.4 MB/s eta 0:00:01\r\u001b[K     |████████████████████████████    | 194 kB 31.4 MB/s eta 0:00:01\r\u001b[K     |█████████████████████████████▋  | 204 kB 31.4 MB/s eta 0:00:01\r\u001b[K     |███████████████████████████████ | 215 kB 31.4 MB/s eta 0:00:01\r\u001b[K     |████████████████████████████████| 221 kB 31.4 MB/s \n",
            "\u001b[?25hCollecting transformers>=4.2.0\n",
            "  Downloading transformers-4.10.2-py3-none-any.whl (2.8 MB)\n",
            "\u001b[K     |████████████████████████████████| 2.8 MB 33.8 MB/s \n",
            "\u001b[?25hRequirement already satisfied: tqdm>=4.47.0 in /usr/local/lib/python3.7/dist-packages (from simpletransformers) (4.62.2)\n",
            "Requirement already satisfied: requests in /usr/local/lib/python3.7/dist-packages (from simpletransformers) (2.23.0)\n",
            "Collecting datasets\n",
            "  Downloading datasets-1.12.1-py3-none-any.whl (270 kB)\n",
            "\u001b[K     |████████████████████████████████| 270 kB 66.0 MB/s \n",
            "\u001b[?25hRequirement already satisfied: scipy in /usr/local/lib/python3.7/dist-packages (from simpletransformers) (1.4.1)\n",
            "Requirement already satisfied: pandas in /usr/local/lib/python3.7/dist-packages (from simpletransformers) (1.1.5)\n",
            "Collecting wandb>=0.10.32\n",
            "  Downloading wandb-0.12.2-py2.py3-none-any.whl (1.7 MB)\n",
            "\u001b[K     |████████████████████████████████| 1.7 MB 36.0 MB/s \n",
            "\u001b[?25hCollecting tensorboardx\n",
            "  Downloading tensorboardX-2.4-py2.py3-none-any.whl (124 kB)\n",
            "\u001b[K     |████████████████████████████████| 124 kB 54.1 MB/s \n",
            "\u001b[?25hCollecting streamlit\n",
            "  Downloading streamlit-0.88.0-py2.py3-none-any.whl (8.0 MB)\n",
            "\u001b[K     |████████████████████████████████| 8.0 MB 55.7 MB/s \n",
            "\u001b[?25hCollecting tokenizers\n",
            "  Downloading tokenizers-0.10.3-cp37-cp37m-manylinux_2_5_x86_64.manylinux1_x86_64.manylinux_2_12_x86_64.manylinux2010_x86_64.whl (3.3 MB)\n",
            "\u001b[K     |████████████████████████████████| 3.3 MB 27.0 MB/s \n",
            "\u001b[?25hCollecting sentencepiece\n",
            "  Downloading sentencepiece-0.1.96-cp37-cp37m-manylinux_2_17_x86_64.manylinux2014_x86_64.whl (1.2 MB)\n",
            "\u001b[K     |████████████████████████████████| 1.2 MB 52.9 MB/s \n",
            "\u001b[?25hRequirement already satisfied: scikit-learn in /usr/local/lib/python3.7/dist-packages (from simpletransformers) (0.22.2.post1)\n",
            "Requirement already satisfied: numpy in /usr/local/lib/python3.7/dist-packages (from simpletransformers) (1.19.5)\n",
            "Requirement already satisfied: regex in /usr/local/lib/python3.7/dist-packages (from simpletransformers) (2019.12.20)\n",
            "Collecting seqeval\n",
            "  Downloading seqeval-1.2.2.tar.gz (43 kB)\n",
            "\u001b[K     |████████████████████████████████| 43 kB 2.3 MB/s \n",
            "\u001b[?25hRequirement already satisfied: importlib-metadata in /usr/local/lib/python3.7/dist-packages (from transformers>=4.2.0->simpletransformers) (4.8.1)\n",
            "Requirement already satisfied: filelock in /usr/local/lib/python3.7/dist-packages (from transformers>=4.2.0->simpletransformers) (3.0.12)\n",
            "Collecting pyyaml>=5.1\n",
            "  Downloading PyYAML-5.4.1-cp37-cp37m-manylinux1_x86_64.whl (636 kB)\n",
            "\u001b[K     |████████████████████████████████| 636 kB 62.1 MB/s \n",
            "\u001b[?25hRequirement already satisfied: packaging in /usr/local/lib/python3.7/dist-packages (from transformers>=4.2.0->simpletransformers) (21.0)\n",
            "Collecting sacremoses\n",
            "  Downloading sacremoses-0.0.45-py3-none-any.whl (895 kB)\n",
            "\u001b[K     |████████████████████████████████| 895 kB 58.5 MB/s \n",
            "\u001b[?25hCollecting huggingface-hub>=0.0.12\n",
            "  Downloading huggingface_hub-0.0.17-py3-none-any.whl (52 kB)\n",
            "\u001b[K     |████████████████████████████████| 52 kB 1.8 MB/s \n",
            "\u001b[?25hRequirement already satisfied: typing-extensions in /usr/local/lib/python3.7/dist-packages (from huggingface-hub>=0.0.12->transformers>=4.2.0->simpletransformers) (3.7.4.3)\n",
            "Requirement already satisfied: pyparsing>=2.0.2 in /usr/local/lib/python3.7/dist-packages (from packaging->transformers>=4.2.0->simpletransformers) (2.4.7)\n",
            "Collecting configparser>=3.8.1\n",
            "  Downloading configparser-5.0.2-py3-none-any.whl (19 kB)\n",
            "Requirement already satisfied: Click!=8.0.0,>=7.0 in /usr/local/lib/python3.7/dist-packages (from wandb>=0.10.32->simpletransformers) (7.1.2)\n",
            "Collecting shortuuid>=0.5.0\n",
            "  Downloading shortuuid-1.0.1-py3-none-any.whl (7.5 kB)\n",
            "Collecting pathtools\n",
            "  Downloading pathtools-0.1.2.tar.gz (11 kB)\n",
            "Requirement already satisfied: python-dateutil>=2.6.1 in /usr/local/lib/python3.7/dist-packages (from wandb>=0.10.32->simpletransformers) (2.8.2)\n",
            "Requirement already satisfied: promise<3,>=2.0 in /usr/local/lib/python3.7/dist-packages (from wandb>=0.10.32->simpletransformers) (2.3)\n",
            "Requirement already satisfied: protobuf>=3.12.0 in /usr/local/lib/python3.7/dist-packages (from wandb>=0.10.32->simpletransformers) (3.17.3)\n",
            "Collecting yaspin>=1.0.0\n",
            "  Downloading yaspin-2.1.0-py3-none-any.whl (18 kB)\n",
            "Collecting sentry-sdk>=1.0.0\n",
            "  Downloading sentry_sdk-1.3.1-py2.py3-none-any.whl (133 kB)\n",
            "\u001b[K     |████████████████████████████████| 133 kB 57.1 MB/s \n",
            "\u001b[?25hRequirement already satisfied: psutil>=5.0.0 in /usr/local/lib/python3.7/dist-packages (from wandb>=0.10.32->simpletransformers) (5.4.8)\n",
            "Collecting subprocess32>=3.5.3\n",
            "  Downloading subprocess32-3.5.4.tar.gz (97 kB)\n",
            "\u001b[K     |████████████████████████████████| 97 kB 7.0 MB/s \n",
            "\u001b[?25hCollecting docker-pycreds>=0.4.0\n",
            "  Downloading docker_pycreds-0.4.0-py2.py3-none-any.whl (9.0 kB)\n",
            "Requirement already satisfied: six>=1.13.0 in /usr/local/lib/python3.7/dist-packages (from wandb>=0.10.32->simpletransformers) (1.15.0)\n",
            "Collecting GitPython>=1.0.0\n",
            "  Downloading GitPython-3.1.24-py3-none-any.whl (180 kB)\n",
            "\u001b[K     |████████████████████████████████| 180 kB 70.2 MB/s \n",
            "\u001b[?25hCollecting gitdb<5,>=4.0.1\n",
            "  Downloading gitdb-4.0.7-py3-none-any.whl (63 kB)\n",
            "\u001b[K     |████████████████████████████████| 63 kB 1.9 MB/s \n",
            "\u001b[?25hCollecting smmap<5,>=3.0.1\n",
            "  Downloading smmap-4.0.0-py2.py3-none-any.whl (24 kB)\n",
            "Requirement already satisfied: urllib3!=1.25.0,!=1.25.1,<1.26,>=1.21.1 in /usr/local/lib/python3.7/dist-packages (from requests->simpletransformers) (1.24.3)\n",
            "Requirement already satisfied: certifi>=2017.4.17 in /usr/local/lib/python3.7/dist-packages (from requests->simpletransformers) (2021.5.30)\n",
            "Requirement already satisfied: idna<3,>=2.5 in /usr/local/lib/python3.7/dist-packages (from requests->simpletransformers) (2.10)\n",
            "Requirement already satisfied: chardet<4,>=3.0.2 in /usr/local/lib/python3.7/dist-packages (from requests->simpletransformers) (3.0.4)\n",
            "Requirement already satisfied: termcolor<2.0.0,>=1.1.0 in /usr/local/lib/python3.7/dist-packages (from yaspin>=1.0.0->wandb>=0.10.32->simpletransformers) (1.1.0)\n",
            "Requirement already satisfied: dill in /usr/local/lib/python3.7/dist-packages (from datasets->simpletransformers) (0.3.4)\n",
            "Collecting xxhash\n",
            "  Downloading xxhash-2.0.2-cp37-cp37m-manylinux2010_x86_64.whl (243 kB)\n",
            "\u001b[K     |████████████████████████████████| 243 kB 72.4 MB/s \n",
            "\u001b[?25hRequirement already satisfied: multiprocess in /usr/local/lib/python3.7/dist-packages (from datasets->simpletransformers) (0.70.12.2)\n",
            "Requirement already satisfied: pyarrow!=4.0.0,>=1.0.0 in /usr/local/lib/python3.7/dist-packages (from datasets->simpletransformers) (3.0.0)\n",
            "Collecting fsspec[http]>=2021.05.0\n",
            "  Downloading fsspec-2021.8.1-py3-none-any.whl (119 kB)\n",
            "\u001b[K     |████████████████████████████████| 119 kB 75.9 MB/s \n",
            "\u001b[?25hCollecting aiohttp\n",
            "  Downloading aiohttp-3.7.4.post0-cp37-cp37m-manylinux2014_x86_64.whl (1.3 MB)\n",
            "\u001b[K     |████████████████████████████████| 1.3 MB 74.0 MB/s \n",
            "\u001b[?25hCollecting async-timeout<4.0,>=3.0\n",
            "  Downloading async_timeout-3.0.1-py3-none-any.whl (8.2 kB)\n",
            "Requirement already satisfied: attrs>=17.3.0 in /usr/local/lib/python3.7/dist-packages (from aiohttp->datasets->simpletransformers) (21.2.0)\n",
            "Collecting yarl<2.0,>=1.0\n",
            "  Downloading yarl-1.6.3-cp37-cp37m-manylinux2014_x86_64.whl (294 kB)\n",
            "\u001b[K     |████████████████████████████████| 294 kB 42.0 MB/s \n",
            "\u001b[?25hCollecting multidict<7.0,>=4.5\n",
            "  Downloading multidict-5.1.0-cp37-cp37m-manylinux2014_x86_64.whl (142 kB)\n",
            "\u001b[K     |████████████████████████████████| 142 kB 59.4 MB/s \n",
            "\u001b[?25hRequirement already satisfied: zipp>=0.5 in /usr/local/lib/python3.7/dist-packages (from importlib-metadata->transformers>=4.2.0->simpletransformers) (3.5.0)\n",
            "Requirement already satisfied: pytz>=2017.2 in /usr/local/lib/python3.7/dist-packages (from pandas->simpletransformers) (2018.9)\n",
            "Requirement already satisfied: joblib in /usr/local/lib/python3.7/dist-packages (from sacremoses->transformers>=4.2.0->simpletransformers) (1.0.1)\n",
            "Requirement already satisfied: altair>=3.2.0 in /usr/local/lib/python3.7/dist-packages (from streamlit->simpletransformers) (4.1.0)\n",
            "Collecting blinker\n",
            "  Downloading blinker-1.4.tar.gz (111 kB)\n",
            "\u001b[K     |████████████████████████████████| 111 kB 62.7 MB/s \n",
            "\u001b[?25hRequirement already satisfied: cachetools>=4.0 in /usr/local/lib/python3.7/dist-packages (from streamlit->simpletransformers) (4.2.2)\n",
            "Requirement already satisfied: toml in /usr/local/lib/python3.7/dist-packages (from streamlit->simpletransformers) (0.10.2)\n",
            "Collecting pydeck>=0.1.dev5\n",
            "  Downloading pydeck-0.7.0-py2.py3-none-any.whl (4.3 MB)\n",
            "\u001b[K     |████████████████████████████████| 4.3 MB 14.0 MB/s \n",
            "\u001b[?25hRequirement already satisfied: tornado>=5.0 in /usr/local/lib/python3.7/dist-packages (from streamlit->simpletransformers) (5.1.1)\n",
            "Collecting watchdog\n",
            "  Downloading watchdog-2.1.5-py3-none-manylinux2014_x86_64.whl (75 kB)\n",
            "\u001b[K     |████████████████████████████████| 75 kB 5.0 MB/s \n",
            "\u001b[?25hCollecting base58\n",
            "  Downloading base58-2.1.0-py3-none-any.whl (5.6 kB)\n",
            "Collecting validators\n",
            "  Downloading validators-0.18.2-py3-none-any.whl (19 kB)\n",
            "Requirement already satisfied: tzlocal in /usr/local/lib/python3.7/dist-packages (from streamlit->simpletransformers) (1.5.1)\n",
            "Requirement already satisfied: pillow>=6.2.0 in /usr/local/lib/python3.7/dist-packages (from streamlit->simpletransformers) (7.1.2)\n",
            "Requirement already satisfied: astor in /usr/local/lib/python3.7/dist-packages (from streamlit->simpletransformers) (0.8.1)\n",
            "Requirement already satisfied: jsonschema in /usr/local/lib/python3.7/dist-packages (from altair>=3.2.0->streamlit->simpletransformers) (2.6.0)\n",
            "Requirement already satisfied: toolz in /usr/local/lib/python3.7/dist-packages (from altair>=3.2.0->streamlit->simpletransformers) (0.11.1)\n",
            "Requirement already satisfied: entrypoints in /usr/local/lib/python3.7/dist-packages (from altair>=3.2.0->streamlit->simpletransformers) (0.3)\n",
            "Requirement already satisfied: jinja2 in /usr/local/lib/python3.7/dist-packages (from altair>=3.2.0->streamlit->simpletransformers) (2.11.3)\n",
            "Requirement already satisfied: traitlets>=4.3.2 in /usr/local/lib/python3.7/dist-packages (from pydeck>=0.1.dev5->streamlit->simpletransformers) (5.1.0)\n",
            "Collecting ipykernel>=5.1.2\n",
            "  Downloading ipykernel-6.4.1-py3-none-any.whl (124 kB)\n",
            "\u001b[K     |████████████████████████████████| 124 kB 60.7 MB/s \n",
            "\u001b[?25hRequirement already satisfied: ipywidgets>=7.0.0 in /usr/local/lib/python3.7/dist-packages (from pydeck>=0.1.dev5->streamlit->simpletransformers) (7.6.5)\n",
            "Requirement already satisfied: jupyter-client<8.0 in /usr/local/lib/python3.7/dist-packages (from ipykernel>=5.1.2->pydeck>=0.1.dev5->streamlit->simpletransformers) (5.3.5)\n",
            "Requirement already satisfied: ipython-genutils in /usr/local/lib/python3.7/dist-packages (from ipykernel>=5.1.2->pydeck>=0.1.dev5->streamlit->simpletransformers) (0.2.0)\n",
            "Requirement already satisfied: argcomplete>=1.12.3 in /usr/local/lib/python3.7/dist-packages (from ipykernel>=5.1.2->pydeck>=0.1.dev5->streamlit->simpletransformers) (1.12.3)\n",
            "Requirement already satisfied: debugpy<2.0,>=1.0.0 in /usr/local/lib/python3.7/dist-packages (from ipykernel>=5.1.2->pydeck>=0.1.dev5->streamlit->simpletransformers) (1.0.0)\n",
            "Collecting ipython<8.0,>=7.23.1\n",
            "  Downloading ipython-7.27.0-py3-none-any.whl (787 kB)\n",
            "\u001b[K     |████████████████████████████████| 787 kB 60.9 MB/s \n",
            "\u001b[?25hRequirement already satisfied: matplotlib-inline<0.2.0,>=0.1.0 in /usr/local/lib/python3.7/dist-packages (from ipykernel>=5.1.2->pydeck>=0.1.dev5->streamlit->simpletransformers) (0.1.3)\n",
            "Requirement already satisfied: pygments in /usr/local/lib/python3.7/dist-packages (from ipython<8.0,>=7.23.1->ipykernel>=5.1.2->pydeck>=0.1.dev5->streamlit->simpletransformers) (2.6.1)\n",
            "Requirement already satisfied: backcall in /usr/local/lib/python3.7/dist-packages (from ipython<8.0,>=7.23.1->ipykernel>=5.1.2->pydeck>=0.1.dev5->streamlit->simpletransformers) (0.2.0)\n",
            "Requirement already satisfied: decorator in /usr/local/lib/python3.7/dist-packages (from ipython<8.0,>=7.23.1->ipykernel>=5.1.2->pydeck>=0.1.dev5->streamlit->simpletransformers) (4.4.2)\n",
            "Requirement already satisfied: setuptools>=18.5 in /usr/local/lib/python3.7/dist-packages (from ipython<8.0,>=7.23.1->ipykernel>=5.1.2->pydeck>=0.1.dev5->streamlit->simpletransformers) (57.4.0)\n",
            "Requirement already satisfied: jedi>=0.16 in /usr/local/lib/python3.7/dist-packages (from ipython<8.0,>=7.23.1->ipykernel>=5.1.2->pydeck>=0.1.dev5->streamlit->simpletransformers) (0.18.0)\n",
            "Requirement already satisfied: pexpect>4.3 in /usr/local/lib/python3.7/dist-packages (from ipython<8.0,>=7.23.1->ipykernel>=5.1.2->pydeck>=0.1.dev5->streamlit->simpletransformers) (4.8.0)\n",
            "Requirement already satisfied: pickleshare in /usr/local/lib/python3.7/dist-packages (from ipython<8.0,>=7.23.1->ipykernel>=5.1.2->pydeck>=0.1.dev5->streamlit->simpletransformers) (0.7.5)\n",
            "Collecting prompt-toolkit!=3.0.0,!=3.0.1,<3.1.0,>=2.0.0\n",
            "  Downloading prompt_toolkit-3.0.20-py3-none-any.whl (370 kB)\n",
            "\u001b[K     |████████████████████████████████| 370 kB 60.5 MB/s \n",
            "\u001b[?25hRequirement already satisfied: jupyterlab-widgets>=1.0.0 in /usr/local/lib/python3.7/dist-packages (from ipywidgets>=7.0.0->pydeck>=0.1.dev5->streamlit->simpletransformers) (1.0.2)\n",
            "Requirement already satisfied: nbformat>=4.2.0 in /usr/local/lib/python3.7/dist-packages (from ipywidgets>=7.0.0->pydeck>=0.1.dev5->streamlit->simpletransformers) (5.1.3)\n",
            "Requirement already satisfied: widgetsnbextension~=3.5.0 in /usr/local/lib/python3.7/dist-packages (from ipywidgets>=7.0.0->pydeck>=0.1.dev5->streamlit->simpletransformers) (3.5.1)\n",
            "Requirement already satisfied: parso<0.9.0,>=0.8.0 in /usr/local/lib/python3.7/dist-packages (from jedi>=0.16->ipython<8.0,>=7.23.1->ipykernel>=5.1.2->pydeck>=0.1.dev5->streamlit->simpletransformers) (0.8.2)\n",
            "Requirement already satisfied: MarkupSafe>=0.23 in /usr/local/lib/python3.7/dist-packages (from jinja2->altair>=3.2.0->streamlit->simpletransformers) (2.0.1)\n",
            "Requirement already satisfied: pyzmq>=13 in /usr/local/lib/python3.7/dist-packages (from jupyter-client<8.0->ipykernel>=5.1.2->pydeck>=0.1.dev5->streamlit->simpletransformers) (22.2.1)\n",
            "Requirement already satisfied: jupyter-core>=4.6.0 in /usr/local/lib/python3.7/dist-packages (from jupyter-client<8.0->ipykernel>=5.1.2->pydeck>=0.1.dev5->streamlit->simpletransformers) (4.7.1)\n",
            "Requirement already satisfied: ptyprocess>=0.5 in /usr/local/lib/python3.7/dist-packages (from pexpect>4.3->ipython<8.0,>=7.23.1->ipykernel>=5.1.2->pydeck>=0.1.dev5->streamlit->simpletransformers) (0.7.0)\n",
            "Requirement already satisfied: wcwidth in /usr/local/lib/python3.7/dist-packages (from prompt-toolkit!=3.0.0,!=3.0.1,<3.1.0,>=2.0.0->ipython<8.0,>=7.23.1->ipykernel>=5.1.2->pydeck>=0.1.dev5->streamlit->simpletransformers) (0.2.5)\n",
            "Requirement already satisfied: notebook>=4.4.1 in /usr/local/lib/python3.7/dist-packages (from widgetsnbextension~=3.5.0->ipywidgets>=7.0.0->pydeck>=0.1.dev5->streamlit->simpletransformers) (5.3.1)\n",
            "Requirement already satisfied: terminado>=0.8.1 in /usr/local/lib/python3.7/dist-packages (from notebook>=4.4.1->widgetsnbextension~=3.5.0->ipywidgets>=7.0.0->pydeck>=0.1.dev5->streamlit->simpletransformers) (0.12.1)\n",
            "Requirement already satisfied: nbconvert in /usr/local/lib/python3.7/dist-packages (from notebook>=4.4.1->widgetsnbextension~=3.5.0->ipywidgets>=7.0.0->pydeck>=0.1.dev5->streamlit->simpletransformers) (5.6.1)\n",
            "Requirement already satisfied: Send2Trash in /usr/local/lib/python3.7/dist-packages (from notebook>=4.4.1->widgetsnbextension~=3.5.0->ipywidgets>=7.0.0->pydeck>=0.1.dev5->streamlit->simpletransformers) (1.8.0)\n",
            "Requirement already satisfied: testpath in /usr/local/lib/python3.7/dist-packages (from nbconvert->notebook>=4.4.1->widgetsnbextension~=3.5.0->ipywidgets>=7.0.0->pydeck>=0.1.dev5->streamlit->simpletransformers) (0.5.0)\n",
            "Requirement already satisfied: pandocfilters>=1.4.1 in /usr/local/lib/python3.7/dist-packages (from nbconvert->notebook>=4.4.1->widgetsnbextension~=3.5.0->ipywidgets>=7.0.0->pydeck>=0.1.dev5->streamlit->simpletransformers) (1.5.0)\n",
            "Requirement already satisfied: defusedxml in /usr/local/lib/python3.7/dist-packages (from nbconvert->notebook>=4.4.1->widgetsnbextension~=3.5.0->ipywidgets>=7.0.0->pydeck>=0.1.dev5->streamlit->simpletransformers) (0.7.1)\n",
            "Requirement already satisfied: mistune<2,>=0.8.1 in /usr/local/lib/python3.7/dist-packages (from nbconvert->notebook>=4.4.1->widgetsnbextension~=3.5.0->ipywidgets>=7.0.0->pydeck>=0.1.dev5->streamlit->simpletransformers) (0.8.4)\n",
            "Requirement already satisfied: bleach in /usr/local/lib/python3.7/dist-packages (from nbconvert->notebook>=4.4.1->widgetsnbextension~=3.5.0->ipywidgets>=7.0.0->pydeck>=0.1.dev5->streamlit->simpletransformers) (4.1.0)\n",
            "Requirement already satisfied: webencodings in /usr/local/lib/python3.7/dist-packages (from bleach->nbconvert->notebook>=4.4.1->widgetsnbextension~=3.5.0->ipywidgets>=7.0.0->pydeck>=0.1.dev5->streamlit->simpletransformers) (0.5.1)\n",
            "Building wheels for collected packages: subprocess32, pathtools, seqeval, blinker\n",
            "  Building wheel for subprocess32 (setup.py) ... \u001b[?25l\u001b[?25hdone\n",
            "  Created wheel for subprocess32: filename=subprocess32-3.5.4-py3-none-any.whl size=6502 sha256=cc7ef8f8ee8d8d38c66a16968cc31ed86c110bc5b2d9b07964179d57a257018e\n",
            "  Stored in directory: /root/.cache/pip/wheels/50/ca/fa/8fca8d246e64f19488d07567547ddec8eb084e8c0d7a59226a\n",
            "  Building wheel for pathtools (setup.py) ... \u001b[?25l\u001b[?25hdone\n",
            "  Created wheel for pathtools: filename=pathtools-0.1.2-py3-none-any.whl size=8807 sha256=c24114de0567b749a05f6b6432427f608b432c4f428f0f87739a757e00432d30\n",
            "  Stored in directory: /root/.cache/pip/wheels/3e/31/09/fa59cef12cdcfecc627b3d24273699f390e71828921b2cbba2\n",
            "  Building wheel for seqeval (setup.py) ... \u001b[?25l\u001b[?25hdone\n",
            "  Created wheel for seqeval: filename=seqeval-1.2.2-py3-none-any.whl size=16181 sha256=52b835e3fcf8edcedda4c03de9ba73b1fc593868e95fcebdc0003ff9f1aba2a4\n",
            "  Stored in directory: /root/.cache/pip/wheels/05/96/ee/7cac4e74f3b19e3158dce26a20a1c86b3533c43ec72a549fd7\n",
            "  Building wheel for blinker (setup.py) ... \u001b[?25l\u001b[?25hdone\n",
            "  Created wheel for blinker: filename=blinker-1.4-py3-none-any.whl size=13478 sha256=0eaa6bac534c1e28c11cb0c2aa8d024dfcd091f58841f507c239e9fd3cbbbbef\n",
            "  Stored in directory: /root/.cache/pip/wheels/22/f5/18/df711b66eb25b21325c132757d4314db9ac5e8dabeaf196eab\n",
            "Successfully built subprocess32 pathtools seqeval blinker\n",
            "Installing collected packages: prompt-toolkit, ipython, ipykernel, multidict, yarl, smmap, async-timeout, gitdb, fsspec, aiohttp, yaspin, xxhash, watchdog, validators, tokenizers, subprocess32, shortuuid, sentry-sdk, sacremoses, pyyaml, pydeck, pathtools, huggingface-hub, GitPython, docker-pycreds, configparser, blinker, base58, wandb, transformers, tensorboardx, streamlit, seqeval, sentencepiece, datasets, simpletransformers\n",
            "  Attempting uninstall: prompt-toolkit\n",
            "    Found existing installation: prompt-toolkit 1.0.18\n",
            "    Uninstalling prompt-toolkit-1.0.18:\n",
            "      Successfully uninstalled prompt-toolkit-1.0.18\n",
            "  Attempting uninstall: ipython\n",
            "    Found existing installation: ipython 5.5.0\n",
            "    Uninstalling ipython-5.5.0:\n",
            "      Successfully uninstalled ipython-5.5.0\n",
            "  Attempting uninstall: ipykernel\n",
            "    Found existing installation: ipykernel 4.10.1\n",
            "    Uninstalling ipykernel-4.10.1:\n",
            "      Successfully uninstalled ipykernel-4.10.1\n",
            "  Attempting uninstall: pyyaml\n",
            "    Found existing installation: PyYAML 3.13\n",
            "    Uninstalling PyYAML-3.13:\n",
            "      Successfully uninstalled PyYAML-3.13\n",
            "\u001b[31mERROR: pip's dependency resolver does not currently take into account all the packages that are installed. This behaviour is the source of the following dependency conflicts.\n",
            "jupyter-console 5.2.0 requires prompt-toolkit<2.0.0,>=1.0.0, but you have prompt-toolkit 3.0.20 which is incompatible.\n",
            "google-colab 1.0.0 requires ipykernel~=4.10, but you have ipykernel 6.4.1 which is incompatible.\n",
            "google-colab 1.0.0 requires ipython~=5.5.0, but you have ipython 7.27.0 which is incompatible.\u001b[0m\n",
            "Successfully installed GitPython-3.1.24 aiohttp-3.7.4.post0 async-timeout-3.0.1 base58-2.1.0 blinker-1.4 configparser-5.0.2 datasets-1.12.1 docker-pycreds-0.4.0 fsspec-2021.8.1 gitdb-4.0.7 huggingface-hub-0.0.17 ipykernel-6.4.1 ipython-7.27.0 multidict-5.1.0 pathtools-0.1.2 prompt-toolkit-3.0.20 pydeck-0.7.0 pyyaml-5.4.1 sacremoses-0.0.45 sentencepiece-0.1.96 sentry-sdk-1.3.1 seqeval-1.2.2 shortuuid-1.0.1 simpletransformers-0.61.13 smmap-4.0.0 streamlit-0.88.0 subprocess32-3.5.4 tensorboardx-2.4 tokenizers-0.10.3 transformers-4.10.2 validators-0.18.2 wandb-0.12.2 watchdog-2.1.5 xxhash-2.0.2 yarl-1.6.3 yaspin-2.1.0\n"
          ]
        },
        {
          "output_type": "display_data",
          "data": {
            "application/vnd.colab-display-data+json": {
              "pip_warning": {
                "packages": [
                  "IPython",
                  "ipykernel",
                  "prompt_toolkit"
                ]
              }
            }
          },
          "metadata": {}
        }
      ]
    },
    {
      "cell_type": "code",
      "metadata": {
        "id": "6IiO4iHX5u-N"
      },
      "source": [
        "#importing necessary libraries\n",
        "from sklearn.preprocessing import LabelEncoder\n",
        "from sklearn.model_selection import train_test_split\n",
        "from sklearn.metrics import accuracy_score\n",
        "from sklearn.metrics import classification_report, make_scorer\n",
        "\n",
        "#importing NER models from simple transformers\n",
        "from simpletransformers.ner import NERModel,NERArgs\n",
        "\n",
        "#importing libraries for evaluation\n",
        "from sklearn_crfsuite.metrics import flat_classification_report\n",
        "from sklearn_crfsuite import CRF, scorers, metrics\n"
      ],
      "execution_count": 50,
      "outputs": []
    },
    {
      "cell_type": "code",
      "metadata": {
        "id": "vh46rF9u6IDm"
      },
      "source": [
        "#encoding sentence values  \n",
        "data[\"sentence_id\"] = LabelEncoder().fit_transform(data[\"sentence_id\"] )\n",
        "data1[\"sentence_id\"] = LabelEncoder().fit_transform(data1[\"sentence_id\"] )\n",
        "\n",
        "#converting labels to upper string as it is required format\n",
        "data[\"labels\"] = data[\"labels\"].str.upper()\n",
        "data1[\"labels\"] = data1[\"labels\"].str.upper()\n",
        "\n",
        "X= data[[\"sentence_id\",\"words\"]]\n",
        "Y =data[\"labels\"]\n",
        "\n",
        "#building up train and test data to dataframe \n",
        "ner_tr_dt = pd.DataFrame({\"sentence_id\":data[\"sentence_id\"],\"words\":data[\"words\"],\"labels\":data[\"labels\"]})\n",
        "test_data = pd.DataFrame({\"sentence_id\":data1[\"sentence_id\"],\"words\":data1[\"words\"],\"labels\":data1[\"labels\"]})\n"
      ],
      "execution_count": 52,
      "outputs": []
    },
    {
      "cell_type": "code",
      "metadata": {
        "id": "Zo9da7c-6IHu"
      },
      "source": [
        "#label values\n",
        "label = ner_tr_dt[\"labels\"].unique().tolist()\n"
      ],
      "execution_count": 53,
      "outputs": []
    },
    {
      "cell_type": "markdown",
      "metadata": {
        "id": "nNRms6XV9RQT"
      },
      "source": [
        "Training"
      ]
    },
    {
      "cell_type": "code",
      "metadata": {
        "id": "0Rr2hwLx9kor"
      },
      "source": [
        "#fine tuning our model on custom data\n",
        "args = NERArgs()\n",
        "\n",
        "#set the # of epoch\n",
        "args.num_train_epochs = 2\n",
        "\n",
        "#learning reate\n",
        "args.learning_rate = 1e-6\n",
        "args.overwrite_output_dir =True\n",
        "\n",
        "#train and evaluation batch size\n",
        "args.train_batch_size = 6\n",
        "args.eval_batch_size = 6\n",
        "\n",
        "#initializing the model \n",
        "Ner_bert_mdl= NERModel('bert', 'bert-base-cased',labels=label,args =args,use_cuda=False)\n",
        "\n",
        "#training our model\n",
        "Ner_bert_mdl.train_model(ner_tr_dt,eval_data = test_data,acc=accuracy_score)"
      ],
      "execution_count": null,
      "outputs": []
    },
    {
      "cell_type": "code",
      "metadata": {
        "id": "75F-eAVD6INZ"
      },
      "source": [
        "function to store labels and words of each sentence in list \n",
        "\n",
        "class sent_generate(object):\n",
        "    \n",
        "    def __init__(self, data):\n",
        "        self.n_sent = 1.0\n",
        "        self.data = data\n",
        "        self.empty = False\n",
        "        fn_group = lambda s: [(a, b) for a,b in zip(s[\"words\"].values.tolist(),s[\"labels\"].values.tolist())]\n",
        "        self.grouped = self.data.groupby(\"sentence_id\").apply(fn_group)\n",
        "        self.sentences = [x for x in self.grouped]\n",
        "\n",
        "#storing words and labels of each sentence in single list of train data\n",
        "\n",
        "Sent_get= sent_generate(ner_tr_dt)\n",
        "sentences = Sent_get.sentences\n",
        "\n",
        "#This is how a sentence will look like. \n",
        "print(sentences[0])\n",
        "def txt_2_lbs(sent):\n",
        "    return [label for token,label in sent]\n",
        "\n",
        "y_train_group = [txt_2_lbs(x) for x in sentences]\n"
      ],
      "execution_count": null,
      "outputs": []
    },
    {
      "cell_type": "code",
      "metadata": {
        "id": "kaho0AOZ86ra"
      },
      "source": [
        "#storing words and labels of each sentence in single list of test data\n",
        "Sent_get= sent_generate(test_data)\n",
        "sentences = Sent_get.sentences\n",
        "\n",
        "#This is how a sentence will look like. \n",
        "print(sentences[0])\n",
        "\n",
        "def txt_2_lbs(sent):\n",
        "    return [label for token,label in sent]\n",
        "\n",
        "y_test = [txt_2_lbs(x) for x in sentences] \n"
      ],
      "execution_count": null,
      "outputs": []
    },
    {
      "cell_type": "markdown",
      "metadata": {
        "id": "1VcdQxKM9Nzv"
      },
      "source": [
        "Evaluation"
      ]
    },
    {
      "cell_type": "code",
      "metadata": {
        "id": "GgbWNgB286v3"
      },
      "source": [
        "#evaluating on test data\n",
        "result, model_outputs, preds_list = Ner_bert_mdl.eval_model(test_data)\n",
        "\n",
        "#individual group report \n",
        "accu_rpt = flat_classification_report(y_pred=preds_list, y_true=y_test)\n",
        "print(accu_rpt)\n"
      ],
      "execution_count": null,
      "outputs": []
    },
    {
      "cell_type": "code",
      "metadata": {
        "id": "v0wNsBPL86yM"
      },
      "source": [
        "#evaluating on train data\n",
        "result_train, model_outputs_train, preds_list_train = Ner_bert_mdl.eval_model(ner_tr_dt)\n",
        "\n",
        "#individual group report of train data\n",
        "report_train = flat_classification_report(y_pred=preds_list, y_true=y_train_group)\n",
        "print(report_train)\n"
      ],
      "execution_count": null,
      "outputs": []
    },
    {
      "cell_type": "markdown",
      "metadata": {
        "id": "zSOQj41p9JOI"
      },
      "source": [
        "Predicting on sentence"
      ]
    },
    {
      "cell_type": "code",
      "metadata": {
        "id": "U6J5wba3862H"
      },
      "source": [
        "prediction, model_output = Ner_bert_mdl.predict([\"aliens invading is movie by christoper nollen\"])"
      ],
      "execution_count": null,
      "outputs": []
    }
  ]
}